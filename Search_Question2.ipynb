{
  "nbformat": 4,
  "nbformat_minor": 0,
  "metadata": {
    "colab": {
      "name": "Search-Question2.ipynb",
      "provenance": [],
      "authorship_tag": "ABX9TyMe41JThcCcSEhsyHakH6ca",
      "include_colab_link": true
    },
    "kernelspec": {
      "name": "python3",
      "display_name": "Python 3"
    }
  },
  "cells": [
    {
      "cell_type": "markdown",
      "metadata": {
        "id": "view-in-github",
        "colab_type": "text"
      },
      "source": [
        "<a href=\"https://colab.research.google.com/github/yooshin2/Algorithm-Test/blob/main/Search_Question2.ipynb\" target=\"_parent\"><img src=\"https://colab.research.google.com/assets/colab-badge.svg\" alt=\"Open In Colab\"/></a>"
      ]
    },
    {
      "cell_type": "code",
      "metadata": {
        "colab": {
          "base_uri": "https://localhost:8080/"
        },
        "id": "gpSqaqtYf-jJ",
        "outputId": "591cf31b-b039-4f03-b8c5-14e9b4ba3c66"
      },
      "source": [
        "n, c = map(int, input().split())\r\n",
        "\r\n",
        "houses = []\r\n",
        "for _ in range(n):\r\n",
        "    houses.append(int(input()))\r\n",
        "houses.sort()\r\n",
        "\r\n",
        "start = houses[1] - houses[0]\r\n",
        "end = houses[-1] - houses[0]\r\n",
        "result = 0\r\n",
        "\r\n",
        "while(start <= end):\r\n",
        "    mid = (start + end) // 2\r\n",
        "    value = houses[0]\r\n",
        "    count = 1\r\n",
        "    for i in range(1, n):\r\n",
        "        if houses[i] >= value + mid:\r\n",
        "            value = houses[i]\r\n",
        "            count += 1\r\n",
        "    if count >= c:\r\n",
        "        start = mid + 1\r\n",
        "        result = mid\r\n",
        "    else:\r\n",
        "        end = mid - 1 \r\n",
        "\r\n",
        "print(result)"
      ],
      "execution_count": 11,
      "outputs": [
        {
          "output_type": "stream",
          "text": [
            "5 3\n",
            "1\n",
            "2\n",
            "8\n",
            "6\n",
            "13\n",
            "5\n"
          ],
          "name": "stdout"
        }
      ]
    }
  ]
}