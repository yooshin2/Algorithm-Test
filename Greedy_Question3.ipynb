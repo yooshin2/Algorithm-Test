{
  "nbformat": 4,
  "nbformat_minor": 0,
  "metadata": {
    "colab": {
      "name": "Greedy-Question3.ipynb",
      "provenance": [],
      "authorship_tag": "ABX9TyMHyVPRx7N5A4xAYPbHQ5Dj",
      "include_colab_link": true
    },
    "kernelspec": {
      "name": "python3",
      "display_name": "Python 3"
    }
  },
  "cells": [
    {
      "cell_type": "markdown",
      "metadata": {
        "id": "view-in-github",
        "colab_type": "text"
      },
      "source": [
        "<a href=\"https://colab.research.google.com/github/yooshin2/Algorithm-Test/blob/main/Greedy_Question3.ipynb\" target=\"_parent\"><img src=\"https://colab.research.google.com/assets/colab-badge.svg\" alt=\"Open In Colab\"/></a>"
      ]
    },
    {
      "cell_type": "code",
      "metadata": {
        "id": "HsnQKe5IP2Uc",
        "colab": {
          "base_uri": "https://localhost:8080/"
        },
        "outputId": "af36666d-aae8-4529-af8a-3f7af7be93f5"
      },
      "source": [
        "import heapq\r\n",
        "\r\n",
        "def solution(food_times, k):\r\n",
        "    if sum(food_times) <= k:\r\n",
        "        return -1\r\n",
        "    \r\n",
        "    q = []\r\n",
        "    for i in range(len(food_times)):\r\n",
        "        heapq.heappush(q, (food_times[i], i + 1))\r\n",
        "\r\n",
        "    sum_value = 0\r\n",
        "    previous = 0\r\n",
        "    length = len(food_times)\r\n",
        "\r\n",
        "    while sum_value + ((q[0][0] - previous) * length) <= k:\r\n",
        "        now = heapq.heappop(q)[0]\r\n",
        "        sum_value += (now - previous) * length\r\n",
        "        length -= 1\r\n",
        "        previous = now\r\n",
        "\r\n",
        "    result = sorted(q, key=lambda x: x[1])\r\n",
        "    return result[(k - sum_value) % length][1]\r\n",
        "\r\n",
        "food_times = [3, 1, 2]\r\n",
        "k = 5\r\n",
        "\r\n",
        "print(solution(food_times, k))"
      ],
      "execution_count": 7,
      "outputs": [
        {
          "output_type": "stream",
          "text": [
            "1\n"
          ],
          "name": "stdout"
        }
      ]
    }
  ]
}