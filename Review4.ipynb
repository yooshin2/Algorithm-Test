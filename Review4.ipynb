{
  "nbformat": 4,
  "nbformat_minor": 0,
  "metadata": {
    "colab": {
      "name": "Review4.ipynb",
      "provenance": [],
      "authorship_tag": "ABX9TyMZborrB9wJyvQ2UgVTXyk7",
      "include_colab_link": true
    },
    "kernelspec": {
      "name": "python3",
      "display_name": "Python 3"
    }
  },
  "cells": [
    {
      "cell_type": "markdown",
      "metadata": {
        "id": "view-in-github",
        "colab_type": "text"
      },
      "source": [
        "<a href=\"https://colab.research.google.com/github/yooshin2/Algorithm-Test/blob/main/Review4.ipynb\" target=\"_parent\"><img src=\"https://colab.research.google.com/assets/colab-badge.svg\" alt=\"Open In Colab\"/></a>"
      ]
    },
    {
      "cell_type": "code",
      "metadata": {
        "colab": {
          "base_uri": "https://localhost:8080/"
        },
        "id": "hkfblJ4Ek6Zy",
        "outputId": "fb8a3028-9dca-4e46-c048-9465f61b85ad"
      },
      "source": [
        "# Dijkstra Algorithm\r\n",
        "\r\n",
        "import heapq\r\n",
        "INF = int(1e9)\r\n",
        "\r\n",
        "n, m = map(int, input().split())\r\n",
        "start = int(input())\r\n",
        "graph = [[] for _ in range(n + 1)]\r\n",
        "distance = [INF] * (n + 1)\r\n",
        "\r\n",
        "for _ in range(m):\r\n",
        "    a, b, c = map(int, input().split())\r\n",
        "    graph[a].append((b, c))\r\n",
        "\r\n",
        "def dijkstra(start):\r\n",
        "    q = []\r\n",
        "    heapq.heappush(q, (0, start))\r\n",
        "    distance[start] = 0\r\n",
        "    while q:\r\n",
        "        dist, now = heapq.heappop(q)\r\n",
        "        if distance[now] < dist:\r\n",
        "            continue\r\n",
        "        for i in graph[now]:\r\n",
        "            cost = dist + i[1]\r\n",
        "            if cost < distance[i[0]]:\r\n",
        "                distance[i[0]] = cost\r\n",
        "                heapq.heappush(q, (cost, i[0]))\r\n",
        "\r\n",
        "dijkstra(start)\r\n",
        "\r\n",
        "for i in range(1, n + 1):\r\n",
        "    if distance[i] == INF:\r\n",
        "        print(\"IMPOSSIBLE\")\r\n",
        "    else:\r\n",
        "        print(distance[i])"
      ],
      "execution_count": 2,
      "outputs": [
        {
          "output_type": "stream",
          "text": [
            "6 11\n",
            "1\n",
            "1 2 2\n",
            "1 3 5\n",
            "1 4 1\n",
            "2 3 3\n",
            "2 4 2\n",
            "3 2 3\n",
            "3 6 5\n",
            "4 3 3\n",
            "4 5 1\n",
            "5 3 1\n",
            "5 6 2\n",
            "0\n",
            "2\n",
            "3\n",
            "1\n",
            "2\n",
            "4\n"
          ],
          "name": "stdout"
        }
      ]
    },
    {
      "cell_type": "code",
      "metadata": {
        "colab": {
          "base_uri": "https://localhost:8080/"
        },
        "id": "rm0XDhNr0jXB",
        "outputId": "243e016a-b13e-48d0-e821-fd1372e2040d"
      },
      "source": [
        "# Floyd-Warshall Algorithm\r\n",
        "\r\n",
        "INF = int(1e9)\r\n",
        "\r\n",
        "n = int(input())\r\n",
        "m = int(input())\r\n",
        "graph = [[INF] * (n + 1) for _ in range(n + 1)]\r\n",
        "\r\n",
        "for i in range(1, n + 1):\r\n",
        "    for j in range(1, n + 1):\r\n",
        "        if i == j :\r\n",
        "            graph[i][j] = 0\r\n",
        "\r\n",
        "for _ in range(m):\r\n",
        "    a, b, c = map(int, input().split())\r\n",
        "    graph[a][b] = c\r\n",
        "\r\n",
        "for k in range(1, n + 1):\r\n",
        "    for i in range(1, n + 1):\r\n",
        "        for j in range(1, n + 1):\r\n",
        "            graph[i][j] = min(graph[i][j], graph[i][k] + graph[k][j])\r\n",
        "\r\n",
        "for i in range(1, n + 1):\r\n",
        "    for j in range(1, n + 1):\r\n",
        "        if graph[i][j] == INF:\r\n",
        "            print(\"IMPOSSIBLE\", end=\" \")\r\n",
        "        else:\r\n",
        "            print(graph[i][j], end=\" \")\r\n",
        "    print()"
      ],
      "execution_count": 8,
      "outputs": [
        {
          "output_type": "stream",
          "text": [
            "4\n",
            "7\n",
            "1 2 4\n",
            "1 4 6\n",
            "2 1 3\n",
            "2 3 7\n",
            "3 1 5\n",
            "3 4 4\n",
            "4 3 2\n",
            "0 4 8 6 \n",
            "3 0 7 9 \n",
            "5 9 0 4 \n",
            "7 11 2 0 \n"
          ],
          "name": "stdout"
        }
      ]
    }
  ]
}