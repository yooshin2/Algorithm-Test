{
  "nbformat": 4,
  "nbformat_minor": 0,
  "metadata": {
    "colab": {
      "name": "Search-Algorithm3.ipynb",
      "provenance": [],
      "authorship_tag": "ABX9TyM6neD8Aw/VZDS6ceL/Yscg",
      "include_colab_link": true
    },
    "kernelspec": {
      "name": "python3",
      "display_name": "Python 3"
    }
  },
  "cells": [
    {
      "cell_type": "markdown",
      "metadata": {
        "id": "view-in-github",
        "colab_type": "text"
      },
      "source": [
        "<a href=\"https://colab.research.google.com/github/yooshin2/Algorithm-Test/blob/main/Search_Algorithm3.ipynb\" target=\"_parent\"><img src=\"https://colab.research.google.com/assets/colab-badge.svg\" alt=\"Open In Colab\"/></a>"
      ]
    },
    {
      "cell_type": "code",
      "metadata": {
        "colab": {
          "base_uri": "https://localhost:8080/"
        },
        "id": "8CUXKvWRrtz7",
        "outputId": "1c06a411-9557-4649-87d3-e2331d8e7661"
      },
      "source": [
        "n, m = list(map(int, input().split()))\n",
        "array = list(map(int, input().split()))\n",
        "\n",
        "start = 0\n",
        "end = max(array)\n",
        "\n",
        "result = 0\n",
        "while start <= end:\n",
        "    total = 0\n",
        "    mid = (start + end) // 2\n",
        "    for x in array: \n",
        "        if x > mid:\n",
        "            total += x - mid\n",
        "    if total < m:\n",
        "        end = mid - 1\n",
        "    else:\n",
        "        result = mid \n",
        "        start = mid + 1\n",
        "\n",
        "print(result)"
      ],
      "execution_count": 17,
      "outputs": [
        {
          "output_type": "stream",
          "text": [
            "4 21\n",
            "19 15 10 17\n",
            "10\n"
          ],
          "name": "stdout"
        }
      ]
    }
  ]
}