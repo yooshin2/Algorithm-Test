{
  "nbformat": 4,
  "nbformat_minor": 0,
  "metadata": {
    "colab": {
      "name": "GreedyAlgorithm2.ipynb",
      "provenance": [],
      "collapsed_sections": [],
      "authorship_tag": "ABX9TyMT6+Tbh25Wu/hP9xue8FrJ",
      "include_colab_link": true
    },
    "kernelspec": {
      "name": "python3",
      "display_name": "Python 3"
    }
  },
  "cells": [
    {
      "cell_type": "markdown",
      "metadata": {
        "id": "view-in-github",
        "colab_type": "text"
      },
      "source": [
        "<a href=\"https://colab.research.google.com/github/yooshin2/Algorithm-Test/blob/main/GreedyAlgorithm2.ipynb\" target=\"_parent\"><img src=\"https://colab.research.google.com/assets/colab-badge.svg\" alt=\"Open In Colab\"/></a>"
      ]
    },
    {
      "cell_type": "code",
      "metadata": {
        "id": "MM3nmv4LU4Mb",
        "outputId": "079491f0-ddd4-422a-9cde-0f2f339fbb51",
        "colab": {
          "base_uri": "https://localhost:8080/"
        }
      },
      "source": [
        "n , m = map(int, input().split())\n",
        "\n",
        "result = 0\n",
        "\n",
        "for i in range(n):\n",
        "    data = list(map(int, input().split()))\n",
        "    min_value = min(data)\n",
        "\n",
        "    result = max(result, min_value)\n",
        "  \n",
        "print(result)"
      ],
      "execution_count": 3,
      "outputs": [
        {
          "output_type": "stream",
          "text": [
            "2 4 \n",
            "7 3 1 8\n",
            "3 3 3 4\n",
            "3\n"
          ],
          "name": "stdout"
        }
      ]
    },
    {
      "cell_type": "code",
      "metadata": {
        "id": "Qw6I60pXakfg",
        "outputId": "42412963-855c-440d-ada4-84a6c1600edc",
        "colab": {
          "base_uri": "https://localhost:8080/"
        }
      },
      "source": [
        "n, k = map(int, input().split())\n",
        "\n",
        "count = 0\n",
        "\n",
        "while True:\n",
        "    if n == 1:\n",
        "      break\n",
        "\n",
        "    while(n >= k and n % k == 0):\n",
        "        n //= k\n",
        "        count += 1\n",
        "\n",
        "    if n == 1:\n",
        "      break\n",
        "\n",
        "    n -= 1\n",
        "    count += 1\n",
        "\n",
        "print(count)"
      ],
      "execution_count": 32,
      "outputs": [
        {
          "output_type": "stream",
          "text": [
            "27 4 \n",
            "7\n"
          ],
          "name": "stdout"
        }
      ]
    }
  ]
}