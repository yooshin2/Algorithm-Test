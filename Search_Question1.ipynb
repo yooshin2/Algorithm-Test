{
  "nbformat": 4,
  "nbformat_minor": 0,
  "metadata": {
    "colab": {
      "name": "Search-Question1.ipynb",
      "provenance": [],
      "authorship_tag": "ABX9TyOwG0GbuiMO7j/sM8N49pAC",
      "include_colab_link": true
    },
    "kernelspec": {
      "name": "python3",
      "display_name": "Python 3"
    }
  },
  "cells": [
    {
      "cell_type": "markdown",
      "metadata": {
        "id": "view-in-github",
        "colab_type": "text"
      },
      "source": [
        "<a href=\"https://colab.research.google.com/github/yooshin2/Algorithm-Test/blob/main/Search_Question1.ipynb\" target=\"_parent\"><img src=\"https://colab.research.google.com/assets/colab-badge.svg\" alt=\"Open In Colab\"/></a>"
      ]
    },
    {
      "cell_type": "code",
      "metadata": {
        "colab": {
          "base_uri": "https://localhost:8080/"
        },
        "id": "rPCv2B9A8l1e",
        "outputId": "b83520b4-5a52-4414-a589-a98eb411ebd4"
      },
      "source": [
        "from bisect import bisect_left, bisect_right\r\n",
        "\r\n",
        "def count_by_range(array, left_value, right_value):\r\n",
        "    right_index = bisect_right(array, right_value)\r\n",
        "    left_index = bisect_left(array, left_value)\r\n",
        "    return right_index - left_index\r\n",
        "\r\n",
        "n, x = map(int, input().split())\r\n",
        "array = list(map(int, input().split()))\r\n",
        "\r\n",
        "cnt = count_by_range(array, x, x)\r\n",
        "\r\n",
        "if cnt == 0:\r\n",
        "    print(-1)\r\n",
        "else:\r\n",
        "    print(cnt)"
      ],
      "execution_count": 11,
      "outputs": [
        {
          "output_type": "stream",
          "text": [
            "5 2\n",
            "0 1 2 2 2\n",
            "3\n"
          ],
          "name": "stdout"
        }
      ]
    },
    {
      "cell_type": "code",
      "metadata": {
        "colab": {
          "base_uri": "https://localhost:8080/"
        },
        "id": "zV-k_qvaARS0",
        "outputId": "48cdab46-90a9-4815-e785-600286bf49df"
      },
      "source": [
        "def binary_search(array, start, end):\r\n",
        "    if start > end:\r\n",
        "        return None\r\n",
        "    mid = (start + end) // 2\r\n",
        "    if array[mid] == mid:\r\n",
        "        return mid\r\n",
        "    elif array[mid] > mid:\r\n",
        "        return binary_search(array, start, mid - 1)\r\n",
        "    else:\r\n",
        "        return binary_search(array, mid + 1, end)\r\n",
        "\r\n",
        "n = int(input())\r\n",
        "array = list(map(int, input().split()))\r\n",
        "\r\n",
        "index = binary_search(array, 0, n - 1)\r\n",
        "\r\n",
        "if index == None:\r\n",
        "    print(-1)\r\n",
        "else:\r\n",
        "    print(index)"
      ],
      "execution_count": 23,
      "outputs": [
        {
          "output_type": "stream",
          "text": [
            "7\n",
            "-10 -3 2 5 10 13 17\n",
            "2\n"
          ],
          "name": "stdout"
        }
      ]
    }
  ]
}