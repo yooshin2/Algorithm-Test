{
  "nbformat": 4,
  "nbformat_minor": 0,
  "metadata": {
    "colab": {
      "name": "ImplementationAlgorithm2.ipynb",
      "provenance": [],
      "authorship_tag": "ABX9TyPGvtFLwD+pQ0aoMvlL2ENB",
      "include_colab_link": true
    },
    "kernelspec": {
      "name": "python3",
      "display_name": "Python 3"
    }
  },
  "cells": [
    {
      "cell_type": "markdown",
      "metadata": {
        "id": "view-in-github",
        "colab_type": "text"
      },
      "source": [
        "<a href=\"https://colab.research.google.com/github/yooshin2/Algorithm-Test/blob/main/ImplementationAlgorithm2.ipynb\" target=\"_parent\"><img src=\"https://colab.research.google.com/assets/colab-badge.svg\" alt=\"Open In Colab\"/></a>"
      ]
    },
    {
      "cell_type": "code",
      "metadata": {
        "colab": {
          "base_uri": "https://localhost:8080/"
        },
        "id": "zC0pXNgNlPau",
        "outputId": "52168591-7e66-4b90-d016-6cd30c8b3335"
      },
      "source": [
        "N = int(input())\n",
        "count = 0\n",
        "\n",
        "for i in range(N + 1):\n",
        "    for j in range(60):\n",
        "        for k in range(60):\n",
        "            if '3' in str(i) + str(j) + str(k):\n",
        "                count += 1\n",
        "\n",
        "print(count)"
      ],
      "execution_count": 31,
      "outputs": [
        {
          "output_type": "stream",
          "text": [
            "0\n",
            "1575\n"
          ],
          "name": "stdout"
        }
      ]
    },
    {
      "cell_type": "code",
      "metadata": {
        "colab": {
          "base_uri": "https://localhost:8080/"
        },
        "id": "8fSiczV4nghn",
        "outputId": "c8e200f4-d48c-4dc0-acab-d812b3582433"
      },
      "source": [
        "input_data = input()\n",
        "x = int(input_data[1])\n",
        "y = ord(input_data[0]) - ord('a') + 1\n",
        "\n",
        "steps = [(-2, -1), (-2, 1), (-1, -2), (-1, 2), (1, -2), (1, 2), (2, -1), (2, 1)]\n",
        "\n",
        "count = 0\n",
        "for step in steps:\n",
        "  next_x = x + step[0]\n",
        "  next_y = y + step[1]\n",
        "\n",
        "  if next_x >= 1 and next_x <= 8 and next_y >= 1 and next_y <=8:\n",
        "    count += 1\n",
        "\n",
        "print(count)"
      ],
      "execution_count": 34,
      "outputs": [
        {
          "output_type": "stream",
          "text": [
            "c2\n",
            "6\n"
          ],
          "name": "stdout"
        }
      ]
    },
    {
      "cell_type": "code",
      "metadata": {
        "colab": {
          "base_uri": "https://localhost:8080/"
        },
        "id": "Snx8KW0Eu6qh",
        "outputId": "7ab6bdbb-d038-4ade-8a22-6ec9c91dc38e"
      },
      "source": [
        "n, m = map(int, input().split())\n",
        "\n",
        "d = [[0] * m for i in range(n)]\n",
        "x, y, direction = map(int, input().split())\n",
        "d[x][y] = 1\n",
        "\n",
        "array = []\n",
        "for i in range(n):\n",
        "    array.append(list(map(int, input().split())))\n",
        "\n",
        "dx = [-1, 0, 1, 0]\n",
        "dy = [0, 1, 0, -1]\n",
        "\n",
        "def turn_left():\n",
        "    global direction\n",
        "    direction -= 1\n",
        "    if direction == -1:\n",
        "        direction = 3\n",
        "\n",
        "count = 1\n",
        "turn_time = 0\n",
        "\n",
        "while True:\n",
        "    turn_left()\n",
        "    nx = x + dx[direction]\n",
        "    ny = y + dy[direction]\n",
        "\n",
        "    if d[nx][ny] == 0 and array[nx][ny] == 0:\n",
        "        d[nx][ny] = 1\n",
        "        x = nx\n",
        "        y = ny\n",
        "        count += 1\n",
        "        turn_time = 0\n",
        "        continue\n",
        "    else:\n",
        "        turn_time += 1\n",
        "    \n",
        "    if turn_time == 4:\n",
        "        nx = x - dx[direction]\n",
        "        ny = y - dy[direction]\n",
        "        \n",
        "        if array[nx][ny] == 0:\n",
        "            x = nx\n",
        "            y = ny\n",
        "            turn_time = 0\n",
        "        else:\n",
        "            break\n",
        "        \n",
        "print(count)"
      ],
      "execution_count": 32,
      "outputs": [
        {
          "output_type": "stream",
          "text": [
            "5 5\n",
            "1 2 3\n",
            "1 1 1 1 1\n",
            "1 0 0 0 1\n",
            "1 0 0 0 1\n",
            "1 0 1 1 1 \n",
            "1 1 1 1 1 \n",
            "4\n"
          ],
          "name": "stdout"
        }
      ]
    }
  ]
}