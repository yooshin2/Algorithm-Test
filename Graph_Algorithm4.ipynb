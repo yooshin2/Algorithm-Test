{
  "nbformat": 4,
  "nbformat_minor": 0,
  "metadata": {
    "colab": {
      "name": "Graph-Algorithm4.ipynb",
      "provenance": [],
      "authorship_tag": "ABX9TyMFX5oaImlFPPxFb6+rvcLX",
      "include_colab_link": true
    },
    "kernelspec": {
      "name": "python3",
      "display_name": "Python 3"
    }
  },
  "cells": [
    {
      "cell_type": "markdown",
      "metadata": {
        "id": "view-in-github",
        "colab_type": "text"
      },
      "source": [
        "<a href=\"https://colab.research.google.com/github/yooshin2/Algorithm-Test/blob/main/Graph_Algorithm4.ipynb\" target=\"_parent\"><img src=\"https://colab.research.google.com/assets/colab-badge.svg\" alt=\"Open In Colab\"/></a>"
      ]
    },
    {
      "cell_type": "code",
      "metadata": {
        "colab": {
          "base_uri": "https://localhost:8080/"
        },
        "id": "bLlPmwOlXIwT",
        "outputId": "ab5d5d8c-233e-4f24-f13e-e3282e436acd"
      },
      "source": [
        "from collections import deque\r\n",
        "\r\n",
        "v, e = map(int, input().split())\r\n",
        "indegree = [0] * (v + 1)\r\n",
        "graph = [[] for i in range((v + 1))]\r\n",
        "\r\n",
        "for _ in range(e):\r\n",
        "    a, b = map(int, input().split())\r\n",
        "    graph[a].append(b)\r\n",
        "    indegree[b] += 1\r\n",
        "\r\n",
        "def topology_sort():\r\n",
        "    result = []\r\n",
        "    q = deque()\r\n",
        "    \r\n",
        "    for i in range(1, v + 1):\r\n",
        "        if indegree[i] == 0:\r\n",
        "            q.append(i)\r\n",
        "    \r\n",
        "    while q:\r\n",
        "        now = q.popleft()\r\n",
        "        result.append(now)\r\n",
        "        for i in graph[now]:\r\n",
        "            indegree[i] -= 1\r\n",
        "            if indegree[i] == 0:\r\n",
        "                q.append(i)\r\n",
        "\r\n",
        "    for i in result:\r\n",
        "        print(i, end=' ')\r\n",
        "\r\n",
        "topology_sort()"
      ],
      "execution_count": 7,
      "outputs": [
        {
          "output_type": "stream",
          "text": [
            "7 8\n",
            "1 2\n",
            "1 5\n",
            "2 3\n",
            "2 6\n",
            "3 4\n",
            "4 7\n",
            "5 6\n",
            "6 4\n",
            "1 2 5 3 6 4 7 "
          ],
          "name": "stdout"
        }
      ]
    }
  ]
}