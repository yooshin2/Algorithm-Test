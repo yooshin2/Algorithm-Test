{
  "nbformat": 4,
  "nbformat_minor": 0,
  "metadata": {
    "colab": {
      "name": "Search-Algorithm2.ipynb",
      "provenance": [],
      "authorship_tag": "ABX9TyOwjusRz8bg0paQjY+oW64a",
      "include_colab_link": true
    },
    "kernelspec": {
      "name": "python3",
      "display_name": "Python 3"
    }
  },
  "cells": [
    {
      "cell_type": "markdown",
      "metadata": {
        "id": "view-in-github",
        "colab_type": "text"
      },
      "source": [
        "<a href=\"https://colab.research.google.com/github/yooshin2/Algorithm-Test/blob/main/Search_Algorithm2.ipynb\" target=\"_parent\"><img src=\"https://colab.research.google.com/assets/colab-badge.svg\" alt=\"Open In Colab\"/></a>"
      ]
    },
    {
      "cell_type": "code",
      "metadata": {
        "colab": {
          "base_uri": "https://localhost:8080/"
        },
        "id": "xFsn-b5s_Hvs",
        "outputId": "84841e57-3652-442c-b4a3-2d8534fce807"
      },
      "source": [
        "#이진 탐색으로 구현(반복문)\n",
        "\n",
        "def binary_search(array, target, start, end):\n",
        "    while start <= end:\n",
        "        mid = (start + end) // 2\n",
        "        if array[mid] == target:\n",
        "            return mid\n",
        "        elif array[mid] > target:\n",
        "            end = mid - 1\n",
        "        else:\n",
        "            start = mid + 1\n",
        "    return None\n",
        "\n",
        "n = int(input())\n",
        "array = list(map(int, input().split()))\n",
        "array.sort()\n",
        "\n",
        "m = int(input())\n",
        "x = list(map(int, input().split()))\n",
        "\n",
        "for i in x:\n",
        "    result = binary_search(array, i, 0, n - 1)\n",
        "    if result != None:\n",
        "        print('yes', end=' ')\n",
        "    else:\n",
        "        print('no', end=' ')"
      ],
      "execution_count": 5,
      "outputs": [
        {
          "output_type": "stream",
          "text": [
            "7\n",
            "6 2 3 8 15 10 0\n",
            "5\n",
            "0 11 10 3 5\n",
            "yes no yes yes no "
          ],
          "name": "stdout"
        }
      ]
    }
  ]
}