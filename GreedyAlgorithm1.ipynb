{
  "nbformat": 4,
  "nbformat_minor": 0,
  "metadata": {
    "colab": {
      "name": "GreedyAlgorithm1.ipynb",
      "provenance": [],
      "collapsed_sections": [],
      "authorship_tag": "ABX9TyOAgjpUvuYndAZuY4ojd0F4",
      "include_colab_link": true
    },
    "kernelspec": {
      "name": "python3",
      "display_name": "Python 3"
    }
  },
  "cells": [
    {
      "cell_type": "markdown",
      "metadata": {
        "id": "view-in-github",
        "colab_type": "text"
      },
      "source": [
        "<a href=\"https://colab.research.google.com/github/yooshin2/Algorithm-Test/blob/main/GreedyAlgorithm1.ipynb\" target=\"_parent\"><img src=\"https://colab.research.google.com/assets/colab-badge.svg\" alt=\"Open In Colab\"/></a>"
      ]
    },
    {
      "cell_type": "code",
      "metadata": {
        "id": "YJJzsc_lFuXp",
        "outputId": "26bcd712-be70-4704-ddb9-b30e4a114d2c",
        "colab": {
          "base_uri": "https://localhost:8080/"
        }
      },
      "source": [
        "money = int(input('동전으로 바꿀 금액 : '))\n",
        "count = 0\n",
        "\n",
        "coin_types = [500, 100, 50, 10]\n",
        "\n",
        "for coin in coin_types:\n",
        "  count += money // coin\n",
        "  money %= coin\n",
        "  if money == 0:\n",
        "    break\n",
        "\n",
        "print('동전의 수 :', count)"
      ],
      "execution_count": 28,
      "outputs": [
        {
          "output_type": "stream",
          "text": [
            "동전으로 바꿀 금액 : 12680\n",
            "동전의 수 : 30\n"
          ],
          "name": "stdout"
        }
      ]
    },
    {
      "cell_type": "code",
      "metadata": {
        "id": "Gm0SabUQIbW1",
        "outputId": "ea643504-0750-4320-ae97-35a5effc6617",
        "colab": {
          "base_uri": "https://localhost:8080/"
        }
      },
      "source": [
        "n, m, k = map(int, input().split())\n",
        "data = list(map(int, input().split()))\n",
        "\n",
        "data.sort()\n",
        "first = data[n - 1]\n",
        "second = data[n - 2]\n",
        "result = 0\n",
        "\n",
        "while True:\n",
        "  for i in range(k):\n",
        "    if m == 0:\n",
        "      break\n",
        "    result += first\n",
        "    m -= 1\n",
        "  if m == 0:\n",
        "    break\n",
        "  result += second\n",
        "  m -= 1\n",
        "\n",
        "print(result)\n",
        "\n",
        "n, m, k = map(int, input().split())\n",
        "data = list(map(int, input().split()))\n",
        "\n",
        "data.sort()\n",
        "first = data[n - 1]\n",
        "second = data[n - 2]\n",
        "result = 0\n",
        "\n",
        "count = (m // (k + 1)) * k\n",
        "count += m % (k + 1)\n",
        "\n",
        "result = count * first + (m - count) * second\n",
        "print (result)"
      ],
      "execution_count": 29,
      "outputs": [
        {
          "output_type": "stream",
          "text": [
            "5 8 3\n",
            "1 3 5 10 1\n",
            "70\n",
            "5 8 3\n",
            "1 3 5 10 1\n",
            "70\n"
          ],
          "name": "stdout"
        }
      ]
    }
  ]
}