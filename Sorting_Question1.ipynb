{
  "nbformat": 4,
  "nbformat_minor": 0,
  "metadata": {
    "colab": {
      "name": "Sorting-Question1.ipynb",
      "provenance": [],
      "authorship_tag": "ABX9TyOWoaYJL1z2NhV6+q2s96ST",
      "include_colab_link": true
    },
    "kernelspec": {
      "name": "python3",
      "display_name": "Python 3"
    }
  },
  "cells": [
    {
      "cell_type": "markdown",
      "metadata": {
        "id": "view-in-github",
        "colab_type": "text"
      },
      "source": [
        "<a href=\"https://colab.research.google.com/github/yooshin2/Algorithm-Test/blob/main/Sorting_Question1.ipynb\" target=\"_parent\"><img src=\"https://colab.research.google.com/assets/colab-badge.svg\" alt=\"Open In Colab\"/></a>"
      ]
    },
    {
      "cell_type": "code",
      "metadata": {
        "colab": {
          "base_uri": "https://localhost:8080/"
        },
        "id": "LQ80UW614ecC",
        "outputId": "72e485a7-3b14-4719-9d38-501dd7d63d0e"
      },
      "source": [
        "n = int(input())\r\n",
        "students = []\r\n",
        "\r\n",
        "for _ in range(n):\r\n",
        "    students.append(input().split())\r\n",
        "\r\n",
        "students.sort(key=lambda x : (-int(x[1]), int(x[2]), -int(x[3]), x[0]))\r\n",
        "\r\n",
        "for student in students:\r\n",
        "    print(student[0])"
      ],
      "execution_count": null,
      "outputs": [
        {
          "output_type": "stream",
          "text": [
            "12\n",
            "Jin 50 60 100\n",
            "Sang 80 60 50\n",
            "Sun 80 70 100\n",
            "Soong 50 60 90\n",
            "Haebin 50 60 100\n",
            "Kang 60 80 100\n",
            "Dong 80 60 100\n",
            "Sei 70 70 70\n",
            "Won 70 70 90\n",
            "SangHyun 70 70 80\n",
            "nsj 80 80 80\n",
            "Tae 50 60 90\n",
            "Dong\n",
            "Sang\n",
            "Sun\n",
            "nsj\n",
            "Won\n",
            "SangHyun\n",
            "Sei\n",
            "Kang\n",
            "Haebin\n",
            "Jin\n",
            "Soong\n",
            "Tae\n"
          ],
          "name": "stdout"
        }
      ]
    },
    {
      "cell_type": "code",
      "metadata": {
        "colab": {
          "base_uri": "https://localhost:8080/"
        },
        "id": "PV8FbXyjGXNq",
        "outputId": "369777e3-c23a-490e-fedf-ac83c89b31f7"
      },
      "source": [
        "n = int(input())\r\n",
        "houses = list(map(int, input().split()))\r\n",
        "houses.sort()\r\n",
        "\r\n",
        "print(houses[(n - 1) // 2])"
      ],
      "execution_count": null,
      "outputs": [
        {
          "output_type": "stream",
          "text": [
            "4\n",
            "5 1 7 9\n",
            "5\n"
          ],
          "name": "stdout"
        }
      ]
    },
    {
      "cell_type": "code",
      "metadata": {
        "id": "e8qBacLAiTow",
        "colab": {
          "base_uri": "https://localhost:8080/"
        },
        "outputId": "6d310172-3d03-48cd-de15-862da14bb474"
      },
      "source": [
        "def solution(N, stages):\r\n",
        "    answer = []\r\n",
        "    length = len(stages)\r\n",
        "\r\n",
        "    for i in range(1, N + 1):\r\n",
        "        cnt = stages.count(i)\r\n",
        "\r\n",
        "        if length == 0:\r\n",
        "            fail = 0\r\n",
        "        else:\r\n",
        "            fail = cnt / length\r\n",
        "\r\n",
        "        answer.append((i, fail))\r\n",
        "        length -= cnt\r\n",
        "    \r\n",
        "    answer.sort(key=lambda x : -x[1])\r\n",
        "    \r\n",
        "    answer = [i[0] for i in answer]\r\n",
        "    print(answer)\r\n",
        "\r\n",
        "N = 5\r\n",
        "stages = [2, 1, 2, 6, 2, 4, 3, 3]\r\n",
        "\r\n",
        "solution(N, stages)"
      ],
      "execution_count": 18,
      "outputs": [
        {
          "output_type": "stream",
          "text": [
            "[3, 4, 2, 1, 5]\n"
          ],
          "name": "stdout"
        }
      ]
    }
  ]
}