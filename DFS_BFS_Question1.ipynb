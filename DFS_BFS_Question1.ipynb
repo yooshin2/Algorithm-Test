{
  "nbformat": 4,
  "nbformat_minor": 0,
  "metadata": {
    "colab": {
      "name": "DFS/BFS-Question1.ipynb",
      "provenance": [],
      "authorship_tag": "ABX9TyMwiwJ9+g4S5W6cWQ04eUSw",
      "include_colab_link": true
    },
    "kernelspec": {
      "name": "python3",
      "display_name": "Python 3"
    }
  },
  "cells": [
    {
      "cell_type": "markdown",
      "metadata": {
        "id": "view-in-github",
        "colab_type": "text"
      },
      "source": [
        "<a href=\"https://colab.research.google.com/github/yooshin2/Algorithm-Test/blob/main/DFS_BFS_Question1.ipynb\" target=\"_parent\"><img src=\"https://colab.research.google.com/assets/colab-badge.svg\" alt=\"Open In Colab\"/></a>"
      ]
    },
    {
      "cell_type": "code",
      "metadata": {
        "colab": {
          "base_uri": "https://localhost:8080/"
        },
        "id": "O5U9eMkUMPxu",
        "outputId": "10056c42-c183-4f1e-dabf-60f405e01f6b"
      },
      "source": [
        "from collections import deque\r\n",
        "\r\n",
        "n, m, k, x = map(int, input().split())\r\n",
        "graph = [[] for _ in range(n + 1)]\r\n",
        "\r\n",
        "for _ in range(m):\r\n",
        "    a, b = map(int, input().split())\r\n",
        "    graph[a].append(b)\r\n",
        "\r\n",
        "dist = [-1] * (n + 1)\r\n",
        "dist[x] = 0\r\n",
        "\r\n",
        "q = deque([x])\r\n",
        "while q:\r\n",
        "    now = q.popleft()\r\n",
        "    for next in graph[now]:\r\n",
        "        if dist[next] == -1:\r\n",
        "            dist[next] = dist[now] + 1\r\n",
        "            q.append(next)\r\n",
        "\r\n",
        "check = False\r\n",
        "for i in range(1, n + 1):\r\n",
        "    if dist[i] == k:\r\n",
        "        print(i)\r\n",
        "        check = True\r\n",
        "\r\n",
        "if check == False:\r\n",
        "    print(-1)"
      ],
      "execution_count": 8,
      "outputs": [
        {
          "output_type": "stream",
          "text": [
            "4 4 2 1\n",
            "1 2\n",
            "1 3\n",
            "2 3\n",
            "2 4\n",
            "4\n"
          ],
          "name": "stdout"
        }
      ]
    }
  ]
}