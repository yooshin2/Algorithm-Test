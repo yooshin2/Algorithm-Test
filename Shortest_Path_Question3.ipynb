{
  "nbformat": 4,
  "nbformat_minor": 0,
  "metadata": {
    "colab": {
      "name": "Shortest-Path-Question3.ipynb",
      "provenance": [],
      "authorship_tag": "ABX9TyMYLNBACAvQpXBUJg3/zr9v",
      "include_colab_link": true
    },
    "kernelspec": {
      "name": "python3",
      "display_name": "Python 3"
    }
  },
  "cells": [
    {
      "cell_type": "markdown",
      "metadata": {
        "id": "view-in-github",
        "colab_type": "text"
      },
      "source": [
        "<a href=\"https://colab.research.google.com/github/yooshin2/Algorithm-Test/blob/main/Shortest_Path_Question3.ipynb\" target=\"_parent\"><img src=\"https://colab.research.google.com/assets/colab-badge.svg\" alt=\"Open In Colab\"/></a>"
      ]
    },
    {
      "cell_type": "code",
      "metadata": {
        "colab": {
          "base_uri": "https://localhost:8080/"
        },
        "id": "6nIlRSHt29AY",
        "outputId": "02e51081-47fa-4ba9-fff0-5dbb1f0963ec"
      },
      "source": [
        "import heapq\r\n",
        "\r\n",
        "INF = int(1e9)\r\n",
        "\r\n",
        "dx = [-1, 0, 1, 0]\r\n",
        "dy = [0, 1, 0, -1]\r\n",
        "\r\n",
        "for _ in range(int(input())):\r\n",
        "    n = int(input())\r\n",
        "    \r\n",
        "    graph = []\r\n",
        "    for _ in range(n):\r\n",
        "        graph.append(list(map(int, input().split())))\r\n",
        "\r\n",
        "    distance = [[INF] * n for _ in range(n)]\r\n",
        "\r\n",
        "    x, y = 0, 0\r\n",
        "    q = [(graph[x][y], x, y)]\r\n",
        "    distance[x][y] = graph[x][y]\r\n",
        "\r\n",
        "    while q:\r\n",
        "        dist, x, y = heapq.heappop(q)\r\n",
        "        if distance[x][y] < dist:\r\n",
        "            continue\r\n",
        "        for i in range(4):\r\n",
        "            nx = x + dx[i]\r\n",
        "            ny = y + dy[i]\r\n",
        "            if nx < 0 or nx >= n or ny < 0 or ny >= n:\r\n",
        "                continue\r\n",
        "            cost = dist + graph[nx][ny]\r\n",
        "            if cost < distance[nx][ny]:\r\n",
        "                distance[nx][ny] = cost\r\n",
        "                heapq.heappush(q, (cost, nx, ny))\r\n",
        "\r\n",
        "    print(distance[n - 1][n - 1])"
      ],
      "execution_count": 6,
      "outputs": [
        {
          "output_type": "stream",
          "text": [
            "2\n",
            "3\n",
            "5 5 4\n",
            "3 9 1\n",
            "3 2 7\n",
            "20\n",
            "5\n",
            "3 7 2 0 1\n",
            "2 8 0 9 1\n",
            "1 2 1 8 1\n",
            "9 8 9 2 0\n",
            "3 6 5 1 5\n",
            "19\n"
          ],
          "name": "stdout"
        }
      ]
    },
    {
      "cell_type": "code",
      "metadata": {
        "colab": {
          "base_uri": "https://localhost:8080/"
        },
        "id": "l4hcp7VuN9cP",
        "outputId": "3b13e781-18bc-4d90-b8d1-097e8b9b79be"
      },
      "source": [
        "import heapq\r\n",
        "\r\n",
        "INF = int(1e9)\r\n",
        "\r\n",
        "n, m = map(int, input().split())\r\n",
        "start = 1\r\n",
        "graph = [[] for _ in range(n + 1)]\r\n",
        "distance = [INF] * (n + 1)\r\n",
        "\r\n",
        "for _ in range(m):\r\n",
        "    a, b = map(int, input().split())\r\n",
        "    graph[a].append((b, 1))\r\n",
        "    graph[b].append((a, 1))\r\n",
        "\r\n",
        "def dijkstra(start):\r\n",
        "    q = []\r\n",
        "    heapq.heappush(q, (0, start))\r\n",
        "    distance[start] = 0\r\n",
        "    while q:\r\n",
        "        dist, now = heapq.heappop(q)\r\n",
        "        if distance[now] < dist:\r\n",
        "            continue\r\n",
        "        for i in graph[now]:\r\n",
        "            cost = dist + i[1]\r\n",
        "            if cost < distance[i[0]]:\r\n",
        "                distance[i[0]] = cost\r\n",
        "                heapq.heappush(q, (cost, i[0]))\r\n",
        "\r\n",
        "dijkstra(start)\r\n",
        "\r\n",
        "max_node = 0\r\n",
        "max_distance = 0\r\n",
        "result = []\r\n",
        "\r\n",
        "for i in range(1, n + 1):\r\n",
        "    if max_distance < distance[i]:\r\n",
        "        max_node = i\r\n",
        "        max_distance = distance[i]\r\n",
        "        result = [max_node]\r\n",
        "    elif max_distance == distance[i]:\r\n",
        "        result.append(i)\r\n",
        "\r\n",
        "print(max_node, max_distance, len(result))"
      ],
      "execution_count": 17,
      "outputs": [
        {
          "output_type": "stream",
          "text": [
            "6 7\n",
            "3 6\n",
            "4 3\n",
            "3 2\n",
            "1 3\n",
            "1 2\n",
            "2 4\n",
            "5 2\n",
            "4 2 3\n"
          ],
          "name": "stdout"
        }
      ]
    }
  ]
}