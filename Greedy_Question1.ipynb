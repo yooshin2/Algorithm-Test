{
  "nbformat": 4,
  "nbformat_minor": 0,
  "metadata": {
    "colab": {
      "name": "Greedy_Question1.ipynb",
      "provenance": [],
      "authorship_tag": "ABX9TyNo1H0MOEhXrC521eP/0gBz",
      "include_colab_link": true
    },
    "kernelspec": {
      "name": "python3",
      "display_name": "Python 3"
    }
  },
  "cells": [
    {
      "cell_type": "markdown",
      "metadata": {
        "id": "view-in-github",
        "colab_type": "text"
      },
      "source": [
        "<a href=\"https://colab.research.google.com/github/yooshin2/Algorithm-Test/blob/main/Greedy_Question1.ipynb\" target=\"_parent\"><img src=\"https://colab.research.google.com/assets/colab-badge.svg\" alt=\"Open In Colab\"/></a>"
      ]
    },
    {
      "cell_type": "code",
      "metadata": {
        "colab": {
          "base_uri": "https://localhost:8080/"
        },
        "id": "p_Vx1wuuCZEZ",
        "outputId": "998bc795-ccdc-49ba-e3c7-ba880501bdf1"
      },
      "source": [
        "n = int(input())\r\n",
        "data = list(map(int, input().split()))\r\n",
        "data.sort()\r\n",
        "count = 0\r\n",
        "sum = 0\r\n",
        "\r\n",
        "for i in data:\r\n",
        "    sum += 1\r\n",
        "    if sum == i:\r\n",
        "        count += 1\r\n",
        "        sum = 0\r\n",
        "\r\n",
        "print(count)"
      ],
      "execution_count": 2,
      "outputs": [
        {
          "output_type": "stream",
          "text": [
            "5\n",
            "2 3 1 2 2\n",
            "2\n"
          ],
          "name": "stdout"
        }
      ]
    },
    {
      "cell_type": "code",
      "metadata": {
        "colab": {
          "base_uri": "https://localhost:8080/"
        },
        "id": "528USyHbLE97",
        "outputId": "e6dc84a9-a7d0-4e6b-ca52-79043d11c917"
      },
      "source": [
        "S = input()\r\n",
        "data = []\r\n",
        "for num in S:\r\n",
        "    data.append(int(num))\r\n",
        "\r\n",
        "result = data[0]\r\n",
        "\r\n",
        "for i in range(1, len(data)):\r\n",
        "    if data[i] <= 1 or result <= 1:\r\n",
        "        result = result + data[i]\r\n",
        "    else:\r\n",
        "        result = result * data[i]\r\n",
        "\r\n",
        "print(result)"
      ],
      "execution_count": 19,
      "outputs": [
        {
          "output_type": "stream",
          "text": [
            "02984\n",
            "576\n"
          ],
          "name": "stdout"
        }
      ]
    },
    {
      "cell_type": "code",
      "metadata": {
        "colab": {
          "base_uri": "https://localhost:8080/"
        },
        "id": "Avcu4QGHM3D-",
        "outputId": "e1e80ea0-0d00-40b6-d876-f84c6fda7f4f"
      },
      "source": [
        "data = input()\r\n",
        "count0 = 0\r\n",
        "count1 = 0\r\n",
        "\r\n",
        "if data[0] == '1':\r\n",
        "    count0 += 1\r\n",
        "else:\r\n",
        "    count1 += 1\r\n",
        "\r\n",
        "for i in range(len(data) -  1):\r\n",
        "    if data[i] != data[i + 1]:\r\n",
        "        if data[i + 1] == '1':\r\n",
        "            count0 += 1\r\n",
        "        else:\r\n",
        "            count1 += 1\r\n",
        "\r\n",
        "print(min(count0, count1))"
      ],
      "execution_count": 4,
      "outputs": [
        {
          "output_type": "stream",
          "text": [
            "011001110010010\n",
            "4\n"
          ],
          "name": "stdout"
        }
      ]
    }
  ]
}