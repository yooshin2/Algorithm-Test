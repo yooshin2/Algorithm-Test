{
  "nbformat": 4,
  "nbformat_minor": 0,
  "metadata": {
    "colab": {
      "name": "Implementation-Question4.ipynb",
      "provenance": [],
      "authorship_tag": "ABX9TyPLGx00GKaprnLB/M/Tw7lp",
      "include_colab_link": true
    },
    "kernelspec": {
      "name": "python3",
      "display_name": "Python 3"
    }
  },
  "cells": [
    {
      "cell_type": "markdown",
      "metadata": {
        "id": "view-in-github",
        "colab_type": "text"
      },
      "source": [
        "<a href=\"https://colab.research.google.com/github/yooshin2/Algorithm-Test/blob/main/Implementation_Question4.ipynb\" target=\"_parent\"><img src=\"https://colab.research.google.com/assets/colab-badge.svg\" alt=\"Open In Colab\"/></a>"
      ]
    },
    {
      "cell_type": "code",
      "metadata": {
        "colab": {
          "base_uri": "https://localhost:8080/"
        },
        "id": "ySGoYznrdiEX",
        "outputId": "3baec273-2471-4dbd-f89b-835a20144c16"
      },
      "source": [
        "n = int(input())\r\n",
        "k = int(input())\r\n",
        "data = [[0] * (n + 1) for _ in range(n + 1)]\r\n",
        "info = []\r\n",
        "\r\n",
        "for _ in range(k):\r\n",
        "    a, b = map(int, input().split())\r\n",
        "    data[a][b] = 10\r\n",
        "\r\n",
        "L = int(input())\r\n",
        "for _ in range(L):\r\n",
        "    x, c = input().split()\r\n",
        "    info.append((int(x), c))\r\n",
        "\r\n",
        "dx = [0, 1, 0, -1]\r\n",
        "dy = [1, 0, -1, 0]\r\n",
        "\r\n",
        "def turn(direction, c):\r\n",
        "    if c == 'L':\r\n",
        "        direction = (direction - 1) % 4\r\n",
        "    else:\r\n",
        "        direction = (direction + 1) % 4\r\n",
        "    return direction\r\n",
        "\r\n",
        "def simulate():\r\n",
        "    x, y = 1, 1\r\n",
        "    data[x][y] = 2\r\n",
        "    direction = 0\r\n",
        "    time = 0\r\n",
        "    index = 0\r\n",
        "    q = [(x, y)]\r\n",
        "\r\n",
        "    while True:\r\n",
        "        nx = x + dx[direction]\r\n",
        "        ny = y + dy[direction]\r\n",
        "        if 1 <= nx and nx <= n and 1 <= ny and ny <= n and data[nx][ny] != 2:\r\n",
        "            if data[nx][ny] == 0:\r\n",
        "                data[nx][ny] = 2\r\n",
        "                q.append((nx, ny))\r\n",
        "                px, py = q.pop(0)\r\n",
        "                data[px][py] = 0\r\n",
        "            if data[nx][ny] == 1:\r\n",
        "                data[nx][ny] = 2\r\n",
        "                q.append((nx, ny))\r\n",
        "        else:\r\n",
        "            time += 1\r\n",
        "            break\r\n",
        "        x, y = nx, ny\r\n",
        "        time += 1\r\n",
        "        if index < L and time == info[index][0]:\r\n",
        "            direction = turn(direction, info[index][1])\r\n",
        "            index += 1\r\n",
        "    return time\r\n",
        "\r\n",
        "print(simulate())"
      ],
      "execution_count": 9,
      "outputs": [
        {
          "output_type": "stream",
          "text": [
            "10\n",
            "4\n",
            "1 2\n",
            "1 3\n",
            "1 4\n",
            "1 5\n",
            "4\n",
            "8 D\n",
            "10 D\n",
            "11 D\n",
            "13 L\n",
            "21\n"
          ],
          "name": "stdout"
        }
      ]
    }
  ]
}