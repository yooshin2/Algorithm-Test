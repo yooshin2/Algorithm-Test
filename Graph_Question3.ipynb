{
  "nbformat": 4,
  "nbformat_minor": 0,
  "metadata": {
    "colab": {
      "name": "Graph-Question3.ipynb",
      "provenance": [],
      "authorship_tag": "ABX9TyNIKzvjZloMt5s9+VBnIjlS",
      "include_colab_link": true
    },
    "kernelspec": {
      "name": "python3",
      "display_name": "Python 3"
    }
  },
  "cells": [
    {
      "cell_type": "markdown",
      "metadata": {
        "id": "view-in-github",
        "colab_type": "text"
      },
      "source": [
        "<a href=\"https://colab.research.google.com/github/yooshin2/Algorithm-Test/blob/main/Graph_Question3.ipynb\" target=\"_parent\"><img src=\"https://colab.research.google.com/assets/colab-badge.svg\" alt=\"Open In Colab\"/></a>"
      ]
    },
    {
      "cell_type": "code",
      "metadata": {
        "colab": {
          "base_uri": "https://localhost:8080/"
        },
        "id": "BhqKsJAK9UBS",
        "outputId": "37e38d7a-3ceb-4fac-a9f6-a26aa736bc1d"
      },
      "source": [
        "def find_parent(parent, x):\r\n",
        "    if parent[x] != x:\r\n",
        "        parent[x] = find_parent(parent, parent[x])\r\n",
        "    return parent[x]\r\n",
        "\r\n",
        "def union_parent(parent, a, b):\r\n",
        "    a = find_parent(parent, a)\r\n",
        "    b = find_parent(parent, b)\r\n",
        "    if a < b:\r\n",
        "        parent[b] = a\r\n",
        "    else:\r\n",
        "        parent[a] = b\r\n",
        "\r\n",
        "n, m = map(int, input().split())\r\n",
        "parent = [0] * (n + 1)\r\n",
        "\r\n",
        "edges = []\r\n",
        "result = 0\r\n",
        "\r\n",
        "for i in range(1, n + 1):\r\n",
        "    parent[i] = i\r\n",
        "\r\n",
        "for _ in range(m):\r\n",
        "    x, y, z = map(int, input().split())\r\n",
        "    edges.append((z, x, y))\r\n",
        "\r\n",
        "edges.sort()\r\n",
        "total = 0\r\n",
        "\r\n",
        "for edge in edges:\r\n",
        "    cost, a, b = edge\r\n",
        "    total += cost\r\n",
        "    if find_parent(parent, a) != find_parent(parent, b):\r\n",
        "        union_parent(parent, a, b)\r\n",
        "        result += cost\r\n",
        "\r\n",
        "print(total - result)"
      ],
      "execution_count": 2,
      "outputs": [
        {
          "output_type": "stream",
          "text": [
            "7 11\n",
            "0 1 7\n",
            "0 3 5\n",
            "1 2 8\n",
            "1 3 9\n",
            "1 4 7\n",
            "2 4 5\n",
            "3 4 15\n",
            "3 5 6\n",
            "4 5 8\n",
            "4 6 9\n",
            "5 6 11\n",
            "51\n"
          ],
          "name": "stdout"
        }
      ]
    }
  ]
}