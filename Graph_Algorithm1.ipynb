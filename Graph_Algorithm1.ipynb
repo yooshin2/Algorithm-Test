{
  "nbformat": 4,
  "nbformat_minor": 0,
  "metadata": {
    "colab": {
      "name": "Graph-Algorithm1.ipynb",
      "provenance": [],
      "authorship_tag": "ABX9TyMs/gsHrArArtgonn8jbj+j",
      "include_colab_link": true
    },
    "kernelspec": {
      "name": "python3",
      "display_name": "Python 3"
    }
  },
  "cells": [
    {
      "cell_type": "markdown",
      "metadata": {
        "id": "view-in-github",
        "colab_type": "text"
      },
      "source": [
        "<a href=\"https://colab.research.google.com/github/yooshin2/Algorithm-Test/blob/main/Graph_Algorithm1.ipynb\" target=\"_parent\"><img src=\"https://colab.research.google.com/assets/colab-badge.svg\" alt=\"Open In Colab\"/></a>"
      ]
    },
    {
      "cell_type": "code",
      "metadata": {
        "colab": {
          "base_uri": "https://localhost:8080/"
        },
        "id": "PZ1R882n9lrI",
        "outputId": "bad97591-1683-44ca-c05f-4382178651ba"
      },
      "source": [
        "def find_parent(parent, x):\r\n",
        "    if parent[x] != x:\r\n",
        "        return find_parent(parent, parent[x])\r\n",
        "    return x\r\n",
        "\r\n",
        "def union_parent(parent, a, b):\r\n",
        "    a = find_parent(parent, a)\r\n",
        "    b = find_parent(parent, b)\r\n",
        "    if a < b:\r\n",
        "        parent[b] = a\r\n",
        "    else:\r\n",
        "        parent[a] = b\r\n",
        "\r\n",
        "v, e = map(int, input().split())\r\n",
        "parent = [0] * (v + 1)\r\n",
        "for i in range(1, v + 1):\r\n",
        "    parent[i] = i\r\n",
        "\r\n",
        "for i in range (e):\r\n",
        "    a, b = map(int, input().split())\r\n",
        "    union_parent(parent, a, b)\r\n",
        "\r\n",
        "print(\"각 원소가 속한 집합 : \", end='')\r\n",
        "for i in range(1, v + 1):\r\n",
        "    print(find_parent(parent, i), end=' ')\r\n",
        "\r\n",
        "print()\r\n",
        "\r\n",
        "print(\"부모 테이블 : \", end='')\r\n",
        "for i in range(1, v + 1):\r\n",
        "    print(parent[i], end=' ')"
      ],
      "execution_count": 4,
      "outputs": [
        {
          "output_type": "stream",
          "text": [
            "6 4\n",
            "1 4\n",
            "2 3\n",
            "2 4\n",
            "5 6\n",
            "각 원소가 속한 집합 : 1 1 1 1 5 5 \n",
            "부모 테이블 : 1 1 2 1 5 5 "
          ],
          "name": "stdout"
        }
      ]
    }
  ]
}