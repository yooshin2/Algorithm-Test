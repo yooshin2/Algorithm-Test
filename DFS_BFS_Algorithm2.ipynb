{
  "nbformat": 4,
  "nbformat_minor": 0,
  "metadata": {
    "colab": {
      "name": "DFS/BFS/Algorithm2.ipynb",
      "provenance": [],
      "authorship_tag": "ABX9TyMlUlJdWtcsT2thK/zn6ZTO",
      "include_colab_link": true
    },
    "kernelspec": {
      "name": "python3",
      "display_name": "Python 3"
    }
  },
  "cells": [
    {
      "cell_type": "markdown",
      "metadata": {
        "id": "view-in-github",
        "colab_type": "text"
      },
      "source": [
        "<a href=\"https://colab.research.google.com/github/yooshin2/Algorithm-Test/blob/main/DFS_BFS_Algorithm2.ipynb\" target=\"_parent\"><img src=\"https://colab.research.google.com/assets/colab-badge.svg\" alt=\"Open In Colab\"/></a>"
      ]
    },
    {
      "cell_type": "code",
      "metadata": {
        "colab": {
          "base_uri": "https://localhost:8080/"
        },
        "id": "-CzYbnJOFQC0",
        "outputId": "bea7ae7f-6f98-433f-cd45-c4761b13d9b3"
      },
      "source": [
        "n, m = map(int, input().split())\n",
        "\n",
        "graph = []\n",
        "for i in range(n):\n",
        "    graph.append(list(map(int, input().split())))\n",
        "\n",
        "def dfs(x, y):\n",
        "    if x <= -1 or x >= n or y <= -1 or y >= n:\n",
        "        return False\n",
        "      \n",
        "    if graph[x][y] == 0:\n",
        "        graph[x][y] = 1\n",
        "        dfs(x - 1, y)\n",
        "        dfs(x, y - 1)\n",
        "        dfs(x + 1, y)\n",
        "        dfs(x, y + 1)\n",
        "        return True\n",
        "    return False\n",
        "\n",
        "count = 0\n",
        "for i in range(n):\n",
        "    for j in range(m):\n",
        "        if dfs(i, j):\n",
        "            count += 1\n",
        "\n",
        "print(count)"
      ],
      "execution_count": 16,
      "outputs": [
        {
          "output_type": "stream",
          "text": [
            "5 6\n",
            "0 1 0 1 0 0\n",
            "1 0 0 1 1 0\n",
            "0 1 0 0 1 0\n",
            "0 1 1 1 0 1\n",
            "0 0 1 0 1 1\n",
            "6\n"
          ],
          "name": "stdout"
        }
      ]
    },
    {
      "cell_type": "code",
      "metadata": {
        "colab": {
          "base_uri": "https://localhost:8080/"
        },
        "id": "TxPGd21YQrQ6",
        "outputId": "95944d48-31a2-4e36-d0d3-75cd92927f55"
      },
      "source": [
        "from collections import deque\n",
        "\n",
        "n, m = map(int, input().split())\n",
        "\n",
        "graph = []\n",
        "for i in range(n):\n",
        "    graph.append(list(map(int, input().split())))\n",
        "\n",
        "dx = [-1, 1, 0, 0]\n",
        "dy = [0, 0, 1, -1]\n",
        "\n",
        "def bfs(x, y):\n",
        "    queue = deque()\n",
        "    queue.append((x, y))\n",
        "    \n",
        "    while queue:\n",
        "        x, y = queue.popleft()\n",
        "\n",
        "        for i in range(4):\n",
        "            nx = x + dx[i]\n",
        "            ny = y + dy[i]\n",
        "            if nx < 0 or ny < 0 or nx >= n or ny >= m:\n",
        "                continue\n",
        "            \n",
        "            if graph[nx][ny] == 0:\n",
        "                continue\n",
        "\n",
        "            if graph[nx][ny] == 1:\n",
        "                graph[nx][ny] = graph[x][y] + 1\n",
        "                queue.append((nx, ny))\n",
        "    \n",
        "    return graph[n - 1][m - 1]\n",
        "\n",
        "print(bfs(0, 0))\n",
        "            \n"
      ],
      "execution_count": 15,
      "outputs": [
        {
          "output_type": "stream",
          "text": [
            "5 5\n",
            "1 1 1 1 1\n",
            "1 0 0 0 1\n",
            "1 1 1 1 1\n",
            "1 0 0 0 0\n",
            "1 1 1 1 1\n",
            "9\n"
          ],
          "name": "stdout"
        }
      ]
    }
  ]
}