{
  "nbformat": 4,
  "nbformat_minor": 0,
  "metadata": {
    "colab": {
      "name": "Shortest-Path-Question2.ipynb",
      "provenance": [],
      "authorship_tag": "ABX9TyME7SbhqDez6DuW0N18tRez",
      "include_colab_link": true
    },
    "kernelspec": {
      "name": "python3",
      "display_name": "Python 3"
    }
  },
  "cells": [
    {
      "cell_type": "markdown",
      "metadata": {
        "id": "view-in-github",
        "colab_type": "text"
      },
      "source": [
        "<a href=\"https://colab.research.google.com/github/yooshin2/Algorithm-Test/blob/main/Shortest_Path_Question2.ipynb\" target=\"_parent\"><img src=\"https://colab.research.google.com/assets/colab-badge.svg\" alt=\"Open In Colab\"/></a>"
      ]
    },
    {
      "cell_type": "code",
      "metadata": {
        "colab": {
          "base_uri": "https://localhost:8080/"
        },
        "id": "3-hDCG2X9qAG",
        "outputId": "64436032-2ea2-40c6-bb1d-567a431ad68c"
      },
      "source": [
        "INF = int(1e9)\r\n",
        "\r\n",
        "n, m = map(int, input().split())\r\n",
        "graph = [[INF] * (n + 1) for _ in range(n + 1)]\r\n",
        " \r\n",
        "for a in range(1, n + 1):\r\n",
        "    for b in range(1, n + 1):\r\n",
        "        if a == b:\r\n",
        "            graph[a][b] = 0\r\n",
        " \r\n",
        "for _ in range(m):\r\n",
        "    a, b = map(int, input().split())\r\n",
        "    graph[a][b] = 1\r\n",
        " \r\n",
        "for k in range(1, n + 1):\r\n",
        "    for a in range(1, n + 1):\r\n",
        "        for b in range(1, n + 1):\r\n",
        "            graph[a][b] = min(graph[a][b], graph[a][k] + graph[k][b])\r\n",
        "\r\n",
        "result = 0\r\n",
        "for i in range(1, n + 1):\r\n",
        "    count = 0\r\n",
        "    for j in range(1, n + 1):\r\n",
        "        if graph[i][j] != INF or graph[j][i] != INF:\r\n",
        "            count += 1\r\n",
        "    if count == n:\r\n",
        "        result += 1\r\n",
        "print(result)"
      ],
      "execution_count": 2,
      "outputs": [
        {
          "output_type": "stream",
          "text": [
            "6 7\n",
            "1 5\n",
            "3 4\n",
            "4 2\n",
            "4 6\n",
            "5 2\n",
            "5 4\n",
            "2 6\n",
            "3\n"
          ],
          "name": "stdout"
        }
      ]
    }
  ]
}