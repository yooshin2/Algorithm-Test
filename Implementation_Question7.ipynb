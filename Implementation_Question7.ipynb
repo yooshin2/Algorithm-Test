{
  "nbformat": 4,
  "nbformat_minor": 0,
  "metadata": {
    "colab": {
      "name": "Implementation-Question7.ipynb",
      "provenance": [],
      "authorship_tag": "ABX9TyNr1zw18E5gw3LeADsxQnPH",
      "include_colab_link": true
    },
    "kernelspec": {
      "name": "python3",
      "display_name": "Python 3"
    }
  },
  "cells": [
    {
      "cell_type": "markdown",
      "metadata": {
        "id": "view-in-github",
        "colab_type": "text"
      },
      "source": [
        "<a href=\"https://colab.research.google.com/github/yooshin2/Algorithm-Test/blob/main/Implementation_Question7.ipynb\" target=\"_parent\"><img src=\"https://colab.research.google.com/assets/colab-badge.svg\" alt=\"Open In Colab\"/></a>"
      ]
    },
    {
      "cell_type": "code",
      "metadata": {
        "colab": {
          "base_uri": "https://localhost:8080/"
        },
        "id": "BCCobOkSLyKl",
        "outputId": "dd93cb39-4d3f-4dec-f721-d19bdf5927cd"
      },
      "source": [
        "from itertools import permutations\r\n",
        "\r\n",
        "def solution(n, weak, dist):\r\n",
        "    length = len(weak)\r\n",
        "    for i in range(length):\r\n",
        "        weak.append(weak[i] + n)\r\n",
        "    answer = len(dist) + 1\r\n",
        "    for start in range(length):\r\n",
        "        for friends in list(permutations(dist, len(dist))):\r\n",
        "            count = 1\r\n",
        "            position = weak[start] + friends[count - 1]\r\n",
        "            for index in (start, start + length):\r\n",
        "                if position < weak[index]:\r\n",
        "                    count += 1\r\n",
        "                    if count > len(dist):\r\n",
        "                        return -1\r\n",
        "                    position = weak[index] + friends[count - 1]\r\n",
        "            answer = min(answer, count)\r\n",
        "    if answer > len(dist):\r\n",
        "        return -1\r\n",
        "    return answer\r\n",
        "\r\n",
        "n = 12\r\n",
        "weak = [1, 5, 6, 10]\r\n",
        "dist = [1, 2, 3, 4]\r\n",
        "\r\n",
        "solution(n, weak, dist)"
      ],
      "execution_count": 8,
      "outputs": [
        {
          "output_type": "execute_result",
          "data": {
            "text/plain": [
              "2"
            ]
          },
          "metadata": {
            "tags": []
          },
          "execution_count": 8
        }
      ]
    }
  ]
}