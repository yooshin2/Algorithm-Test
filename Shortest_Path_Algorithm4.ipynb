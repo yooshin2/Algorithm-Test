{
  "nbformat": 4,
  "nbformat_minor": 0,
  "metadata": {
    "colab": {
      "name": "Shortest-Path-Algorithm4.ipynb",
      "provenance": [],
      "collapsed_sections": [],
      "authorship_tag": "ABX9TyOY5rPyPCIDkfDwwSn3zJqC",
      "include_colab_link": true
    },
    "kernelspec": {
      "name": "python3",
      "display_name": "Python 3"
    }
  },
  "cells": [
    {
      "cell_type": "markdown",
      "metadata": {
        "id": "view-in-github",
        "colab_type": "text"
      },
      "source": [
        "<a href=\"https://colab.research.google.com/github/yooshin2/Algorithm-Test/blob/main/Shortest_Path_Algorithm4.ipynb\" target=\"_parent\"><img src=\"https://colab.research.google.com/assets/colab-badge.svg\" alt=\"Open In Colab\"/></a>"
      ]
    },
    {
      "cell_type": "code",
      "metadata": {
        "colab": {
          "base_uri": "https://localhost:8080/"
        },
        "id": "DNVvmS3MS7qE",
        "outputId": "105d2aae-9f83-4ac8-e640-7a98081691a4"
      },
      "source": [
        "import heapq\n",
        "INF = int(1e9)\n",
        "\n",
        "n, m, start = map(int, input().split())\n",
        "graph = [[] for i in range(n + 1)]\n",
        "distance = [INF] * (n + 1)\n",
        "\n",
        "for _ in range(m):\n",
        "    x, y, z = map(int, input().split())\n",
        "    graph[x].append((y, z))\n",
        "\n",
        "def dijkstra(start):\n",
        "   q = []\n",
        "   heapq.heappush(q, (0, start))\n",
        "   distance[start] = 0\n",
        "   while q:\n",
        "        dist, now = heapq.heappop(q)\n",
        "        if distance[now] < dist:\n",
        "            continue\n",
        "        for i in graph[now]:\n",
        "            cost = dist + i[1]\n",
        "            if cost < distance[i[0]]:\n",
        "                distance[i[0]] = cost\n",
        "                heapq.heappush(q, (cost, i[0]))\n",
        "\n",
        "dijkstra(start)\n",
        "\n",
        "count = 0\n",
        "max_distance = 0\n",
        "for d in distance:\n",
        "    if d != 1e9:\n",
        "        count += 1\n",
        "        max_distance = max(max_distance, d)\n",
        "\n",
        "print(count - 1, max_distance)"
      ],
      "execution_count": 2,
      "outputs": [
        {
          "output_type": "stream",
          "text": [
            "3 2 1\n",
            "1 2 4\n",
            "1 3 2\n",
            "2 4\n"
          ],
          "name": "stdout"
        }
      ]
    }
  ]
}