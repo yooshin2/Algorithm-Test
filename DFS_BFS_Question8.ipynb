{
  "nbformat": 4,
  "nbformat_minor": 0,
  "metadata": {
    "colab": {
      "name": "DFS/BFS-Question8.ipynb",
      "provenance": [],
      "authorship_tag": "ABX9TyNw4y0D716HV3/03DzV73Ni",
      "include_colab_link": true
    },
    "kernelspec": {
      "name": "python3",
      "display_name": "Python 3"
    }
  },
  "cells": [
    {
      "cell_type": "markdown",
      "metadata": {
        "id": "view-in-github",
        "colab_type": "text"
      },
      "source": [
        "<a href=\"https://colab.research.google.com/github/yooshin2/Algorithm-Test/blob/main/DFS_BFS_Question8.ipynb\" target=\"_parent\"><img src=\"https://colab.research.google.com/assets/colab-badge.svg\" alt=\"Open In Colab\"/></a>"
      ]
    },
    {
      "cell_type": "code",
      "metadata": {
        "colab": {
          "base_uri": "https://localhost:8080/"
        },
        "id": "6xkifGh0gtjL",
        "outputId": "0e74b0bf-fc62-4718-c9ab-3a9050bb58aa"
      },
      "source": [
        "from collections import deque\r\n",
        "\r\n",
        "def get_next_pos(pos, board):\r\n",
        "    next_pos = []\r\n",
        "    pos = list(pos)\r\n",
        "    pos1_x, pos1_y, pos2_x, pos2_y = pos[0][0], pos[0][1], pos[1][0], pos[1][1]\r\n",
        "    dx = [-1, 1, 0, 0]\r\n",
        "    dy = [0, 0, -1, 1]\r\n",
        "    for i in range(4):\r\n",
        "        pos1_next_x, pos1_next_y, pos2_next_x, pos2_next_y = pos1_x + dx[i], pos1_y + dy[i], pos2_x + dx[i], pos2_y + dy[i]\r\n",
        "        if board[pos1_next_x][pos1_next_y] == 0 and board[pos2_next_x][pos2_next_y] == 0:\r\n",
        "            next_pos.append({(pos1_next_x, pos1_next_y), (pos2_next_x, pos2_next_y)})\r\n",
        "    if pos1_x == pos2_x:\r\n",
        "        for i in [-1, 1]:\r\n",
        "            if board[pos1_x + i][pos1_y] == 0 and board[pos2_x + i][pos2_y] == 0:\r\n",
        "                next_pos.append({(pos1_x, pos1_y), (pos1_x + i, pos1_y)})\r\n",
        "                next_pos.append({(pos2_x, pos2_y), (pos2_x + i, pos2_y)})\r\n",
        "    elif pos1_y == pos2_y:\r\n",
        "        for i in [-1, 1]:\r\n",
        "            if board[pos1_x][pos1_y + i] == 0 and board[pos2_x][pos2_y + i] == 0:\r\n",
        "                next_pos.append({(pos1_x, pos1_y), (pos1_x, pos1_y + i)})\r\n",
        "                next_pos.append({(pos2_x, pos2_y), (pos2_x, pos2_y + i)})\r\n",
        "    return next_pos\r\n",
        "\r\n",
        "def solution(board):\r\n",
        "    n = len(board)\r\n",
        "    new_board = [[1] * (n + 2) for _ in range(n * 2)]\r\n",
        "    for i in range(n):\r\n",
        "        for j in range(n):\r\n",
        "            new_board[i + 1][j + 1] = board[i][j]\r\n",
        "    q = deque()\r\n",
        "    visited = []\r\n",
        "    pos = {(1, 1), (1, 2)}\r\n",
        "    q.append((pos, 0))\r\n",
        "    visited.append(pos)\r\n",
        "    while q:\r\n",
        "        pos, cost = q.popleft()\r\n",
        "        if (n, n) in pos:\r\n",
        "            return cost\r\n",
        "        for next_pos in get_next_pos(pos, new_board):\r\n",
        "            if next_pos not in visited:\r\n",
        "                q.append((next_pos, cost + 1))\r\n",
        "                visited.append(next_pos)\r\n",
        "    return 0\r\n",
        "\r\n",
        "board = [[0, 0, 0, 1, 1], [0, 0, 0, 1, 0], [0, 1, 0, 1, 1], [1, 1, 0, 0, 1], [0, 0, 0, 0, 0]]\r\n",
        "solution(board)"
      ],
      "execution_count": 8,
      "outputs": [
        {
          "output_type": "execute_result",
          "data": {
            "text/plain": [
              "7"
            ]
          },
          "metadata": {
            "tags": []
          },
          "execution_count": 8
        }
      ]
    }
  ]
}