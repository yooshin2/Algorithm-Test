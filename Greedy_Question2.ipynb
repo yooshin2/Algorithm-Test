{
  "nbformat": 4,
  "nbformat_minor": 0,
  "metadata": {
    "colab": {
      "name": "Greedy-Question2.ipynb",
      "provenance": [],
      "collapsed_sections": [],
      "authorship_tag": "ABX9TyPEi3nofN+gd3nPNb1m7dfV",
      "include_colab_link": true
    },
    "kernelspec": {
      "name": "python3",
      "display_name": "Python 3"
    }
  },
  "cells": [
    {
      "cell_type": "markdown",
      "metadata": {
        "id": "view-in-github",
        "colab_type": "text"
      },
      "source": [
        "<a href=\"https://colab.research.google.com/github/yooshin2/Algorithm-Test/blob/main/Greedy_Question2.ipynb\" target=\"_parent\"><img src=\"https://colab.research.google.com/assets/colab-badge.svg\" alt=\"Open In Colab\"/></a>"
      ]
    },
    {
      "cell_type": "code",
      "metadata": {
        "colab": {
          "base_uri": "https://localhost:8080/"
        },
        "id": "d2Qpmv4d5quH",
        "outputId": "2e5dbf23-df13-42bd-eb62-1a9a00790241"
      },
      "source": [
        "N = int(input())\r\n",
        "coins = list(map(int, input().split()))\r\n",
        "coins.sort()\r\n",
        "target = 1\r\n",
        "\r\n",
        "for coin in coins:\r\n",
        "    if target < coin:\r\n",
        "        break\r\n",
        "    target += coin\r\n",
        "\r\n",
        "print(target)"
      ],
      "execution_count": 7,
      "outputs": [
        {
          "output_type": "stream",
          "text": [
            "5\n",
            "3 2 1 1 9\n",
            "8\n"
          ],
          "name": "stdout"
        }
      ]
    },
    {
      "cell_type": "code",
      "metadata": {
        "colab": {
          "base_uri": "https://localhost:8080/"
        },
        "id": "EyXOI3M1Tsvi",
        "outputId": "441e59aa-ccd4-426c-8378-9a69f8559b36"
      },
      "source": [
        "n, m = map(int, input().split())\r\n",
        "data = list(map(int, input().split()))\r\n",
        "\r\n",
        "array = [0] * 11\r\n",
        "\r\n",
        "for x in data:\r\n",
        "    array[x] += 1\r\n",
        "\r\n",
        "result = 0\r\n",
        "for i in range(1, m + 1):\r\n",
        "    n -= array[i]\r\n",
        "    result += array[i] * n\r\n",
        "\r\n",
        "print(result)"
      ],
      "execution_count": 8,
      "outputs": [
        {
          "output_type": "stream",
          "text": [
            "8 5\n",
            "1 5 4 3 2 4 5 2\n",
            "25\n"
          ],
          "name": "stdout"
        }
      ]
    }
  ]
}