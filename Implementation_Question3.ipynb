{
  "nbformat": 4,
  "nbformat_minor": 0,
  "metadata": {
    "colab": {
      "name": "Implementation-Question3.ipynb",
      "provenance": [],
      "authorship_tag": "ABX9TyOCX48txvx2v0txZyJ/iBdF",
      "include_colab_link": true
    },
    "kernelspec": {
      "name": "python3",
      "display_name": "Python 3"
    }
  },
  "cells": [
    {
      "cell_type": "markdown",
      "metadata": {
        "id": "view-in-github",
        "colab_type": "text"
      },
      "source": [
        "<a href=\"https://colab.research.google.com/github/yooshin2/Algorithm-Test/blob/main/Implementation_Question3.ipynb\" target=\"_parent\"><img src=\"https://colab.research.google.com/assets/colab-badge.svg\" alt=\"Open In Colab\"/></a>"
      ]
    },
    {
      "cell_type": "code",
      "metadata": {
        "colab": {
          "base_uri": "https://localhost:8080/"
        },
        "id": "DIZN_MzI4a4e",
        "outputId": "3aae674b-2b8a-4cd5-e55e-e0757ff967a4"
      },
      "source": [
        "def rotate_a_matrix_by_90_degree(a):\r\n",
        "    n = len(a)\r\n",
        "    m = len(a[0])\r\n",
        "    result = [[0] * n for _ in range(m)]\r\n",
        "    for i in range(n):\r\n",
        "        for j in range(m):\r\n",
        "            result[j][n - i - 1]= a[i][j]\r\n",
        "    return result\r\n",
        "\r\n",
        "def check(new_lock):\r\n",
        "    lock_length = len(new_lock) // 3\r\n",
        "    for i in range(lock_length, lock_length * 2):\r\n",
        "        for j in range(lock_length, lock_length * 2):\r\n",
        "            if new_lock[i][j] != 1:\r\n",
        "                return False\r\n",
        "    return True\r\n",
        "\r\n",
        "def solution(key, lock):\r\n",
        "    n = len(lock)\r\n",
        "    m = len(key)\r\n",
        "    new_lock = [[0] * (n * 3) for _ in range(n * 3)]\r\n",
        "    for i in range(n):\r\n",
        "        for j in range(n):\r\n",
        "            new_lock[i + n][j + n] = lock[i][j]\r\n",
        "    \r\n",
        "    for ratation in range(4):\r\n",
        "        key = rotate_a_matrix_by_90_degree(key)\r\n",
        "        for x in range(1, n * 2):\r\n",
        "            for y in range(1, n * 2):\r\n",
        "                for i in range(m):\r\n",
        "                    for j in range(m):\r\n",
        "                        new_lock[x + i][y + j] += key[i][j]\r\n",
        "                if check(new_lock) == True:\r\n",
        "                    return True\r\n",
        "                for i in range(m):\r\n",
        "                    for j in range(m):\r\n",
        "                        new_lock[x + i][y + j] -= key[i][j]\r\n",
        "    return False\r\n",
        "\r\n",
        "key = [[0, 0, 0], [1, 0, 0], [0, 1, 1]]\r\n",
        "lock = [[1, 1, 1], [1, 1, 0], [1, 0, 1]]\r\n",
        "\r\n",
        "solution(key, lock)"
      ],
      "execution_count": 22,
      "outputs": [
        {
          "output_type": "execute_result",
          "data": {
            "text/plain": [
              "True"
            ]
          },
          "metadata": {
            "tags": []
          },
          "execution_count": 22
        }
      ]
    }
  ]
}