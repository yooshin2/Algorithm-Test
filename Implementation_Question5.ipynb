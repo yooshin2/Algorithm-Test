{
  "nbformat": 4,
  "nbformat_minor": 0,
  "metadata": {
    "colab": {
      "name": "Implementation-Question5.ipynb",
      "provenance": [],
      "authorship_tag": "ABX9TyOPVuU8unV3QuYbae7kLgHq",
      "include_colab_link": true
    },
    "kernelspec": {
      "name": "python3",
      "display_name": "Python 3"
    }
  },
  "cells": [
    {
      "cell_type": "markdown",
      "metadata": {
        "id": "view-in-github",
        "colab_type": "text"
      },
      "source": [
        "<a href=\"https://colab.research.google.com/github/yooshin2/Algorithm-Test/blob/main/Implementation_Question5.ipynb\" target=\"_parent\"><img src=\"https://colab.research.google.com/assets/colab-badge.svg\" alt=\"Open In Colab\"/></a>"
      ]
    },
    {
      "cell_type": "code",
      "metadata": {
        "colab": {
          "base_uri": "https://localhost:8080/"
        },
        "id": "SICUbUm85QXY",
        "outputId": "3b40574c-c7cc-41c4-cf96-a7841b117440"
      },
      "source": [
        "def possible(answer):\r\n",
        "    for x, y, stuff in answer:\r\n",
        "        if stuff == 0:\r\n",
        "            if y == 0 or [x - 1, y, 1] in answer or [x, y, 1] in answer or [x, y - 1, 0] in answer:\r\n",
        "                continue\r\n",
        "            return False\r\n",
        "        elif stuff == 1:\r\n",
        "            if [x, y - 1, 0] in answer or [x + 1, y - 1, 0] in answer or ([x - 1, y, 1] in answer and [x + 1, y, 1] in answer):\r\n",
        "                continue\r\n",
        "            return False\r\n",
        "    return True\r\n",
        "\r\n",
        "def solution(n, build_frame):\r\n",
        "    answer = []\r\n",
        "    for frame in build_frame:\r\n",
        "        x, y, stuff, operate = frame\r\n",
        "        if operate == 0:\r\n",
        "            answer.remove([x, y, stuff])\r\n",
        "            if not possible(answer):\r\n",
        "                answer.append([x, y, stuff])\r\n",
        "        if operate == 1:\r\n",
        "            if stuff == 0:\r\n",
        "                if x > n or y >= n:\r\n",
        "                    continue\r\n",
        "            elif stuff == 1:\r\n",
        "                if x >= n or y > n:\r\n",
        "                    continue \r\n",
        "            answer.append([x, y, stuff])\r\n",
        "            if not possible(answer):\r\n",
        "                answer.remove([x, y, stuff])\r\n",
        "    return sorted(answer)\r\n",
        "\r\n",
        "n = 5\r\n",
        "build_frame = [[1, 0, 0, 1], [1, 1, 1, 1], [2, 1, 0, 1], [2, 2, 1, 1], [5, 0, 0, 1], [5, 1, 0, 1], [4, 2, 1, 1], [3, 2, 1, 1]]\r\n",
        "\r\n",
        "solution(n, build_frame)"
      ],
      "execution_count": 7,
      "outputs": [
        {
          "output_type": "execute_result",
          "data": {
            "text/plain": [
              "[[1, 0, 0],\n",
              " [1, 1, 1],\n",
              " [2, 1, 0],\n",
              " [2, 2, 1],\n",
              " [3, 2, 1],\n",
              " [4, 2, 1],\n",
              " [5, 0, 0],\n",
              " [5, 1, 0]]"
            ]
          },
          "metadata": {
            "tags": []
          },
          "execution_count": 7
        }
      ]
    }
  ]
}