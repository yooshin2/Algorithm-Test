{
  "nbformat": 4,
  "nbformat_minor": 0,
  "metadata": {
    "colab": {
      "name": "Dynamic-Question1.ipynb",
      "provenance": [],
      "authorship_tag": "ABX9TyOf8YAkKB5Me373waojMi5t",
      "include_colab_link": true
    },
    "kernelspec": {
      "name": "python3",
      "display_name": "Python 3"
    }
  },
  "cells": [
    {
      "cell_type": "markdown",
      "metadata": {
        "id": "view-in-github",
        "colab_type": "text"
      },
      "source": [
        "<a href=\"https://colab.research.google.com/github/yooshin2/Algorithm-Test/blob/main/Dynamic_Question1.ipynb\" target=\"_parent\"><img src=\"https://colab.research.google.com/assets/colab-badge.svg\" alt=\"Open In Colab\"/></a>"
      ]
    },
    {
      "cell_type": "code",
      "metadata": {
        "colab": {
          "base_uri": "https://localhost:8080/"
        },
        "id": "oXQLNxRzajVc",
        "outputId": "dcfa1cc9-6d1e-4668-8c19-0ec296ecd934"
      },
      "source": [
        "for tc in range(int(input())):\r\n",
        "    n, m = map(int, input().split())\r\n",
        "    array = list(map(int, input().split()))\r\n",
        "\r\n",
        "    gold = []\r\n",
        "    index = 0\r\n",
        "    for i in range(n):\r\n",
        "        gold.append(array[index:index + m])\r\n",
        "        index += m\r\n",
        "    \r\n",
        "    for j in range(1, m):\r\n",
        "        for i in range(n):\r\n",
        "            if i == 0:\r\n",
        "                left_up = 0\r\n",
        "            else:\r\n",
        "                left_up = gold[i - 1][j - 1]\r\n",
        "            if i == n - 1:\r\n",
        "                left_down = 0\r\n",
        "            else:\r\n",
        "                left_down = gold[i + 1][j - 1]\r\n",
        "            left = gold[i][j - 1]\r\n",
        "            gold[i][j] = gold[i][j] + max(left, left_down, left_up)\r\n",
        "\r\n",
        "    result = 0\r\n",
        "    for i in range(n):\r\n",
        "        result = max(result, gold[i][m - 1])\r\n",
        "\r\n",
        "    print(result)"
      ],
      "execution_count": 3,
      "outputs": [
        {
          "output_type": "stream",
          "text": [
            "2\n",
            "3 4\n",
            "1 3 3 2 2 1 4 1 0 6 4 7\n",
            "19\n",
            "4 4 \n",
            "1 3 1 5 2 2 4 1 0 5 2 3 0 6 1 2\n",
            "16\n"
          ],
          "name": "stdout"
        }
      ]
    }
  ]
}