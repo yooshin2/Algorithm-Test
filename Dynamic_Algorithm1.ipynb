{
  "nbformat": 4,
  "nbformat_minor": 0,
  "metadata": {
    "colab": {
      "name": "Dynamic-Algorithm1.ipynb",
      "provenance": [],
      "collapsed_sections": [],
      "authorship_tag": "ABX9TyN93bkMyLFwbV4cpvPSgvPB",
      "include_colab_link": true
    },
    "kernelspec": {
      "name": "python3",
      "display_name": "Python 3"
    }
  },
  "cells": [
    {
      "cell_type": "markdown",
      "metadata": {
        "id": "view-in-github",
        "colab_type": "text"
      },
      "source": [
        "<a href=\"https://colab.research.google.com/github/yooshin2/Algorithm-Test/blob/main/Dynamic_Algorithm1.ipynb\" target=\"_parent\"><img src=\"https://colab.research.google.com/assets/colab-badge.svg\" alt=\"Open In Colab\"/></a>"
      ]
    },
    {
      "cell_type": "code",
      "metadata": {
        "colab": {
          "base_uri": "https://localhost:8080/"
        },
        "id": "31cDQlkztMAz",
        "outputId": "289150b5-dde5-4de6-9751-3a01ee41332b"
      },
      "source": [
        "def fibo(x):\n",
        "    if x == 1 or x == 2:\n",
        "        return 1\n",
        "    else:\n",
        "        return fibo(x - 1) + fibo(x - 2)\n",
        "\n",
        "print(fibo(10))"
      ],
      "execution_count": 8,
      "outputs": [
        {
          "output_type": "stream",
          "text": [
            "55\n"
          ],
          "name": "stdout"
        }
      ]
    },
    {
      "cell_type": "code",
      "metadata": {
        "colab": {
          "base_uri": "https://localhost:8080/"
        },
        "id": "CpzuxxMvvxmA",
        "outputId": "5ef0515d-cddd-4bd9-95c2-2d9aaa95d324"
      },
      "source": [
        "d = [0] * 101\n",
        "\n",
        "def fibo(x):\n",
        "    if x == 1 or x == 2:\n",
        "        return 1\n",
        "    if d[x] != 0:\n",
        "        return d[x]\n",
        "    d[x] = fibo(x - 1) + fibo(x - 2)\n",
        "    return d[x]\n",
        "\n",
        "print(fibo(100))"
      ],
      "execution_count": 13,
      "outputs": [
        {
          "output_type": "stream",
          "text": [
            "354224848179261915075\n"
          ],
          "name": "stdout"
        }
      ]
    },
    {
      "cell_type": "code",
      "metadata": {
        "colab": {
          "base_uri": "https://localhost:8080/"
        },
        "id": "Y8ewXEeb8HdH",
        "outputId": "428656be-d2c6-4363-aed4-05be5515ad64"
      },
      "source": [
        "d = [0] * 101\n",
        "\n",
        "d[1] = 1\n",
        "d[2] = 1\n",
        "n = 100\n",
        "\n",
        "for i in range(3, n + 1):\n",
        "    d[i] = d[i - 1] + d[i - 2]\n",
        "\n",
        "print(d[n])"
      ],
      "execution_count": 14,
      "outputs": [
        {
          "output_type": "stream",
          "text": [
            "354224848179261915075\n"
          ],
          "name": "stdout"
        }
      ]
    }
  ]
}