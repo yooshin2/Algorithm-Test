{
  "nbformat": 4,
  "nbformat_minor": 0,
  "metadata": {
    "colab": {
      "name": "Review5.ipynb",
      "provenance": [],
      "authorship_tag": "ABX9TyMedqyIlI1QPiV2RjS6gWpU",
      "include_colab_link": true
    },
    "kernelspec": {
      "name": "python3",
      "display_name": "Python 3"
    }
  },
  "cells": [
    {
      "cell_type": "markdown",
      "metadata": {
        "id": "view-in-github",
        "colab_type": "text"
      },
      "source": [
        "<a href=\"https://colab.research.google.com/github/yooshin2/Algorithm-Test/blob/main/Review5.ipynb\" target=\"_parent\"><img src=\"https://colab.research.google.com/assets/colab-badge.svg\" alt=\"Open In Colab\"/></a>"
      ]
    },
    {
      "cell_type": "code",
      "metadata": {
        "colab": {
          "base_uri": "https://localhost:8080/"
        },
        "id": "4ES3ubfzpjIF",
        "outputId": "fd0d3db9-2813-4722-8114-b90ab67969ed"
      },
      "source": [
        "# Find Parent\r\n",
        "\r\n",
        "def find_parent(parent, x):\r\n",
        "    if parent[x] != x:\r\n",
        "        parent[x] = find_parent(parent, parent[x])\r\n",
        "    return parent[x]"
      ],
      "execution_count": 1,
      "outputs": [
        {
          "output_type": "stream",
          "text": [
            "1\n"
          ],
          "name": "stdout"
        }
      ]
    },
    {
      "cell_type": "code",
      "metadata": {
        "id": "da5KqenXrEo0"
      },
      "source": [
        "# Union Parent\r\n",
        "\r\n",
        "def union_parent(parent, a, b):\r\n",
        "    a = find_parent(parent, a)\r\n",
        "    b = find_parent(parent, b)\r\n",
        "    if a < b:\r\n",
        "        parent[b] = a\r\n",
        "    else:\r\n",
        "        parent[a] = b"
      ],
      "execution_count": null,
      "outputs": []
    },
    {
      "cell_type": "code",
      "metadata": {
        "colab": {
          "base_uri": "https://localhost:8080/"
        },
        "id": "b-CdXdDlskqi",
        "outputId": "5156fa68-f5e1-4689-beef-62e7a427e3ba"
      },
      "source": [
        "# Kruskal Algorithm\r\n",
        "\r\n",
        "def find_parent(parent, x):\r\n",
        "    if parent[x] != x:\r\n",
        "        parent[x] = find_parent(parent, parent[x])\r\n",
        "    return parent[x]\r\n",
        "\r\n",
        "def union_parent(parent, a, b):\r\n",
        "    a = find_parent(parent, a)\r\n",
        "    b = find_parent(parent, b)\r\n",
        "    if a < b:\r\n",
        "        parent[b] = a\r\n",
        "    else:\r\n",
        "        parent[a] = b\r\n",
        "\r\n",
        "v, e = map(int, input().split())\r\n",
        "parent = [0] * (v + 1)\r\n",
        "\r\n",
        "edges = []\r\n",
        "result = 0\r\n",
        "\r\n",
        "for i in range(1, v + 1):\r\n",
        "    parent[i] = i\r\n",
        "\r\n",
        "for _ in range(e):\r\n",
        "    a, b, cost = map(int, input().split())\r\n",
        "    edges.append((cost, a, b))\r\n",
        "\r\n",
        "edges.sort()\r\n",
        "\r\n",
        "for edge in edges:\r\n",
        "    cost, a, b = edge\r\n",
        "    if find_parent(parent, a) != find_parent(parent, b):\r\n",
        "        union_parent(parent, a, b)\r\n",
        "        result += cost\r\n",
        "\r\n",
        "print(result)"
      ],
      "execution_count": 3,
      "outputs": [
        {
          "output_type": "stream",
          "text": [
            "7 9\n",
            "1 2 29\n",
            "1 5 75\n",
            "2 3 35\n",
            "2 6 34\n",
            "3 4 7\n",
            "4 6 23\n",
            "4 7 13\n",
            "5 6 53\n",
            "6 7 25\n",
            "159\n"
          ],
          "name": "stdout"
        }
      ]
    }
  ]
}