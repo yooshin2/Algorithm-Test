{
  "nbformat": 4,
  "nbformat_minor": 0,
  "metadata": {
    "colab": {
      "name": "Review2.ipynb",
      "provenance": [],
      "collapsed_sections": [],
      "authorship_tag": "ABX9TyOdM4L5AlV3LLukKSpd0ytH",
      "include_colab_link": true
    },
    "kernelspec": {
      "name": "python3",
      "display_name": "Python 3"
    }
  },
  "cells": [
    {
      "cell_type": "markdown",
      "metadata": {
        "id": "view-in-github",
        "colab_type": "text"
      },
      "source": [
        "<a href=\"https://colab.research.google.com/github/yooshin2/Algorithm-Test/blob/main/Review2.ipynb\" target=\"_parent\"><img src=\"https://colab.research.google.com/assets/colab-badge.svg\" alt=\"Open In Colab\"/></a>"
      ]
    },
    {
      "cell_type": "code",
      "metadata": {
        "colab": {
          "base_uri": "https://localhost:8080/"
        },
        "id": "Hpv8ULb7aEMN",
        "outputId": "fd42cf39-be24-4166-a605-7d7ecfa1461e"
      },
      "source": [
        "# Selection Sort\r\n",
        "\r\n",
        "array = [7, 5, 9, 0, 3, 1, 6, 2, 4, 8]\r\n",
        "\r\n",
        "for i in range(len(array)):\r\n",
        "    min_index = i\r\n",
        "    for j in range(i + 1, len(array)):\r\n",
        "        if array[min_index] > array[j]:\r\n",
        "            min_index = j\r\n",
        "    array[i], array[min_index] = array[min_index], array[i]\r\n",
        "\r\n",
        "print(array)"
      ],
      "execution_count": 2,
      "outputs": [
        {
          "output_type": "stream",
          "text": [
            "[0, 1, 2, 3, 4, 5, 6, 7, 8, 9]\n"
          ],
          "name": "stdout"
        }
      ]
    },
    {
      "cell_type": "code",
      "metadata": {
        "colab": {
          "base_uri": "https://localhost:8080/"
        },
        "id": "Stpzvu81dvZP",
        "outputId": "88a69d6f-44ac-48e0-a521-463569faba81"
      },
      "source": [
        "# Insertion Sort\r\n",
        "\r\n",
        "array = [7, 5, 9, 0, 3, 1, 6, 2, 4, 8]\r\n",
        "\r\n",
        "for i in range(1, len(array)):\r\n",
        "    for j in range(i, 0, -1):\r\n",
        "        if array[j] < array[j - 1]:\r\n",
        "            array[j], array[j - 1] = array[j - 1], array[j]\r\n",
        "        else:\r\n",
        "            break\r\n",
        "\r\n",
        "print(array)"
      ],
      "execution_count": 3,
      "outputs": [
        {
          "output_type": "stream",
          "text": [
            "[0, 1, 2, 3, 4, 5, 6, 7, 8, 9]\n"
          ],
          "name": "stdout"
        }
      ]
    },
    {
      "cell_type": "code",
      "metadata": {
        "colab": {
          "base_uri": "https://localhost:8080/"
        },
        "id": "lRkHxTI8gjsA",
        "outputId": "2ddeddc5-0996-4446-e7c5-2faa60f4f4d1"
      },
      "source": [
        "# Quick Sort\r\n",
        "\r\n",
        "array = [7, 5, 9, 0, 3, 1, 6, 2, 4, 8]\r\n",
        "\r\n",
        "def quick_sort(array, start, end):\r\n",
        "    if start >= end:\r\n",
        "        return\r\n",
        "    pivot = start\r\n",
        "    left = start + 1\r\n",
        "    right = end\r\n",
        "    while left <= right:\r\n",
        "        while left <= end and array[left] <= array[pivot]:\r\n",
        "            left += 1\r\n",
        "        while right > start and array[right] >= array[pivot]:\r\n",
        "            right -= 1\r\n",
        "        if left > right:\r\n",
        "            array[right], array[pivot] = array[pivot], array[right]\r\n",
        "        else:\r\n",
        "            array[left], array[right] = array[right], array[left]\r\n",
        "    quick_sort(array, start, right - 1)\r\n",
        "    quick_sort(array, right + 1, end)\r\n",
        "\r\n",
        "quick_sort(array, 0, len(array) - 1)\r\n",
        "print(array)"
      ],
      "execution_count": 7,
      "outputs": [
        {
          "output_type": "stream",
          "text": [
            "[0, 1, 2, 3, 4, 5, 6, 7, 8, 9]\n"
          ],
          "name": "stdout"
        }
      ]
    },
    {
      "cell_type": "code",
      "metadata": {
        "colab": {
          "base_uri": "https://localhost:8080/"
        },
        "id": "v0l6V0GKiOkF",
        "outputId": "699c4d1b-1302-46ae-8b7b-cc9817c03384"
      },
      "source": [
        " # Counting Sort\r\n",
        " \r\n",
        " array = [7, 5, 9, 0, 3, 1, 6, 2, 9, 1, 4, 8, 0, 5, 2]\r\n",
        "\r\n",
        " count = [0] * (max(array) + 1)\r\n",
        "\r\n",
        " for i in range(len(array)):\r\n",
        "     count[array[i]] += 1\r\n",
        "\r\n",
        "for i in range(len(count)):\r\n",
        "    for j in range(count[i]):\r\n",
        "        print(i, end=' ')"
      ],
      "execution_count": 11,
      "outputs": [
        {
          "output_type": "stream",
          "text": [
            "0 0 1 1 2 2 3 4 5 5 6 7 8 9 9 "
          ],
          "name": "stdout"
        }
      ]
    }
  ]
}