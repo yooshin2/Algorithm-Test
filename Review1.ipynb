{
  "nbformat": 4,
  "nbformat_minor": 0,
  "metadata": {
    "colab": {
      "name": "Review1.ipynb",
      "provenance": [],
      "authorship_tag": "ABX9TyNte+FixCnFIvC5yYN4Wjnc",
      "include_colab_link": true
    },
    "kernelspec": {
      "name": "python3",
      "display_name": "Python 3"
    }
  },
  "cells": [
    {
      "cell_type": "markdown",
      "metadata": {
        "id": "view-in-github",
        "colab_type": "text"
      },
      "source": [
        "<a href=\"https://colab.research.google.com/github/yooshin2/Algorithm-Test/blob/main/Review1.ipynb\" target=\"_parent\"><img src=\"https://colab.research.google.com/assets/colab-badge.svg\" alt=\"Open In Colab\"/></a>"
      ]
    },
    {
      "cell_type": "code",
      "metadata": {
        "colab": {
          "base_uri": "https://localhost:8080/"
        },
        "id": "7zCduvYIxsgb",
        "outputId": "ecd0d50e-aca1-473a-b43b-708451c22834"
      },
      "source": [
        "# DFS\r\n",
        "\r\n",
        "def dfs(graph, v, visited):\r\n",
        "    visited[v] = True\r\n",
        "    print(v, end=' ')\r\n",
        "    for i in graph[v]:\r\n",
        "        if not visited[i]:\r\n",
        "            dfs(graph, i, visited)\r\n",
        "    \r\n",
        "graph = [\r\n",
        "         [],\r\n",
        "         [2, 3, 8],\r\n",
        "         [1, 7],\r\n",
        "         [1, 4, 5],\r\n",
        "         [3, 5],\r\n",
        "         [3, 4],\r\n",
        "         [7],\r\n",
        "         [2, 6, 8],\r\n",
        "         [1, 7]\r\n",
        "    ]\r\n",
        "\r\n",
        "visited = [False] * 9\r\n",
        "\r\n",
        "dfs(graph, 1, visited)"
      ],
      "execution_count": 2,
      "outputs": [
        {
          "output_type": "stream",
          "text": [
            "1 2 7 6 8 3 4 5 "
          ],
          "name": "stdout"
        }
      ]
    },
    {
      "cell_type": "code",
      "metadata": {
        "colab": {
          "base_uri": "https://localhost:8080/"
        },
        "id": "tn1eRqoVB3fY",
        "outputId": "f88166e2-0bd1-4e3e-af02-6ce2c7b21cdd"
      },
      "source": [
        "# BFS\r\n",
        "\r\n",
        "from collections import deque\r\n",
        "\r\n",
        "def bfs(graph, start, visited):\r\n",
        "    queue = deque([start])\r\n",
        "    visited[start] = True\r\n",
        "    while queue:\r\n",
        "        v = queue.popleft()\r\n",
        "        print(v, end=' ')\r\n",
        "        for i in graph[v]:\r\n",
        "            if not visited[i]:\r\n",
        "                queue.append(i)\r\n",
        "                visited[i] = True\r\n",
        "\r\n",
        "graph = [\r\n",
        "         [],\r\n",
        "         [2, 3, 8],\r\n",
        "         [1, 7],\r\n",
        "         [1, 4, 5],\r\n",
        "         [3, 5],\r\n",
        "         [3, 4],\r\n",
        "         [7],\r\n",
        "         [2, 6, 8],\r\n",
        "         [1, 7]\r\n",
        "    ]\r\n",
        "\r\n",
        "visited = [False] * 9\r\n",
        "\r\n",
        "bfs(graph, 1, visited)"
      ],
      "execution_count": 5,
      "outputs": [
        {
          "output_type": "stream",
          "text": [
            "1 2 3 8 7 4 5 6 "
          ],
          "name": "stdout"
        }
      ]
    }
  ]
}