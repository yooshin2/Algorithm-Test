{
  "nbformat": 4,
  "nbformat_minor": 0,
  "metadata": {
    "colab": {
      "name": "Shortest-Path-Algorithm1.ipynb",
      "provenance": [],
      "authorship_tag": "ABX9TyO5GfWE1fsxhVaG7R8+GER3",
      "include_colab_link": true
    },
    "kernelspec": {
      "name": "python3",
      "display_name": "Python 3"
    }
  },
  "cells": [
    {
      "cell_type": "markdown",
      "metadata": {
        "id": "view-in-github",
        "colab_type": "text"
      },
      "source": [
        "<a href=\"https://colab.research.google.com/github/yooshin2/Algorithm-Test/blob/main/Shortest_Path_Algorithm1.ipynb\" target=\"_parent\"><img src=\"https://colab.research.google.com/assets/colab-badge.svg\" alt=\"Open In Colab\"/></a>"
      ]
    },
    {
      "cell_type": "code",
      "metadata": {
        "colab": {
          "base_uri": "https://localhost:8080/"
        },
        "id": "A82QXfRIj8Ah",
        "outputId": "7dbbbb4a-464f-43e3-d64e-2ec0cec89b87"
      },
      "source": [
        "INF = int(1e9)\n",
        "\n",
        "n, m = map(int, input().split())\n",
        "start = int(input())\n",
        "graph = [[] for i in range(n + 1)]\n",
        "visited = [False] * (n + 1)\n",
        "distance = [INF] * (n + 1)\n",
        "\n",
        "for _ in range(m):\n",
        "    a, b, c = map(int, input().split())\n",
        "    graph[a].append((b, c))\n",
        "\n",
        "def get_smallest_node():\n",
        "    min_value = INF\n",
        "    for i in range(1, n + 1):\n",
        "        if distance[i] < min_value and not visited[i]:\n",
        "            min_value = distance[i]\n",
        "            index = i\n",
        "    return index\n",
        "\n",
        "def dijkstra(start):\n",
        "    distance[start] = 0\n",
        "    visited[start] = True\n",
        "    for j in graph[start]:\n",
        "        distance[j[0]] = j[1]\n",
        "    for i in range(n - 1):\n",
        "        now = get_smallest_node()\n",
        "        visited[now] = True\n",
        "        for j in graph[now]:\n",
        "            cost = distance[now] + j[1]\n",
        "            if cost < distance[j[0]]:\n",
        "                distance[j[0]] = cost\n",
        "\n",
        "dijkstra(start)\n",
        "\n",
        "for i in range(1, n + 1):\n",
        "    if distance[i] == INF:\n",
        "        print(\"INFINITY\")\n",
        "    else:\n",
        "        print(distance[i])"
      ],
      "execution_count": 5,
      "outputs": [
        {
          "output_type": "stream",
          "text": [
            "6 11\n",
            "1\n",
            "1 2 2\n",
            "1 3 5\n",
            "1 4 1\n",
            "2 3 3\n",
            "2 4 2\n",
            "3 2 3\n",
            "3 6 5\n",
            "4 3 3\n",
            "4 5 1\n",
            "5 3 1\n",
            "5 6 2\n",
            "0\n",
            "2\n",
            "3\n",
            "1\n",
            "2\n",
            "4\n"
          ],
          "name": "stdout"
        }
      ]
    }
  ]
}