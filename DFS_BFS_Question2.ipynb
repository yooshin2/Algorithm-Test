{
  "nbformat": 4,
  "nbformat_minor": 0,
  "metadata": {
    "colab": {
      "name": "DFS/BFS-Question2.ipynb",
      "provenance": [],
      "authorship_tag": "ABX9TyMxmCUxhNjjYYUBpfTV4drL",
      "include_colab_link": true
    },
    "kernelspec": {
      "name": "python3",
      "display_name": "Python 3"
    }
  },
  "cells": [
    {
      "cell_type": "markdown",
      "metadata": {
        "id": "view-in-github",
        "colab_type": "text"
      },
      "source": [
        "<a href=\"https://colab.research.google.com/github/yooshin2/Algorithm-Test/blob/main/DFS_BFS_Question2.ipynb\" target=\"_parent\"><img src=\"https://colab.research.google.com/assets/colab-badge.svg\" alt=\"Open In Colab\"/></a>"
      ]
    },
    {
      "cell_type": "code",
      "metadata": {
        "colab": {
          "base_uri": "https://localhost:8080/"
        },
        "id": "HkX8vuXkxRCb",
        "outputId": "e3bd5b51-50a1-4798-8c9c-14984ff33008"
      },
      "source": [
        "n, m = map(int, input().split())\r\n",
        "data = []\r\n",
        "temp = [[0] * m for _ in range(n)]\r\n",
        "\r\n",
        "for _ in range(n):\r\n",
        "    data.append(list(map(int, input().split())))\r\n",
        "\r\n",
        "dx = [-1, 0, 1, 0]\r\n",
        "dy = [0, 1, 0, -1]\r\n",
        "\r\n",
        "result = 0 \r\n",
        "\r\n",
        "def virus(x, y):\r\n",
        "    for i in range(4):\r\n",
        "        nx = x + dx[i]\r\n",
        "        ny = y + dy[i]\r\n",
        "        if nx >= 0 and nx < n and ny >= 0 and ny < m:\r\n",
        "            if temp[nx][ny] == 0:\r\n",
        "                temp[nx][ny] = 2\r\n",
        "                virus(nx, ny)\r\n",
        "\r\n",
        "def get_score():\r\n",
        "    score = 0\r\n",
        "    for i in range(n):\r\n",
        "        for j in range(m):\r\n",
        "            if temp[i][j] == 0:\r\n",
        "                score += 1\r\n",
        "    return score\r\n",
        "\r\n",
        "def dfs(count):\r\n",
        "    global result\r\n",
        "    if count == 3:\r\n",
        "        for i in range(n):\r\n",
        "            for j in range(m):\r\n",
        "                temp[i][j] = data[i][j]\r\n",
        "        for i in range(n):\r\n",
        "            for j in range(m):\r\n",
        "                if temp[i][j] == 2:\r\n",
        "                    virus(i, j)\r\n",
        "        result = max(result, get_score())\r\n",
        "        return\r\n",
        "    \r\n",
        "    for i in range(n):\r\n",
        "        for j in range(m):\r\n",
        "            if data[i][j] == 0:\r\n",
        "                data[i][j] = 1\r\n",
        "                count += 1\r\n",
        "                dfs(count)\r\n",
        "                data[i][j] = 0\r\n",
        "                count -= 1\r\n",
        "\r\n",
        "dfs(0)\r\n",
        "print(result)"
      ],
      "execution_count": 12,
      "outputs": [
        {
          "output_type": "stream",
          "text": [
            "4 6\n",
            "0 0 0 0 0 0\n",
            "1 0 0 0 0 2\n",
            "1 1 1 0 0 2\n",
            "0 0 0 0 0 2\n",
            "9\n"
          ],
          "name": "stdout"
        }
      ]
    }
  ]
}