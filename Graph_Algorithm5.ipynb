{
  "nbformat": 4,
  "nbformat_minor": 0,
  "metadata": {
    "colab": {
      "name": "Graph-Algorithm5.ipynb",
      "provenance": [],
      "authorship_tag": "ABX9TyM1rZJihVWI+Gzon9/htuwV",
      "include_colab_link": true
    },
    "kernelspec": {
      "name": "python3",
      "display_name": "Python 3"
    }
  },
  "cells": [
    {
      "cell_type": "markdown",
      "metadata": {
        "id": "view-in-github",
        "colab_type": "text"
      },
      "source": [
        "<a href=\"https://colab.research.google.com/github/yooshin2/Algorithm-Test/blob/main/Graph_Algorithm5.ipynb\" target=\"_parent\"><img src=\"https://colab.research.google.com/assets/colab-badge.svg\" alt=\"Open In Colab\"/></a>"
      ]
    },
    {
      "cell_type": "code",
      "metadata": {
        "colab": {
          "base_uri": "https://localhost:8080/"
        },
        "id": "v9oRFRIZf8Cw",
        "outputId": "0efc8386-8052-4c2e-fb10-7ec962404472"
      },
      "source": [
        "def find_parent(parent, x):\r\n",
        "    if parent[x] != x:\r\n",
        "        parent[x] = find_parent(parent, parent[x])\r\n",
        "    return parent[x]\r\n",
        "\r\n",
        "def union_parent(parent, a, b):\r\n",
        "    a = find_parent(parent, a)\r\n",
        "    b = find_parent(parent, b)\r\n",
        "    if a < b:\r\n",
        "        parent[b] = a\r\n",
        "    else:\r\n",
        "        parent[a] = b\r\n",
        "  \r\n",
        "n, m = map(int, input().split())\r\n",
        "parent= [0] * (n + 1)\r\n",
        "\r\n",
        "for i in range(1, n + 1):\r\n",
        "    parent[i] = i\r\n",
        "\r\n",
        "for i in range(m):\r\n",
        "    choice, a, b = map(int, input().split())\r\n",
        "    if choice == 0:\r\n",
        "        union_parent(parent, a, b)\r\n",
        "    if choice == 1:\r\n",
        "        if find_parent(parent, a) == find_parent(parent, b):\r\n",
        "            print(\"Yes\")\r\n",
        "        else:\r\n",
        "            print(\"No\")"
      ],
      "execution_count": 7,
      "outputs": [
        {
          "output_type": "stream",
          "text": [
            "7 8\n",
            "0 1 3\n",
            "1 1 7\n",
            "No\n",
            "0 7 6\n",
            "1 7 1\n",
            "No\n",
            "0 3 7\n",
            "0 4 2\n",
            "0 1 5\n",
            "1 1 6\n",
            "Yes\n"
          ],
          "name": "stdout"
        }
      ]
    },
    {
      "cell_type": "code",
      "metadata": {
        "colab": {
          "base_uri": "https://localhost:8080/"
        },
        "id": "EwJcxoOljrqm",
        "outputId": "1e4e5f2c-1b66-46a5-9952-954877d4109d"
      },
      "source": [
        "def find_parent(parent, x):\r\n",
        "    if parent[x] != x:\r\n",
        "        parent[x] = find_parent(parent, parent[x])\r\n",
        "    return parent[x]\r\n",
        "\r\n",
        "def union_parent(parent, a, b):\r\n",
        "    a = find_parent(parent, a)\r\n",
        "    b = find_parent(parent, b)\r\n",
        "    if a < b:\r\n",
        "        parent[b] = a\r\n",
        "    else:\r\n",
        "        parent[a] = b\r\n",
        "\r\n",
        "v, e = map(int, input().split())\r\n",
        "parent = [0] * (v + 1)\r\n",
        "\r\n",
        "edges = []\r\n",
        "sum = 0\r\n",
        "\r\n",
        "for i in range(1, v + 1):\r\n",
        "    parent[i] = i\r\n",
        "\r\n",
        "for _ in range(e):\r\n",
        "    a, b, cost = map(int, input().split())\r\n",
        "    edges.append((cost, a, b))\r\n",
        "\r\n",
        "edges.sort()\r\n",
        "\r\n",
        "for edge in edges:\r\n",
        "    cost, a, b = edge\r\n",
        "    if find_parent(parent, a) != find_parent(parent, b):\r\n",
        "        union_parent(parent, a, b)\r\n",
        "        sum += cost\r\n",
        "        last = cost\r\n",
        "\r\n",
        "print(sum - last)"
      ],
      "execution_count": 32,
      "outputs": [
        {
          "output_type": "stream",
          "text": [
            "7 12\n",
            "1 2 3\n",
            "1 3 2\n",
            "3 2 1\n",
            "2 5 2\n",
            "3 4 4\n",
            "7 3 6\n",
            "5 1 5\n",
            "1 6 2\n",
            "6 4 1\n",
            "6 5 3\n",
            "4 5 3\n",
            "6 7 4\n",
            "8\n"
          ],
          "name": "stdout"
        }
      ]
    }
  ]
}