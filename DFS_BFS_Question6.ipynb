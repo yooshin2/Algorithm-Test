{
  "nbformat": 4,
  "nbformat_minor": 0,
  "metadata": {
    "colab": {
      "name": "DFS/BFS-Question6.ipynb",
      "provenance": [],
      "authorship_tag": "ABX9TyPJHciBwLjvOdtMrEDBYFvB",
      "include_colab_link": true
    },
    "kernelspec": {
      "name": "python3",
      "display_name": "Python 3"
    }
  },
  "cells": [
    {
      "cell_type": "markdown",
      "metadata": {
        "id": "view-in-github",
        "colab_type": "text"
      },
      "source": [
        "<a href=\"https://colab.research.google.com/github/yooshin2/Algorithm-Test/blob/main/DFS_BFS_Question6.ipynb\" target=\"_parent\"><img src=\"https://colab.research.google.com/assets/colab-badge.svg\" alt=\"Open In Colab\"/></a>"
      ]
    },
    {
      "cell_type": "code",
      "metadata": {
        "colab": {
          "base_uri": "https://localhost:8080/"
        },
        "id": "h_2kB6VBbp9N",
        "outputId": "97b96e5f-22b4-4c08-da55-0e4a808d1c37"
      },
      "source": [
        "from itertools import combinations\r\n",
        "\r\n",
        "n = int(input())\r\n",
        "hall = []\r\n",
        "teachers = []\r\n",
        "spaces = [] \r\n",
        "\r\n",
        "for i in range(n):\r\n",
        "    hall.append(list(input().split()))\r\n",
        "    for j in range(n):\r\n",
        "        if hall[i][j] == 'T':\r\n",
        "            teachers.append((i, j))\r\n",
        "        if hall[i][j] == 'X':\r\n",
        "            spaces.append((i, j))\r\n",
        "        \r\n",
        "def watch(x, y, direction):\r\n",
        "    if direction == 0:\r\n",
        "        while y >= 0:\r\n",
        "            if hall[x][y] == 'S':\r\n",
        "                return True\r\n",
        "            if hall[x][y] == 'X':\r\n",
        "                return False\r\n",
        "            y -= 1\r\n",
        "    if direction == 1:\r\n",
        "        while y < n:\r\n",
        "            if hall[x][y] == 'S':\r\n",
        "                return True\r\n",
        "            if hall[x][y] == 'X':\r\n",
        "                return False\r\n",
        "            y += 1\r\n",
        "    if direction == 2:\r\n",
        "        while x >= 0:\r\n",
        "            if hall[x][y] == 'S':\r\n",
        "                return True\r\n",
        "            if hall[x][y] == 'X':\r\n",
        "                return False\r\n",
        "            x -= 1\r\n",
        "    if direction == 3:\r\n",
        "        while x < n:\r\n",
        "            if hall[x][y] == 'S':\r\n",
        "                return True\r\n",
        "            if hall[x][y] == 'X':\r\n",
        "                return False\r\n",
        "            x += 1\r\n",
        "    return False\r\n",
        "          \r\n",
        "def process():\r\n",
        "    for x, y in teachers:\r\n",
        "        for i in range(4):\r\n",
        "            if watch(x, y, i):\r\n",
        "                return True\r\n",
        "    return False\r\n",
        "\r\n",
        "find = False\r\n",
        "\r\n",
        "for data in combinations(spaces, 3):\r\n",
        "    for x, y in data:\r\n",
        "        hall[x][y] = 'O'\r\n",
        "    if not process():\r\n",
        "        find = True\r\n",
        "        break\r\n",
        "    for x, y in data:\r\n",
        "        hall[x][y] = 'X'\r\n",
        "\r\n",
        "if find:\r\n",
        "    print(\"YES\")\r\n",
        "else:\r\n",
        "    print(\"NO\")"
      ],
      "execution_count": 12,
      "outputs": [
        {
          "output_type": "stream",
          "text": [
            "4\n",
            "S S X T\n",
            "X X X X\n",
            "X X X X\n",
            "T T X T\n",
            "YES\n"
          ],
          "name": "stdout"
        }
      ]
    }
  ]
}