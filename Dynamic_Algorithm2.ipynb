{
  "nbformat": 4,
  "nbformat_minor": 0,
  "metadata": {
    "colab": {
      "name": "Dynamic-Algorithm2.ipynb",
      "provenance": [],
      "collapsed_sections": [],
      "authorship_tag": "ABX9TyPkhBW4KkCctByNqWyf6ih5",
      "include_colab_link": true
    },
    "kernelspec": {
      "name": "python3",
      "display_name": "Python 3"
    }
  },
  "cells": [
    {
      "cell_type": "markdown",
      "metadata": {
        "id": "view-in-github",
        "colab_type": "text"
      },
      "source": [
        "<a href=\"https://colab.research.google.com/github/yooshin2/Algorithm-Test/blob/main/Dynamic_Algorithm2.ipynb\" target=\"_parent\"><img src=\"https://colab.research.google.com/assets/colab-badge.svg\" alt=\"Open In Colab\"/></a>"
      ]
    },
    {
      "cell_type": "code",
      "metadata": {
        "colab": {
          "base_uri": "https://localhost:8080/"
        },
        "id": "ZDgvyFM8tKor",
        "outputId": "190f3e50-5597-4a3a-a1cf-6622dced2323"
      },
      "source": [
        "# 1 만들기\n",
        "\n",
        "x = int(input())\n",
        "\n",
        "d = [0] * 10001\n",
        "\n",
        "for i in range(2, x + 1):\n",
        "    d[i] = d [i - 1] + 1\n",
        "    if i % 2 == 0:\n",
        "        d[i] = min(d[i], d[i // 2] + 1)\n",
        "    if i % 3 == 0:\n",
        "        d[i] = min(d[i], d[i // 3] + 1)\n",
        "    if i % 5 == 0:\n",
        "        d[i] = min(d[i], d[i // 5] + 1)\n",
        "\n",
        "print(d[x])"
      ],
      "execution_count": 8,
      "outputs": [
        {
          "output_type": "stream",
          "text": [
            "28\n",
            "4\n"
          ],
          "name": "stdout"
        }
      ]
    }
  ]
}