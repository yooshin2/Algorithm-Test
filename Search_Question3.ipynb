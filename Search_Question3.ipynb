{
  "nbformat": 4,
  "nbformat_minor": 0,
  "metadata": {
    "colab": {
      "name": "Search_Question3.ipynb",
      "provenance": [],
      "authorship_tag": "ABX9TyPkh1bioV8BdlsrLeebk6ZJ",
      "include_colab_link": true
    },
    "kernelspec": {
      "name": "python3",
      "display_name": "Python 3"
    }
  },
  "cells": [
    {
      "cell_type": "markdown",
      "metadata": {
        "id": "view-in-github",
        "colab_type": "text"
      },
      "source": [
        "<a href=\"https://colab.research.google.com/github/yooshin2/Algorithm-Test/blob/main/Search_Question3.ipynb\" target=\"_parent\"><img src=\"https://colab.research.google.com/assets/colab-badge.svg\" alt=\"Open In Colab\"/></a>"
      ]
    },
    {
      "cell_type": "code",
      "metadata": {
        "colab": {
          "base_uri": "https://localhost:8080/"
        },
        "id": "mhVLmATURqD-",
        "outputId": "8d616ef0-0765-4828-fa4c-98fe0323b9c2"
      },
      "source": [
        "from bisect import bisect_left, bisect_right\r\n",
        "\r\n",
        "def count_by_range(a, left_value, right_value):\r\n",
        "    left_index = bisect_left(a, left_value)\r\n",
        "    right_index = bisect_right(a, right_value)\r\n",
        "    return right_index - left_index\r\n",
        "\r\n",
        "array =[[] for _ in range(10001)]\r\n",
        "reversed_array =[[] for _ in range(10001)]\r\n",
        "\r\n",
        "def solution(words, queries):\r\n",
        "    answer = []\r\n",
        "    for word in words:\r\n",
        "        array[len(word)].append(word)\r\n",
        "        reversed_array[len(word)].append(word[::-1])\r\n",
        "\r\n",
        "    for i in range(10001):\r\n",
        "        array[i].sort()\r\n",
        "        reversed_array[i].sort()\r\n",
        "\r\n",
        "    for q in queries:\r\n",
        "        if q[0] != '?':\r\n",
        "            res = count_by_range(array[len(q)], q.replace('?', 'a'), q.replace('?', 'z'))\r\n",
        "        else:\r\n",
        "            res = count_by_range(reversed_array[len(q)], q[::-1].replace('?', 'a'), q[::-1].replace('?', 'z'))\r\n",
        "        answer.append(res)\r\n",
        "    return answer\r\n",
        "\r\n",
        "words = [\"frodo\", \"front\", \"frost\", \"frozen\", \"frame\", \"kakao\"]\r\n",
        "queries = [\"fro??\", \"????o\", \"fr???\", \"fro???\", \"pro?\"]\r\n",
        "\r\n",
        "solution(words, queries)"
      ],
      "execution_count": 14,
      "outputs": [
        {
          "output_type": "execute_result",
          "data": {
            "text/plain": [
              "[3, 2, 4, 1, 0]"
            ]
          },
          "metadata": {
            "tags": []
          },
          "execution_count": 14
        }
      ]
    }
  ]
}