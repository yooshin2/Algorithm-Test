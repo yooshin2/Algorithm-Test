{
  "nbformat": 4,
  "nbformat_minor": 0,
  "metadata": {
    "colab": {
      "name": "Search-Question3.ipynb",
      "provenance": [],
      "collapsed_sections": [],
      "authorship_tag": "ABX9TyOHNYZc3ADALQulI6kUAf4l",
      "include_colab_link": true
    },
    "kernelspec": {
      "name": "python3",
      "display_name": "Python 3"
    }
  },
  "cells": [
    {
      "cell_type": "markdown",
      "metadata": {
        "id": "view-in-github",
        "colab_type": "text"
      },
      "source": [
        "<a href=\"https://colab.research.google.com/github/yooshin2/Algorithm-Test/blob/main/Search_Question3.ipynb\" target=\"_parent\"><img src=\"https://colab.research.google.com/assets/colab-badge.svg\" alt=\"Open In Colab\"/></a>"
      ]
    },
    {
      "cell_type": "code",
      "metadata": {
        "colab": {
          "base_uri": "https://localhost:8080/"
        },
        "id": "I_y143dIoSnN",
        "outputId": "31ec143d-88e2-4798-ce37-9e425367eb04"
      },
      "source": [
        "n = int(input())\r\n",
        "dp = []\r\n",
        "\r\n",
        "for _ in range(n):\r\n",
        "    dp.append(list(map(int, input().split())))\r\n",
        "\r\n",
        "for i in range(1, n):\r\n",
        "    for j in range(i + 1):\r\n",
        "        if j == 0:\r\n",
        "            up_left = 0\r\n",
        "        else:\r\n",
        "            up_left = dp[i - 1][j - 1]\r\n",
        "        if j == i:\r\n",
        "            up_right = 0\r\n",
        "        else:\r\n",
        "            up_right = dp[i - 1][j]\r\n",
        "        dp[i][j] = dp[i][j] + max(up_left, up_right)\r\n",
        "\r\n",
        "print(max(dp[n - 1]))"
      ],
      "execution_count": 12,
      "outputs": [
        {
          "output_type": "stream",
          "text": [
            "5\n",
            "7\n",
            "3 8\n",
            "8 1 0\n",
            "2 7 4 4\n",
            "4 5 2 6 5\n",
            "30\n"
          ],
          "name": "stdout"
        }
      ]
    },
    {
      "cell_type": "code",
      "metadata": {
        "colab": {
          "base_uri": "https://localhost:8080/"
        },
        "id": "bg-ymL5WyPf2",
        "outputId": "81b086bf-c092-40b5-e84f-b599be9c5f67"
      },
      "source": [
        "n = int(input())\r\n",
        "t = []\r\n",
        "p = []\r\n",
        "dp = [0] * (n + 1)\r\n",
        "max_value = 0\r\n",
        "\r\n",
        "for _ in range(n):\r\n",
        "    x, y = map(int, input().split())\r\n",
        "    t.append(x)\r\n",
        "    p.append(y)\r\n",
        "\r\n",
        "for i in range(n - 1, -1, -1):\r\n",
        "    time = i + t[i]\r\n",
        "    if time <= n:\r\n",
        "        dp[i] = max(p[i] + dp[time], max_value)   \r\n",
        "        max_value = dp[i]\r\n",
        "    else:\r\n",
        "        dp[i] = max_value\r\n",
        "\r\n",
        "print(max_value)"
      ],
      "execution_count": 15,
      "outputs": [
        {
          "output_type": "stream",
          "text": [
            "10\n",
            "5 50\n",
            "4 40\n",
            "3 30\n",
            "2 20\n",
            "1 10\n",
            "1 10\n",
            "2 20\n",
            "3 30\n",
            "4 40\n",
            "5 50\n",
            "90\n"
          ],
          "name": "stdout"
        }
      ]
    }
  ]
}