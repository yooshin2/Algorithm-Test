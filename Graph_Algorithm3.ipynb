{
  "nbformat": 4,
  "nbformat_minor": 0,
  "metadata": {
    "colab": {
      "name": "Graph-Algorithm3.ipynb",
      "provenance": [],
      "collapsed_sections": [],
      "authorship_tag": "ABX9TyP4MNd+tP4H4k6x4l+BDlSx",
      "include_colab_link": true
    },
    "kernelspec": {
      "name": "python3",
      "display_name": "Python 3"
    }
  },
  "cells": [
    {
      "cell_type": "markdown",
      "metadata": {
        "id": "view-in-github",
        "colab_type": "text"
      },
      "source": [
        "<a href=\"https://colab.research.google.com/github/yooshin2/Algorithm-Test/blob/main/Graph_Algorithm3.ipynb\" target=\"_parent\"><img src=\"https://colab.research.google.com/assets/colab-badge.svg\" alt=\"Open In Colab\"/></a>"
      ]
    },
    {
      "cell_type": "code",
      "metadata": {
        "id": "VXX8G-8DX1l_",
        "colab": {
          "base_uri": "https://localhost:8080/"
        },
        "outputId": "ba53aa55-73c4-42c7-9b50-8016c1c8b0d7"
      },
      "source": [
        "def find_parent(parent, x):\r\n",
        "    if parent[x] != x:\r\n",
        "        parent[x] = find_parent(parent, parent[x])\r\n",
        "    return parent[x]\r\n",
        "\r\n",
        "def union_parent(parent, a, b):\r\n",
        "    a = find_parent(parent, a)\r\n",
        "    b = find_parent(parent, b)\r\n",
        "    if a < b:\r\n",
        "        parent[b] = a\r\n",
        "    else:\r\n",
        "        parent[a] = b\r\n",
        "\r\n",
        "v, e = map(int, input().split())\r\n",
        "parent = [0] * (v + 1)\r\n",
        "edges = []\r\n",
        "result = 0\r\n",
        "for i in range(1, v + 1):\r\n",
        "    parent[i] = i\r\n",
        "for _ in range(e):\r\n",
        "    a, b, cost = map(int, input().split())\r\n",
        "    edges.append((cost, a, b))\r\n",
        "\r\n",
        "edges.sort()\r\n",
        "\r\n",
        "for edge in edges:\r\n",
        "    cost, a, b = edge\r\n",
        "    if find_parent(parent, a) != find_parent(parent, b):\r\n",
        "        union_parent(parent, a, b)\r\n",
        "        result += cost\r\n",
        "\r\n",
        "print(result)"
      ],
      "execution_count": 2,
      "outputs": [
        {
          "output_type": "stream",
          "text": [
            "7 9\n",
            "1 2 29\n",
            "1 5 75\n",
            "2 3 35\n",
            "2 6 34\n",
            "3 4 7\n",
            "4 6 23\n",
            "4 7 13\n",
            "5 6 53\n",
            "6 7 25\n",
            "159\n"
          ],
          "name": "stdout"
        }
      ]
    }
  ]
}