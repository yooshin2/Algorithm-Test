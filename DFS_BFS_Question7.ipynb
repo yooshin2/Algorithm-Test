{
  "nbformat": 4,
  "nbformat_minor": 0,
  "metadata": {
    "colab": {
      "name": "DFS/BFS-Question7.ipynb",
      "provenance": [],
      "authorship_tag": "ABX9TyNjRHrDJGNvSbmJNhLudRy4",
      "include_colab_link": true
    },
    "kernelspec": {
      "name": "python3",
      "display_name": "Python 3"
    }
  },
  "cells": [
    {
      "cell_type": "markdown",
      "metadata": {
        "id": "view-in-github",
        "colab_type": "text"
      },
      "source": [
        "<a href=\"https://colab.research.google.com/github/yooshin2/Algorithm-Test/blob/main/DFS_BFS_Question7.ipynb\" target=\"_parent\"><img src=\"https://colab.research.google.com/assets/colab-badge.svg\" alt=\"Open In Colab\"/></a>"
      ]
    },
    {
      "cell_type": "code",
      "metadata": {
        "colab": {
          "base_uri": "https://localhost:8080/"
        },
        "id": "joIK9btvxys7",
        "outputId": "32009498-76d8-4e72-d3c6-98492053eb18"
      },
      "source": [
        "from collections import deque\r\n",
        "\r\n",
        "n, l, r = map(int, input().split())\r\n",
        "\r\n",
        "graph = []\r\n",
        "for _ in range(n):\r\n",
        "    graph.append(list(map(int, input().split())))\r\n",
        "\r\n",
        "dx = [-1, 0, 1, 0]\r\n",
        "dy = [0, -1, 0, 1]\r\n",
        "\r\n",
        "def process(x, y, index):\r\n",
        "    united = []\r\n",
        "    united.append((x, y))\r\n",
        "    q = deque()\r\n",
        "    q.append((x, y))\r\n",
        "    union[x][y] = index\r\n",
        "    summary = graph[x][y]\r\n",
        "    count = 1\r\n",
        "    while q:\r\n",
        "        x, y = q.popleft()\r\n",
        "        for i in range(4):\r\n",
        "            nx = x + dx[i]\r\n",
        "            ny = y + dy[i]\r\n",
        "            if 0 <= nx < n and 0 <= ny < n and union[nx][ny] == -1:\r\n",
        "                if l <= abs(graph[nx][ny] - graph[x][y]) <= r:\r\n",
        "                    q.append((nx, ny))\r\n",
        "                    union[nx][ny] = index\r\n",
        "                    summary += graph[nx][ny]\r\n",
        "                    count += 1\r\n",
        "                    united.append((nx, ny))\r\n",
        "                    \r\n",
        "    for i, j in united:\r\n",
        "        graph[i][j] = summary // count\r\n",
        "\r\n",
        "total_count = 0\r\n",
        "\r\n",
        "while True:\r\n",
        "    union = [[-1] * n for _ in range(n)]\r\n",
        "    index = 0\r\n",
        "    for i in range(n):\r\n",
        "        for j in range(n):\r\n",
        "            if union[i][j] == -1:\r\n",
        "                process(i, j, index)\r\n",
        "                index += 1\r\n",
        "    if index == n * n:\r\n",
        "        break\r\n",
        "    total_count += 1\r\n",
        "  \r\n",
        "print(total_count)"
      ],
      "execution_count": 18,
      "outputs": [
        {
          "output_type": "stream",
          "text": [
            "3 5 10\n",
            "10 15 20\n",
            "20 30 25\n",
            "40 22 10\n",
            "2\n"
          ],
          "name": "stdout"
        }
      ]
    }
  ]
}