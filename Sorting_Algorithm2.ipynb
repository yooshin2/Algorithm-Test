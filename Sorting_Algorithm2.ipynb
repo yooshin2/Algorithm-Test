{
  "nbformat": 4,
  "nbformat_minor": 0,
  "metadata": {
    "colab": {
      "name": "Sorting-Algorithm2.ipynb",
      "provenance": [],
      "authorship_tag": "ABX9TyPzL9WU/hjcQmFfgXji3/B/",
      "include_colab_link": true
    },
    "kernelspec": {
      "name": "python3",
      "display_name": "Python 3"
    }
  },
  "cells": [
    {
      "cell_type": "markdown",
      "metadata": {
        "id": "view-in-github",
        "colab_type": "text"
      },
      "source": [
        "<a href=\"https://colab.research.google.com/github/yooshin2/Algorithm-Test/blob/main/Sorting_Algorithm2.ipynb\" target=\"_parent\"><img src=\"https://colab.research.google.com/assets/colab-badge.svg\" alt=\"Open In Colab\"/></a>"
      ]
    },
    {
      "cell_type": "code",
      "metadata": {
        "id": "nK0DKik2CY4X",
        "colab": {
          "base_uri": "https://localhost:8080/"
        },
        "outputId": "4087715e-1a51-4329-97a9-233ce4e16925"
      },
      "source": [
        "#Merge Sort\n",
        "\n",
        "def merge(left, right):\n",
        "    result = []\n",
        "    while len(left) > 0 or len(right) > 0:\n",
        "        if len(left) > 0 and len(right) > 0:\n",
        "            if left[0] <= right[0]:\n",
        "                result.append(left[0])\n",
        "                left = left[1:]\n",
        "            else:\n",
        "                result.append(right[0])\n",
        "                right = right[1:]\n",
        "\n",
        "        elif len(left) > 0:\n",
        "            result.append(left[0])\n",
        "            left = left[1:]\n",
        "            \n",
        "        elif len(right) > 0:\n",
        "            result.append(right[0])\n",
        "            right = right[1:]\n",
        "          \n",
        "    return result\n",
        "\n",
        "def merge_sort(list):\n",
        "    if len(list) <= 1:\n",
        "        return list\n",
        "    \n",
        "    mid = int(len(list) / 2)\n",
        "    \n",
        "    leftList = list[:mid]\n",
        "    rightList = list[mid:]\n",
        "    \n",
        "    leftList = merge_sort(leftList)\n",
        "    rightList = merge_sort(rightList)\n",
        "    \n",
        "    return merge(leftList, rightList)\n",
        "\n",
        "array = [10, 5, 6, 2, 1, 7, 9, 3, 8]\n",
        "\n",
        "print(merge_sort(array))"
      ],
      "execution_count": 3,
      "outputs": [
        {
          "output_type": "stream",
          "text": [
            "[1, 2, 3, 5, 6, 7, 8, 9, 10]\n"
          ],
          "name": "stdout"
        }
      ]
    }
  ]
}