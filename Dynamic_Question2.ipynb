{
  "nbformat": 4,
  "nbformat_minor": 0,
  "metadata": {
    "colab": {
      "name": "Dynamic-Question2.ipynb",
      "provenance": [],
      "collapsed_sections": [],
      "authorship_tag": "ABX9TyNXyM5YV1QhI3ajSlfnHIer",
      "include_colab_link": true
    },
    "kernelspec": {
      "name": "python3",
      "display_name": "Python 3"
    }
  },
  "cells": [
    {
      "cell_type": "markdown",
      "metadata": {
        "id": "view-in-github",
        "colab_type": "text"
      },
      "source": [
        "<a href=\"https://colab.research.google.com/github/yooshin2/Algorithm-Test/blob/main/Dynamic_Question2.ipynb\" target=\"_parent\"><img src=\"https://colab.research.google.com/assets/colab-badge.svg\" alt=\"Open In Colab\"/></a>"
      ]
    },
    {
      "cell_type": "code",
      "metadata": {
        "colab": {
          "base_uri": "https://localhost:8080/"
        },
        "id": "0AwaXMwu8E8Y",
        "outputId": "a50a6ea8-e447-4828-f8a8-a69589fb6d8b"
      },
      "source": [
        "# LIS\r\n",
        "\r\n",
        "n = int(input())\r\n",
        "data = list(map(int, input().split()))\r\n",
        "data.reverse()\r\n",
        "\r\n",
        "dp = [1] * n\r\n",
        "for i in range(1, n):\r\n",
        "    for j in range(i):\r\n",
        "        if data[i] > data[j]:\r\n",
        "            dp[i] = max(dp[i], dp[j] + 1)\r\n",
        "\r\n",
        "print(n - max(dp))"
      ],
      "execution_count": 6,
      "outputs": [
        {
          "output_type": "stream",
          "text": [
            "7\n",
            "15 11 4 8 5 2 4\n",
            "2\n"
          ],
          "name": "stdout"
        }
      ]
    },
    {
      "cell_type": "code",
      "metadata": {
        "colab": {
          "base_uri": "https://localhost:8080/"
        },
        "id": "YKYPgSX4-lOi",
        "outputId": "2cc80df8-cad0-421d-ae34-abd6b2a0bbce"
      },
      "source": [
        "n = int(input())\r\n",
        "ugly = [0] * n\r\n",
        "ugly[0] = 1\r\n",
        "i2, i3, i5 = 0, 0, 0\r\n",
        "next2, next3, next5 = 2, 3, 5\r\n",
        "\r\n",
        "for i in range(1, n):\r\n",
        "    ugly[i] = min(next2, next3, next5)\r\n",
        "    if ugly[i] == next2:\r\n",
        "        i2 += 1\r\n",
        "        next2 = ugly[i2] * 2\r\n",
        "    if ugly[i] == next3:\r\n",
        "        i3 += 1\r\n",
        "        next3 = ugly[i3] * 3\r\n",
        "    if ugly[i] == next5:\r\n",
        "        i5 += 1\r\n",
        "        next5 = ugly[i5] * 5\r\n",
        "\r\n",
        "print(ugly[n - 1])"
      ],
      "execution_count": 11,
      "outputs": [
        {
          "output_type": "stream",
          "text": [
            "10\n",
            "12\n"
          ],
          "name": "stdout"
        }
      ]
    },
    {
      "cell_type": "code",
      "metadata": {
        "colab": {
          "base_uri": "https://localhost:8080/"
        },
        "id": "44ssnkiNkaQz",
        "outputId": "1978edff-e076-4751-ac05-3106f238ae43"
      },
      "source": [
        "def edit_dist(str1, str2):\r\n",
        "    n = len(str1)\r\n",
        "    m = len(str2)\r\n",
        "\r\n",
        "    dp = [[0] * (m + 1) for _ in range(n + 1)]\r\n",
        "\r\n",
        "    for i in range(1, n + 1):\r\n",
        "        dp[i][0] = i\r\n",
        "    for j in range(1, m + 1):\r\n",
        "        dp[0][j] = j\r\n",
        "\r\n",
        "    for i in range(1, n + 1):\r\n",
        "        for j in range(1, m + 1):\r\n",
        "            if str1[i - 1] == str2[j - 1]:\r\n",
        "                dp[i][j] = dp[i - 1][j - 1]\r\n",
        "            else:\r\n",
        "                dp[i][j] = 1 + min(dp[i][j - 1], dp[i - 1][j], dp[i - 1][j - 1])\r\n",
        "    \r\n",
        "    for i in range(1, 1+len(str1)):\r\n",
        "        for j in range(1, 1+len(str2)):\r\n",
        "            print(dp[i][j],end ='')\r\n",
        "        print()\r\n",
        "    \r\n",
        "    return dp[n][m]\r\n",
        "\r\n",
        "str1 = input()\r\n",
        "str2 = input()\r\n",
        "\r\n",
        "print(edit_dist(str1,str2))"
      ],
      "execution_count": 39,
      "outputs": [
        {
          "output_type": "stream",
          "text": [
            "sunday\n",
            "saturday\n",
            "01234567\n",
            "11223456\n",
            "22233456\n",
            "33334345\n",
            "43444434\n",
            "54455543\n",
            "3\n"
          ],
          "name": "stdout"
        }
      ]
    }
  ]
}