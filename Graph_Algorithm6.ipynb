{
  "nbformat": 4,
  "nbformat_minor": 0,
  "metadata": {
    "colab": {
      "name": "Graph-Algorithm6.ipynb",
      "provenance": [],
      "authorship_tag": "ABX9TyOCrGXL8Kc4O/OxQqmicODO",
      "include_colab_link": true
    },
    "kernelspec": {
      "name": "python3",
      "display_name": "Python 3"
    }
  },
  "cells": [
    {
      "cell_type": "markdown",
      "metadata": {
        "id": "view-in-github",
        "colab_type": "text"
      },
      "source": [
        "<a href=\"https://colab.research.google.com/github/yooshin2/Algorithm-Test/blob/main/Graph_Algorithm6.ipynb\" target=\"_parent\"><img src=\"https://colab.research.google.com/assets/colab-badge.svg\" alt=\"Open In Colab\"/></a>"
      ]
    },
    {
      "cell_type": "code",
      "metadata": {
        "colab": {
          "base_uri": "https://localhost:8080/"
        },
        "id": "DkLjijS1SJYG",
        "outputId": "3c16d8a9-15e4-460b-e9ae-c0ec2bcb06fb"
      },
      "source": [
        "from collections import deque\r\n",
        "import copy\r\n",
        "\r\n",
        "v = int(input())\r\n",
        "indegree = [0] * (v + 1)\r\n",
        "graph = [[] for i in range(v + 1)]\r\n",
        "time = [0] * (v + 1)\r\n",
        "\r\n",
        "for i in range(1, v + 1):\r\n",
        "    data = list(map(int, input().split()))\r\n",
        "    time[i] = data[0]\r\n",
        "    for x in data[1:-1]:\r\n",
        "        indegree[i] += 1\r\n",
        "        graph[x].append(i)\r\n",
        "\r\n",
        "def topology_sort():\r\n",
        "    result = copy.deepcopy(time)\r\n",
        "    q = deque()\r\n",
        "\r\n",
        "    for i in range(1, v + 1):\r\n",
        "        if indegree[i] == 0:\r\n",
        "            q.append(i)\r\n",
        "    \r\n",
        "    while q:\r\n",
        "        now = q.popleft()\r\n",
        "        for i in graph[now]:\r\n",
        "            result[i] = max(result[i], result[now] + time[i])\r\n",
        "            indegree[i] -= 1\r\n",
        "            if indegree[i] == 0:\r\n",
        "                q.append(i)\r\n",
        "    \r\n",
        "    for i in range(1, v + 1):\r\n",
        "        print(result[i])\r\n",
        "\r\n",
        "topology_sort()"
      ],
      "execution_count": 13,
      "outputs": [
        {
          "output_type": "stream",
          "text": [
            "6\n",
            "10 -1\n",
            "10 1 -1\n",
            "4 1 6 -1\n",
            "4 3 1 -1\n",
            "3 3 -1\n",
            "15 -1\n",
            "10\n",
            "20\n",
            "19\n",
            "23\n",
            "22\n",
            "15\n"
          ],
          "name": "stdout"
        }
      ]
    }
  ]
}