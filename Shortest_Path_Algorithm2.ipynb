{
  "nbformat": 4,
  "nbformat_minor": 0,
  "metadata": {
    "colab": {
      "name": "Shortest-Path-Algorithm2.ipynb",
      "provenance": [],
      "collapsed_sections": [],
      "authorship_tag": "ABX9TyMYD2oKW+e4NJpYDH/gk+Fb",
      "include_colab_link": true
    },
    "kernelspec": {
      "name": "python3",
      "display_name": "Python 3"
    }
  },
  "cells": [
    {
      "cell_type": "markdown",
      "metadata": {
        "id": "view-in-github",
        "colab_type": "text"
      },
      "source": [
        "<a href=\"https://colab.research.google.com/github/yooshin2/Algorithm-Test/blob/main/Shortest_Path_Algorithm2.ipynb\" target=\"_parent\"><img src=\"https://colab.research.google.com/assets/colab-badge.svg\" alt=\"Open In Colab\"/></a>"
      ]
    },
    {
      "cell_type": "code",
      "metadata": {
        "colab": {
          "base_uri": "https://localhost:8080/"
        },
        "id": "nMkQ0guMsAYH",
        "outputId": "cbb4e9e7-a233-4bb3-886c-16563f0625ba"
      },
      "source": [
        "import heapq\n",
        "\n",
        "INF = int(1e9)\n",
        "n, m = map(int, input().split())\n",
        "start = int(input())\n",
        "graph = [[] for i in range(n + 1)]\n",
        "distance = [INF] * (n + 1)\n",
        "\n",
        "for _ in range(m):\n",
        "    a, b, c = map(int, input().split())\n",
        "    graph[a].append((b, c))\n",
        "\n",
        "def dijkstra(start):\n",
        "    q = []\n",
        "    heapq.heappush(q, (0, start))\n",
        "    distance[start] = 0\n",
        "    while q: \n",
        "        dist, now = heapq.heappop(q)\n",
        "        if distance[now] < dist:\n",
        "            continue\n",
        "        for i in graph[now]:\n",
        "            cost = dist + i[1]\n",
        "            if cost < distance[i[0]]:\n",
        "                distance[i[0]] = cost\n",
        "                heapq.heappush(q, (cost, i[0]))\n",
        "\n",
        "dijkstra(start)\n",
        "\n",
        "for i in range(1, n + 1):\n",
        "    if distance[i] == INF:\n",
        "        print(\"INFINITY\")\n",
        "    else:\n",
        "        print(distance[i])"
      ],
      "execution_count": null,
      "outputs": [
        {
          "output_type": "stream",
          "text": [
            "6 11\n",
            "1\n",
            "1 2 2\n",
            "1 3 5\n",
            "1 4 1\n",
            "2 3 3\n",
            "2 4 2\n",
            "3 2 3\n",
            "3 6 5\n",
            "4 3 3\n",
            "4 5 1\n",
            "5 3 1\n",
            "5 6 2\n",
            "0\n",
            "2\n",
            "3\n",
            "1\n",
            "2\n",
            "4\n"
          ],
          "name": "stdout"
        }
      ]
    },
    {
      "cell_type": "code",
      "metadata": {
        "colab": {
          "base_uri": "https://localhost:8080/"
        },
        "id": "FrGLsDDnw6PE",
        "outputId": "bfcd1e28-6fed-40af-c2af-ff4bd742fa08"
      },
      "source": [
        "INF = int(1e9)\n",
        "\n",
        "n = int(input())\n",
        "m = int(input())\n",
        "graph = [[INF] * (n + 1) for _ in range(n + 1)]\n",
        "\n",
        "for a in range(1, n + 1):\n",
        "    for b in range(1, n + 1):\n",
        "        if a == b:\n",
        "            graph[a][b] = 0\n",
        "\n",
        "for _ in range(m):\n",
        "    a, b, c = map(int, input().split())\n",
        "    graph[a][b] = c\n",
        "\n",
        "for k in range(1, n + 1):\n",
        "    for a in range(1, n + 1):\n",
        "        for b in range(1, n + 1):\n",
        "            graph[a][b] = min(graph[a][b], graph[a][k] + graph[k][b])\n",
        "\n",
        "for a in range(1, n + 1):\n",
        "    for b in range(1, n + 1):\n",
        "        if graph[a][b] == 1e9:\n",
        "            print(\"INFINITY\", end=\" \")\n",
        "        else:\n",
        "            print(graph[a][b], end=\" \")\n",
        "    print()"
      ],
      "execution_count": null,
      "outputs": [
        {
          "output_type": "stream",
          "text": [
            "4\n",
            "7\n",
            "1 2 4\n",
            "1 4 6\n",
            "2 1 3\n",
            "2 3 7\n",
            "3 1 5\n",
            "3 4 4\n",
            "4 3 2\n",
            "0 4 8 6 \n",
            "3 0 7 9 \n",
            "5 9 0 4 \n",
            "7 11 2 0 \n"
          ],
          "name": "stdout"
        }
      ]
    }
  ]
}