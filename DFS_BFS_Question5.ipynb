{
  "nbformat": 4,
  "nbformat_minor": 0,
  "metadata": {
    "colab": {
      "name": "DFS/BFS-Question5.ipynb",
      "provenance": [],
      "authorship_tag": "ABX9TyNVcD0gyKBP+3rby2j+6p32",
      "include_colab_link": true
    },
    "kernelspec": {
      "name": "python3",
      "display_name": "Python 3"
    }
  },
  "cells": [
    {
      "cell_type": "markdown",
      "metadata": {
        "id": "view-in-github",
        "colab_type": "text"
      },
      "source": [
        "<a href=\"https://colab.research.google.com/github/yooshin2/Algorithm-Test/blob/main/DFS_BFS_Question5.ipynb\" target=\"_parent\"><img src=\"https://colab.research.google.com/assets/colab-badge.svg\" alt=\"Open In Colab\"/></a>"
      ]
    },
    {
      "cell_type": "code",
      "metadata": {
        "colab": {
          "base_uri": "https://localhost:8080/"
        },
        "id": "QjYKnD2TZVJ4",
        "outputId": "1d3d981b-7f10-4ca3-ae6f-0acb2933e192"
      },
      "source": [
        "n = int(input())\r\n",
        "data = list(map(int, input().split()))\r\n",
        "add, sub, mul, div = map(int, input().split())\r\n",
        "min_value = 1e9\r\n",
        "max_value = -1e9\r\n",
        "\r\n",
        "def dfs(i, now):\r\n",
        "    global add, sub, mul, div, min_value, max_value\r\n",
        "    if i == n:\r\n",
        "        min_value = min(min_value, now)\r\n",
        "        max_value = max(max_value, now)\r\n",
        "    else:\r\n",
        "        if add > 0:\r\n",
        "            add -= 1\r\n",
        "            dfs(i + 1, now + data[i])\r\n",
        "            add += 1\r\n",
        "        if sub > 0:\r\n",
        "            sub -= 1\r\n",
        "            dfs(i + 1, now - data[i])\r\n",
        "            sub += 1\r\n",
        "        if mul > 0:\r\n",
        "            mul -= 1\r\n",
        "            dfs(i + 1, now * data[i])\r\n",
        "            mul += 1\r\n",
        "        if div > 0:\r\n",
        "            div -= 1\r\n",
        "            dfs(i + 1, int(now / data[i]))\r\n",
        "            div += 1\r\n",
        "\r\n",
        "dfs(1, data[0])\r\n",
        "\r\n",
        "print(max_value)\r\n",
        "print(min_value)"
      ],
      "execution_count": 7,
      "outputs": [
        {
          "output_type": "stream",
          "text": [
            "3\n",
            "3 4 5\n",
            "1 0 1 0\n",
            "35\n",
            "17\n"
          ],
          "name": "stdout"
        }
      ]
    }
  ]
}