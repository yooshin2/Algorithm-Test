{
  "nbformat": 4,
  "nbformat_minor": 0,
  "metadata": {
    "colab": {
      "name": "Review3.ipynb",
      "provenance": [],
      "authorship_tag": "ABX9TyO4N2Ntwr55HaEi74u6hNRV",
      "include_colab_link": true
    },
    "kernelspec": {
      "name": "python3",
      "display_name": "Python 3"
    }
  },
  "cells": [
    {
      "cell_type": "markdown",
      "metadata": {
        "id": "view-in-github",
        "colab_type": "text"
      },
      "source": [
        "<a href=\"https://colab.research.google.com/github/yooshin2/Algorithm-Test/blob/main/Review3.ipynb\" target=\"_parent\"><img src=\"https://colab.research.google.com/assets/colab-badge.svg\" alt=\"Open In Colab\"/></a>"
      ]
    },
    {
      "cell_type": "code",
      "metadata": {
        "colab": {
          "base_uri": "https://localhost:8080/"
        },
        "id": "gD3_Sdc5cW2U",
        "outputId": "11ba7b81-d468-4098-d40c-3723ac6c034e"
      },
      "source": [
        "# Sequential Search\r\n",
        "\r\n",
        "def sequential_search(n, target, array):\r\n",
        "    for i in range(n):\r\n",
        "        if array[i] == target:\r\n",
        "            return i + 1\r\n",
        "\r\n",
        "print(\"생성할 원소의 개수와 찾을 문자열을 입력해주세요.\")\r\n",
        "input_data = input().split()\r\n",
        "n = int(input_data[0])\r\n",
        "target = input_data[1]\r\n",
        "\r\n",
        "print(\"문자열을 입력하세요.\")\r\n",
        "array = input().split()\r\n",
        "\r\n",
        "print(sequential_search(n, target, array))"
      ],
      "execution_count": 13,
      "outputs": [
        {
          "output_type": "stream",
          "text": [
            "생성할 원소의 개수와 찾을 문자열을 입력해주세요.\n",
            "5 so\n",
            "문자열을 입력하세요.\n",
            "I love you so much\n",
            "4\n"
          ],
          "name": "stdout"
        }
      ]
    },
    {
      "cell_type": "code",
      "metadata": {
        "colab": {
          "base_uri": "https://localhost:8080/"
        },
        "id": "8_nZlcTEgGYS",
        "outputId": "5c96126a-0e32-43a9-a43a-0d1fea8646be"
      },
      "source": [
        "# Binary Search\r\n",
        "\r\n",
        "def binary_search(array, target, start, end):\r\n",
        "    if start > end:\r\n",
        "        return None\r\n",
        "    mid = (start + end) // 2\r\n",
        "    if array[mid] == target:\r\n",
        "        return mid\r\n",
        "    elif array[mid] > target:\r\n",
        "        return binary_search(array, target, start, mid - 1)\r\n",
        "    else:\r\n",
        "        return binary_search(array, target, mid + 1, end)\r\n",
        "\r\n",
        "n, target = map(int, input().split())\r\n",
        "array = list(map(int, input().split()))\r\n",
        "\r\n",
        "result = binary_search(array, target, 0, n - 1)\r\n",
        "if result == None:\r\n",
        "    print(\"원소가 존재하지 않습니다.\")\r\n",
        "else:\r\n",
        "    print(result + 1)"
      ],
      "execution_count": 15,
      "outputs": [
        {
          "output_type": "stream",
          "text": [
            "5 7\n",
            "1 7 11 15 19 \n",
            "2\n"
          ],
          "name": "stdout"
        }
      ]
    },
    {
      "cell_type": "code",
      "metadata": {
        "colab": {
          "base_uri": "https://localhost:8080/"
        },
        "id": "wFAR_3Vbmpc0",
        "outputId": "0554a934-f95c-46db-df9a-ced8f2971d19"
      },
      "source": [
        "# Binary Search\r\n",
        "\r\n",
        "def binary_search(array, target, start, end):\r\n",
        "    while start <= end:\r\n",
        "        mid = (start + end) // 2\r\n",
        "        if array[mid] == target:\r\n",
        "            return mid\r\n",
        "        elif array[mid] > target:\r\n",
        "            end = mid - 1\r\n",
        "        else:\r\n",
        "            start = mid + 1\r\n",
        "    return None\r\n",
        "\r\n",
        "n, target = map(int, input().split())\r\n",
        "array = list(map(int, input().split()))\r\n",
        "\r\n",
        "result = binary_search(array, target, 0, n - 1)\r\n",
        "if result == None:\r\n",
        "    print(\"원소가 존재하지 않습니다.\")\r\n",
        "else:\r\n",
        "    print(result + 1)"
      ],
      "execution_count": 19,
      "outputs": [
        {
          "output_type": "stream",
          "text": [
            "4 5\n",
            "1 5 7 10\n",
            "2\n"
          ],
          "name": "stdout"
        }
      ]
    }
  ]
}