{
  "nbformat": 4,
  "nbformat_minor": 0,
  "metadata": {
    "colab": {
      "name": "Implementation-Question1.ipynb",
      "provenance": [],
      "authorship_tag": "ABX9TyNR5WrCUnR8kV+GUlCT4fAr",
      "include_colab_link": true
    },
    "kernelspec": {
      "name": "python3",
      "display_name": "Python 3"
    }
  },
  "cells": [
    {
      "cell_type": "markdown",
      "metadata": {
        "id": "view-in-github",
        "colab_type": "text"
      },
      "source": [
        "<a href=\"https://colab.research.google.com/github/yooshin2/Algorithm-Test/blob/main/Implementation_Question1.ipynb\" target=\"_parent\"><img src=\"https://colab.research.google.com/assets/colab-badge.svg\" alt=\"Open In Colab\"/></a>"
      ]
    },
    {
      "cell_type": "code",
      "metadata": {
        "colab": {
          "base_uri": "https://localhost:8080/"
        },
        "id": "LAoVL9FxgRyW",
        "outputId": "432e5053-7d90-4ca1-c35e-b861e3c75630"
      },
      "source": [
        "N = input()\r\n",
        "left = 0\r\n",
        "right = 0\r\n",
        "\r\n",
        "for i in range(len(N) // 2):\r\n",
        "    left += int(N[i])\r\n",
        "    right += int(N[len(N) - i - 1])\r\n",
        "\r\n",
        "if left == right:\r\n",
        "    print(\"LUCKY\")\r\n",
        "else:\r\n",
        "    print(\"READY\")"
      ],
      "execution_count": 10,
      "outputs": [
        {
          "output_type": "stream",
          "text": [
            "123456\n",
            "READY\n"
          ],
          "name": "stdout"
        }
      ]
    },
    {
      "cell_type": "code",
      "metadata": {
        "colab": {
          "base_uri": "https://localhost:8080/"
        },
        "id": "MumOtL0Hha_p",
        "outputId": "a3832894-b9fd-4d07-b12f-f6786d9d40fb"
      },
      "source": [
        "S = input()\r\n",
        "S = sorted(S)\r\n",
        "sum = 0\r\n",
        "\r\n",
        "for s in S:\r\n",
        "    if ord(s) > 90 or ord(s) < 65:\r\n",
        "        sum += int(s)\r\n",
        "    else:\r\n",
        "        print(s, end=\"\")\r\n",
        "\r\n",
        "print(sum)"
      ],
      "execution_count": 27,
      "outputs": [
        {
          "output_type": "stream",
          "text": [
            "AJKDLSI412K4JSJ9D\n",
            "ADDIJJJKKLSS20\n"
          ],
          "name": "stdout"
        }
      ]
    }
  ]
}