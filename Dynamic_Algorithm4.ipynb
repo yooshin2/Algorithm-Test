{
  "nbformat": 4,
  "nbformat_minor": 0,
  "metadata": {
    "colab": {
      "name": "Dynamic-Algorithm4.ipynb",
      "provenance": [],
      "authorship_tag": "ABX9TyN0erR5YKbJofWVm0bTXAHT",
      "include_colab_link": true
    },
    "kernelspec": {
      "name": "python3",
      "display_name": "Python 3"
    }
  },
  "cells": [
    {
      "cell_type": "markdown",
      "metadata": {
        "id": "view-in-github",
        "colab_type": "text"
      },
      "source": [
        "<a href=\"https://colab.research.google.com/github/yooshin2/Algorithm-Test/blob/main/Dynamic_Algorithm4.ipynb\" target=\"_parent\"><img src=\"https://colab.research.google.com/assets/colab-badge.svg\" alt=\"Open In Colab\"/></a>"
      ]
    },
    {
      "cell_type": "code",
      "metadata": {
        "colab": {
          "base_uri": "https://localhost:8080/"
        },
        "id": "H4z3jXpSj9WY",
        "outputId": "d70fa10d-7643-4c6d-d63a-17a68e99955f"
      },
      "source": [
        "n = int(input())\n",
        "\n",
        "d = [0] * 10001\n",
        "\n",
        "d[1] = 1\n",
        "d[2] = 3\n",
        "\n",
        "for i in range(3, n + 1):\n",
        "    d[i] = (d[i - 1] + 2 * d[i - 2]) % 796796\n",
        "\n",
        "print(d[n])"
      ],
      "execution_count": 3,
      "outputs": [
        {
          "output_type": "stream",
          "text": [
            "4\n",
            "11\n"
          ],
          "name": "stdout"
        }
      ]
    },
    {
      "cell_type": "code",
      "metadata": {
        "colab": {
          "base_uri": "https://localhost:8080/"
        },
        "id": "pOgyyudAxU1H",
        "outputId": "3e415483-03ee-41ed-c224-13b765681549"
      },
      "source": [
        "n, m = map(int, input().split())\n",
        "\n",
        "array = []\n",
        "for i in range(n):\n",
        "    array.append(int(input()))\n",
        "\n",
        "d = [10001] * (m + 1)\n",
        "\n",
        "d[0] = 0\n",
        "for i in range(n):\n",
        "    for j in range(array[i], m + 1):\n",
        "        if d[j - array[i]] != 10001:\n",
        "            d[j] = min(d[j], d[j - array[i]] + 1)\n",
        "\n",
        "if d[m] == 10001:\n",
        "    print(-1)\n",
        "else:\n",
        "    print(d[m])"
      ],
      "execution_count": 9,
      "outputs": [
        {
          "output_type": "stream",
          "text": [
            "2 15\n",
            "2\n",
            "3\n",
            "5\n"
          ],
          "name": "stdout"
        }
      ]
    }
  ]
}