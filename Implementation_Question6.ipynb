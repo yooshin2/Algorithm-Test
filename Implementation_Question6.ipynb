{
  "nbformat": 4,
  "nbformat_minor": 0,
  "metadata": {
    "colab": {
      "name": "Implementation-Question6.ipynb",
      "provenance": [],
      "authorship_tag": "ABX9TyPD3hOv21tGRFP/8LmCxmFS",
      "include_colab_link": true
    },
    "kernelspec": {
      "name": "python3",
      "display_name": "Python 3"
    }
  },
  "cells": [
    {
      "cell_type": "markdown",
      "metadata": {
        "id": "view-in-github",
        "colab_type": "text"
      },
      "source": [
        "<a href=\"https://colab.research.google.com/github/yooshin2/Algorithm-Test/blob/main/Implementation_Question6.ipynb\" target=\"_parent\"><img src=\"https://colab.research.google.com/assets/colab-badge.svg\" alt=\"Open In Colab\"/></a>"
      ]
    },
    {
      "cell_type": "code",
      "metadata": {
        "colab": {
          "base_uri": "https://localhost:8080/"
        },
        "id": "9VO6PFI_0osV",
        "outputId": "d3d77f11-7dbb-466c-9f5c-96628061daa4"
      },
      "source": [
        "from itertools import combinations\r\n",
        "\r\n",
        "n, m = map(int, input().split())\r\n",
        "chicken, house = [], []\r\n",
        "\r\n",
        "for r in range(n):\r\n",
        "    data = list(map(int, input().split()))\r\n",
        "    for c in range(n):\r\n",
        "        if data[c] == 1:\r\n",
        "            house.append((r, c))\r\n",
        "        elif data[c] == 2:\r\n",
        "            chicken.append((r,c))\r\n",
        "\r\n",
        "candidates = list(combinations(chicken, m))\r\n",
        "\r\n",
        "def get_sum(candidate):\r\n",
        "    result = 0\r\n",
        "    for hx, hy in house:\r\n",
        "        temp = 1e9\r\n",
        "        for cx, cy in candidate:\r\n",
        "            temp = min(temp, abs(hx - cx) + abs(hy - cy))\r\n",
        "        result += temp\r\n",
        "    return result\r\n",
        "\r\n",
        "result = 1e9\r\n",
        "for candidate in candidates:\r\n",
        "    result = min(result, get_sum(candidate))\r\n",
        "\r\n",
        "print(result)"
      ],
      "execution_count": 15,
      "outputs": [
        {
          "output_type": "stream",
          "text": [
            "5 2\n",
            "0 2 0 1 0 \n",
            "1 0 1 0 0\n",
            "0 0 0 0 0\n",
            "2 0 0 1 1\n",
            "2 2 0 1 2\n",
            "10\n"
          ],
          "name": "stdout"
        }
      ]
    }
  ]
}