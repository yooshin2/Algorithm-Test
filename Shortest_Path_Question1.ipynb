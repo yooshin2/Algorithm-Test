{
  "nbformat": 4,
  "nbformat_minor": 0,
  "metadata": {
    "colab": {
      "name": "Shortest-Path-Question1.ipynb",
      "provenance": [],
      "authorship_tag": "ABX9TyPCelt2KevV3/PK4dZ49jqC",
      "include_colab_link": true
    },
    "kernelspec": {
      "name": "python3",
      "display_name": "Python 3"
    }
  },
  "cells": [
    {
      "cell_type": "markdown",
      "metadata": {
        "id": "view-in-github",
        "colab_type": "text"
      },
      "source": [
        "<a href=\"https://colab.research.google.com/github/yooshin2/Algorithm-Test/blob/main/Shortest_Path_Question1.ipynb\" target=\"_parent\"><img src=\"https://colab.research.google.com/assets/colab-badge.svg\" alt=\"Open In Colab\"/></a>"
      ]
    },
    {
      "cell_type": "code",
      "metadata": {
        "colab": {
          "base_uri": "https://localhost:8080/"
        },
        "id": "F318H7X1Tcvl",
        "outputId": "2bf717e7-ac96-431a-a4fb-72b42473f7c7"
      },
      "source": [
        "INF = int(1e9)\r\n",
        "\r\n",
        "n = int(input())\r\n",
        "m = int(input())\r\n",
        "graph = [[INF] * (n + 1) for _ in range(n + 1)]\r\n",
        "\r\n",
        "for a in range(1, n + 1):\r\n",
        "    for b in range(1, n + 1):\r\n",
        "        if a == b:\r\n",
        "            graph[a][b] = 0\r\n",
        "\r\n",
        "for _ in range(m):\r\n",
        "    a, b, c = map(int, input().split()) \r\n",
        "    if c < graph[a][b]:\r\n",
        "        graph[a][b] = c\r\n",
        "\r\n",
        "for k in range(1, n + 1):\r\n",
        "    for a in range(1, n + 1):\r\n",
        "        for b in range(1, n + 1):\r\n",
        "            graph[a][b] = min(graph[a][b], graph[a][k] + graph[k][b])\r\n",
        "\r\n",
        "for a in range(1, n + 1):\r\n",
        "    for b in range(1, n + 1):\r\n",
        "        if graph[a][b] == INF:\r\n",
        "            print(0, end=\" \")\r\n",
        "        else:\r\n",
        "            print(graph[a][b], end=\" \")\r\n",
        "    print()"
      ],
      "execution_count": 3,
      "outputs": [
        {
          "output_type": "stream",
          "text": [
            "5\n",
            "14\n",
            "1 2 2\n",
            "1 3 3\n",
            "1 4 1\n",
            "1 5 10\n",
            "2 4 2\n",
            "3 4 1\n",
            "3 5 1\n",
            "4 5 3\n",
            "3 5 10\n",
            "3 1 8\n",
            "1 4 2\n",
            "5 1 7\n",
            "3 4 2\n",
            "5 2 4\n",
            "0 2 3 1 4 \n",
            "12 0 15 2 5 \n",
            "8 5 0 1 1 \n",
            "10 7 13 0 3 \n",
            "7 4 10 6 0 \n"
          ],
          "name": "stdout"
        }
      ]
    }
  ]
}