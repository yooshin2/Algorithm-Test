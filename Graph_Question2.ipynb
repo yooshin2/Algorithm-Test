{
  "nbformat": 4,
  "nbformat_minor": 0,
  "metadata": {
    "colab": {
      "name": "Graph-Question2.ipynb",
      "provenance": [],
      "collapsed_sections": [],
      "authorship_tag": "ABX9TyOQA91zoG0g3J5OsUWlb+2i",
      "include_colab_link": true
    },
    "kernelspec": {
      "name": "python3",
      "display_name": "Python 3"
    }
  },
  "cells": [
    {
      "cell_type": "markdown",
      "metadata": {
        "id": "view-in-github",
        "colab_type": "text"
      },
      "source": [
        "<a href=\"https://colab.research.google.com/github/yooshin2/Algorithm-Test/blob/main/Graph_Question2.ipynb\" target=\"_parent\"><img src=\"https://colab.research.google.com/assets/colab-badge.svg\" alt=\"Open In Colab\"/></a>"
      ]
    },
    {
      "cell_type": "code",
      "metadata": {
        "colab": {
          "base_uri": "https://localhost:8080/"
        },
        "id": "SusFQOjTuHGt",
        "outputId": "a25500fc-b571-4b00-d2a0-cd8e0fcf92d1"
      },
      "source": [
        "def find_parent(parent, x):\r\n",
        "    if parent[x] != x:\r\n",
        "        parent[x] = find_parent(parent, parent[x])\r\n",
        "    return parent[x]\r\n",
        "\r\n",
        "def union_parent(parent, a, b):\r\n",
        "    a = find_parent(parent, a)\r\n",
        "    b = find_parent(parent, b)\r\n",
        "    if a < b:\r\n",
        "        parent[b] = a\r\n",
        "    else:\r\n",
        "        parent[a] = b\r\n",
        "\r\n",
        "g = int(input())\r\n",
        "p = int(input())\r\n",
        "parent = [0] * (g + 1)\r\n",
        "\r\n",
        "for i in range(1, g + 1):\r\n",
        "    parent[i] = i\r\n",
        "\r\n",
        "result = 0\r\n",
        "for _ in range(p):\r\n",
        "    data = find_parent(parent, int(input()))\r\n",
        "    if data == 0:\r\n",
        "        break\r\n",
        "    union_parent(parent, data, data - 1)\r\n",
        "    result += 1\r\n",
        "\r\n",
        "print(result)"
      ],
      "execution_count": 21,
      "outputs": [
        {
          "output_type": "stream",
          "text": [
            "4\n",
            "6\n",
            "2\n",
            "2\n",
            "3\n",
            "3\n",
            "3\n"
          ],
          "name": "stdout"
        }
      ]
    }
  ]
}