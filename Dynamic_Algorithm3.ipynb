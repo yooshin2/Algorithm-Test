{
  "nbformat": 4,
  "nbformat_minor": 0,
  "metadata": {
    "colab": {
      "name": "Dynamic-Algorithm3.ipynb",
      "provenance": [],
      "authorship_tag": "ABX9TyMCe37bcx4B/tJ3MvnHRpO5",
      "include_colab_link": true
    },
    "kernelspec": {
      "name": "python3",
      "display_name": "Python 3"
    }
  },
  "cells": [
    {
      "cell_type": "markdown",
      "metadata": {
        "id": "view-in-github",
        "colab_type": "text"
      },
      "source": [
        "<a href=\"https://colab.research.google.com/github/yooshin2/Algorithm-Test/blob/main/Dynamic_Algorithm3.ipynb\" target=\"_parent\"><img src=\"https://colab.research.google.com/assets/colab-badge.svg\" alt=\"Open In Colab\"/></a>"
      ]
    },
    {
      "cell_type": "code",
      "metadata": {
        "colab": {
          "base_uri": "https://localhost:8080/"
        },
        "id": "2FD9dNrl4fR-",
        "outputId": "795c3a7c-36e5-4006-99d9-11035b1617e0"
      },
      "source": [
        "n = int(input())\n",
        "\n",
        "array = list(map(int, input().split()))\n",
        "d = [0] * 10000\n",
        "\n",
        "d[0] = array[0]\n",
        "d[1] = max(array[0], array[1])\n",
        "\n",
        "for i in range(2, n):\n",
        "    d[i] = max(d[i - 1], d[i - 2] + array[i])\n",
        "\n",
        "print(d[n - 1])"
      ],
      "execution_count": 6,
      "outputs": [
        {
          "output_type": "stream",
          "text": [
            "5\n",
            "1 2 8 10 6\n",
            "15\n"
          ],
          "name": "stdout"
        }
      ]
    }
  ]
}