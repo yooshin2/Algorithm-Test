{
  "nbformat": 4,
  "nbformat_minor": 0,
  "metadata": {
    "colab": {
      "name": "Graph-Question1.ipynb",
      "provenance": [],
      "authorship_tag": "ABX9TyMD6qoqsBWEpn/S3guiiw+I",
      "include_colab_link": true
    },
    "kernelspec": {
      "name": "python3",
      "display_name": "Python 3"
    }
  },
  "cells": [
    {
      "cell_type": "markdown",
      "metadata": {
        "id": "view-in-github",
        "colab_type": "text"
      },
      "source": [
        "<a href=\"https://colab.research.google.com/github/yooshin2/Algorithm-Test/blob/main/Graph_Question1.ipynb\" target=\"_parent\"><img src=\"https://colab.research.google.com/assets/colab-badge.svg\" alt=\"Open In Colab\"/></a>"
      ]
    },
    {
      "cell_type": "code",
      "metadata": {
        "colab": {
          "base_uri": "https://localhost:8080/"
        },
        "id": "-ulEVGgsueGc",
        "outputId": "4c213cdb-0851-4084-b43b-9aa44c5edc06"
      },
      "source": [
        "def find_parent(parent, x):\r\n",
        "    if parent[x] != x:\r\n",
        "        parent[x] = find_parent(parent, parent[x])\r\n",
        "    return parent[x]\r\n",
        "\r\n",
        "def union_parent(parent, a, b):\r\n",
        "    a = find_parent(parent, a)\r\n",
        "    b = find_parent(parent, b)\r\n",
        "    if a < b:\r\n",
        "        parent[b] = a\r\n",
        "    else:\r\n",
        "        parent[a] = b\r\n",
        "\r\n",
        "n, m = map(int, input().split())\r\n",
        "parent = [0] * (n + 1)\r\n",
        "\r\n",
        "for i in range(1, n + 1):\r\n",
        "    parent[i] = i\r\n",
        "\r\n",
        "for i in range(n):\r\n",
        "    data = list(map(int, input().split()))\r\n",
        "    for j in range(n):\r\n",
        "        if data[j] == 1:\r\n",
        "            union_parent(parent, i + 1, j + 1)\r\n",
        "\r\n",
        "plan = list(map(int, input().split()))\r\n",
        "\r\n",
        "result = True\r\n",
        "for i in range(m - 1):\r\n",
        "    if find_parent(parent, plan[i]) != find_parent(parent, plan[i + 1]):\r\n",
        "        result = False\r\n",
        "        break\r\n",
        "\r\n",
        "if result:\r\n",
        "    print(\"YES\")\r\n",
        "else:\r\n",
        "    print(\"NO\")"
      ],
      "execution_count": 2,
      "outputs": [
        {
          "output_type": "stream",
          "text": [
            "5 4\n",
            "0 1 0 1 1 \n",
            "1 0 1 1 0\n",
            "0 1 0 0 0\n",
            "1 1 0 0 0\n",
            "1 0 0 0 0\n",
            "2 3 4 3\n",
            "YES\n"
          ],
          "name": "stdout"
        }
      ]
    }
  ]
}