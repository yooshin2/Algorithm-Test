{
  "nbformat": 4,
  "nbformat_minor": 0,
  "metadata": {
    "colab": {
      "name": "Trigonometric_with_RNN(failed learning).ipynb",
      "provenance": [],
      "collapsed_sections": [],
      "authorship_tag": "ABX9TyN5U5F6+78/J6PHcnU75pHe",
      "include_colab_link": true
    },
    "kernelspec": {
      "name": "python3",
      "display_name": "Python 3"
    },
    "accelerator": "GPU"
  },
  "cells": [
    {
      "cell_type": "markdown",
      "metadata": {
        "id": "view-in-github",
        "colab_type": "text"
      },
      "source": [
        "<a href=\"https://colab.research.google.com/github/yooshin2/Algorithm-Test/blob/main/Trigonometric_with_RNN(failed_learning).ipynb\" target=\"_parent\"><img src=\"https://colab.research.google.com/assets/colab-badge.svg\" alt=\"Open In Colab\"/></a>"
      ]
    },
    {
      "cell_type": "markdown",
      "metadata": {
        "id": "t-bsyGyeMXeu"
      },
      "source": [
        "# **Generating Dataset**"
      ]
    },
    {
      "cell_type": "code",
      "metadata": {
        "id": "X5gXwgEFKVNi"
      },
      "source": [
        "%matplotlib inline\r\n",
        "\r\n",
        "import numpy as np\r\n",
        "import matplotlib.pyplot as plt\r\n",
        "\r\n",
        "# ====== Generating Dataset ====== #\r\n",
        "num_data = 2400\r\n",
        "t = np.linspace(0.0, 100.0, num_data)\r\n",
        "y = np.sin(t) + np.sin(2*t)\r\n",
        "e = np.random.normal(0, 0.1, num_data)\r\n",
        "y = y + e\r\n",
        "\r\n",
        "seq_len = 10\r\n",
        "X = []\r\n",
        "true_y = []\r\n",
        "for i in range(len(t) - seq_len):\r\n",
        "    X.append(y[i:i+seq_len])\r\n",
        "    true_y.append(y[i+seq_len])\r\n",
        "\r\n",
        "X = np.array(X)\r\n",
        "true_y = np.array(true_y)\r\n",
        "\r\n",
        "X = np.swapaxes(X,0,1)\r\n",
        "X = np.expand_dims(X, axis=2)"
      ],
      "execution_count": 4,
      "outputs": []
    },
    {
      "cell_type": "markdown",
      "metadata": {
        "id": "SpPL3VfgMfv3"
      },
      "source": [
        "# **Model Define**"
      ]
    },
    {
      "cell_type": "code",
      "metadata": {
        "id": "YO3ALw1uMeyY"
      },
      "source": [
        "import torch\r\n",
        "import torch.nn as nn\r\n",
        "\r\n",
        "\r\n",
        "class RNN(nn.Module):\r\n",
        "    def __init__(self, input_dim, output_dim, hid_dim, batch_size): \r\n",
        "        super(RNN, self).__init__()\r\n",
        "        \r\n",
        "        self.input_dim = input_dim\r\n",
        "        self.output_dim = output_dim\r\n",
        "        self.hid_dim = hid_dim\r\n",
        "        self.batch_size = batch_size\r\n",
        "         \r\n",
        "        self.u = nn.Linear(self.input_dim, self.hid_dim, bias=False)\r\n",
        "        self.w = nn.Linear(self.hid_dim, self.hid_dim, bias=False)\r\n",
        "        self.v = nn.Linear(self.hid_dim, self.output_dim, bias=False)\r\n",
        "        self.act = nn.Tanh()\r\n",
        "        \r\n",
        "        self.hidden = self.init_hidden()\r\n",
        "        \r\n",
        "    def init_hidden(self, batch_size=None):\r\n",
        "        if batch_size is None:\r\n",
        "            batch_size = self.batch_size\r\n",
        "        return torch.zeros(batch_size, self.hid_dim)\r\n",
        "    \r\n",
        "    def forward(self, x):\r\n",
        "        h = self.act(self.u(x) + self.w(self.hidden))\r\n",
        "        y = self.v(h)\r\n",
        "        return y, h"
      ],
      "execution_count": 5,
      "outputs": []
    },
    {
      "cell_type": "markdown",
      "metadata": {
        "id": "vbiuZO0ZiqDZ"
      },
      "source": [
        "# **Train Trigonometric Function**"
      ]
    },
    {
      "cell_type": "code",
      "metadata": {
        "colab": {
          "base_uri": "https://localhost:8080/"
        },
        "id": "WvZNFkDIPwP4",
        "outputId": "0d583d27-42d2-4f38-b502-3ee3c89e58aa"
      },
      "source": [
        "import torch.optim as optim\r\n",
        "\r\n",
        "model = RNN(1, 1, 50, 2390)\r\n",
        "loss_fn = nn.MSELoss()\r\n",
        "optimizer = optim.SGD(model.parameters(), lr=0.005)\r\n",
        "epoch = 100\r\n",
        "\r\n",
        "# ====== Train ====== #\r\n",
        "\r\n",
        "for i in range(epoch):\r\n",
        "    model.train()\r\n",
        "    model.zero_grad()\r\n",
        "    optimizer.zero_grad()\r\n",
        " \r\n",
        "    model.hidden = model.init_hidden() \r\n",
        "\r\n",
        "    for x in X:\r\n",
        "        x = torch.Tensor(x).float()\r\n",
        "        true_y = torch.Tensor(true_y).float()\r\n",
        "\r\n",
        "        pred_y, hidden = model(x)                 \r\n",
        "        model.hidden = hidden\r\n",
        "        \r\n",
        "    loss = loss_fn(pred_y.view(-1), true_y)\r\n",
        "    loss.backward()\r\n",
        "    optimizer.step()\r\n",
        "    print(loss.item())\r\n"
      ],
      "execution_count": 6,
      "outputs": [
        {
          "output_type": "stream",
          "text": [
            "1.0363585948944092\n",
            "0.7776093482971191\n",
            "0.5884126424789429\n",
            "0.4502808153629303\n",
            "0.34960415959358215\n",
            "0.2763424515724182\n",
            "0.22309353947639465\n",
            "0.18441201746463776\n",
            "0.1563042849302292\n",
            "0.1358516365289688\n",
            "0.12092822790145874\n",
            "0.1099909096956253\n",
            "0.10192286223173141\n",
            "0.09591802209615707\n",
            "0.09139586985111237\n",
            "0.08793922513723373\n",
            "0.08524870872497559\n",
            "0.0831097736954689\n",
            "0.0813688412308693\n",
            "0.07991594076156616\n",
            "0.07867247611284256\n",
            "0.07758219540119171\n",
            "0.07660487294197083\n",
            "0.075711689889431\n",
            "0.07488199323415756\n",
            "0.07410097122192383\n",
            "0.0733579620718956\n",
            "0.07264526933431625\n",
            "0.07195734977722168\n",
            "0.07129012048244476\n",
            "0.07064063102006912\n",
            "0.07000670582056046\n",
            "0.06938669085502625\n",
            "0.0687793716788292\n",
            "0.0681837871670723\n",
            "0.06759920716285706\n",
            "0.06702505052089691\n",
            "0.06646083295345306\n",
            "0.06590615957975388\n",
            "0.06536069512367249\n",
            "0.06482414901256561\n",
            "0.06429625302553177\n",
            "0.06377676874399185\n",
            "0.06326549500226974\n",
            "0.06276220828294754\n",
            "0.062266744673252106\n",
            "0.061778903007507324\n",
            "0.06129853427410126\n",
            "0.06082545965909958\n",
            "0.06035952270030975\n",
            "0.05990057811141014\n",
            "0.0594484843313694\n",
            "0.05900309234857559\n",
            "0.05856427922844887\n",
            "0.05813189968466759\n",
            "0.057705823332071304\n",
            "0.057285938411951065\n",
            "0.056872110813856125\n",
            "0.05646422877907753\n",
            "0.05606216937303543\n",
            "0.05566583573818207\n",
            "0.05527510866522789\n",
            "0.05488988012075424\n",
            "0.05451005697250366\n",
            "0.0541355200111866\n",
            "0.05376620218157768\n",
            "0.05340198054909706\n",
            "0.05304276943206787\n",
            "0.05268847569823265\n",
            "0.052339017391204834\n",
            "0.051994312554597855\n",
            "0.05165426433086395\n",
            "0.05131879448890686\n",
            "0.05098782852292061\n",
            "0.05066128075122833\n",
            "0.05033907666802406\n",
            "0.05002114549279213\n",
            "0.04970741271972656\n",
            "0.04939780756831169\n",
            "0.049092259258031845\n",
            "0.04879070445895195\n",
            "0.04849306866526604\n",
            "0.048199284821748734\n",
            "0.04790930822491646\n",
            "0.04762304946780205\n",
            "0.04734048247337341\n",
            "0.047061510384082794\n",
            "0.0467861071228981\n",
            "0.04651419818401337\n",
            "0.04624573513865471\n",
            "0.04598066210746765\n",
            "0.04571892321109772\n",
            "0.045460473746061325\n",
            "0.0452052503824234\n",
            "0.04495321586728096\n",
            "0.04470432177186012\n",
            "0.04445850849151611\n",
            "0.04421574994921684\n",
            "0.04397597536444664\n",
            "0.043739158660173416\n"
          ],
          "name": "stdout"
        }
      ]
    },
    {
      "cell_type": "code",
      "metadata": {
        "colab": {
          "base_uri": "https://localhost:8080/",
          "height": 282
        },
        "id": "yQcflh8Wio5a",
        "outputId": "cdd61583-e5ac-4703-cf53-393cf78df8e6"
      },
      "source": [
        "test_X = np.expand_dims(X[:, 0, :], 1)\r\n",
        "\r\n",
        "list_pred_y = []\r\n",
        "\r\n",
        "model.eval()\r\n",
        "with torch.no_grad():\r\n",
        "    model.hidden = model.init_hidden(batch_size=1) \r\n",
        "\r\n",
        "    for x in test_X:\r\n",
        "        x = torch.Tensor(x).float()\r\n",
        "        true_y = torch.Tensor(true_y).float()\r\n",
        "        pred_y, hidden = model(x)\r\n",
        "        model.hidden = hidden\r\n",
        "    list_pred_y.append(pred_y.item())\r\n",
        "\r\n",
        "    for i in range(2389):\r\n",
        "        pred_y, hidden = model(pred_y)\r\n",
        "        list_pred_y.append(pred_y.item())\r\n",
        "\r\n",
        "plt.plot(y)\r\n",
        "plt.plot(list(range(10, 2400)), list_pred_y)\r\n",
        "plt.xlim(0, 200)\r\n"
      ],
      "execution_count": 12,
      "outputs": [
        {
          "output_type": "execute_result",
          "data": {
            "text/plain": [
              "(0.0, 200.0)"
            ]
          },
          "metadata": {
            "tags": []
          },
          "execution_count": 12
        },
        {
          "output_type": "display_data",
          "data": {
            "image/png": "[encoded data removed]",
            "text/plain": [
              "<Figure size 432x288 with 1 Axes>"
            ]
          },
          "metadata": {
            "tags": [],
            "needs_background": "light"
          }
        }
      ]
    }
  ]
}