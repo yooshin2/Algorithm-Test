{
  "nbformat": 4,
  "nbformat_minor": 0,
  "metadata": {
    "colab": {
      "name": "DataStructure.ipynb",
      "provenance": [],
      "collapsed_sections": [],
      "authorship_tag": "ABX9TyO6wDd3NN4X+jbn+K5AOina",
      "include_colab_link": true
    },
    "kernelspec": {
      "name": "python3",
      "display_name": "Python 3"
    }
  },
  "cells": [
    {
      "cell_type": "markdown",
      "metadata": {
        "id": "view-in-github",
        "colab_type": "text"
      },
      "source": [
        "<a href=\"https://colab.research.google.com/github/yooshin2/Algorithm-Test/blob/main/DataStructure.ipynb\" target=\"_parent\"><img src=\"https://colab.research.google.com/assets/colab-badge.svg\" alt=\"Open In Colab\"/></a>"
      ]
    },
    {
      "cell_type": "code",
      "metadata": {
        "colab": {
          "base_uri": "https://localhost:8080/"
        },
        "id": "3rLmV7Pbznuo",
        "outputId": "4db1edf2-295d-4cdb-8523-de7782701cc6"
      },
      "source": [
        "# Stack\n",
        "\n",
        "stack = []\n",
        "\n",
        "stack.append(5)\n",
        "stack.append(3)\n",
        "stack.append(0)\n",
        "stack.append(1)\n",
        "stack.pop()\n",
        "stack.append(7)\n",
        "stack.append(10)\n",
        "\n",
        "stack.reverse()\n",
        "print(stack)"
      ],
      "execution_count": 10,
      "outputs": [
        {
          "output_type": "stream",
          "text": [
            "[10, 7, 0, 3, 5]\n"
          ],
          "name": "stdout"
        }
      ]
    },
    {
      "cell_type": "code",
      "metadata": {
        "colab": {
          "base_uri": "https://localhost:8080/"
        },
        "id": "3G9T-2uW06Jh",
        "outputId": "1a403a38-9d1a-48c1-eb14-e866de2ce1d8"
      },
      "source": [
        "# Queue\n",
        "from collections import deque\n",
        "\n",
        "queue = deque()\n",
        "\n",
        "queue.append(5)\n",
        "queue.append(7)\n",
        "queue.append(3)\n",
        "queue.append(2)\n",
        "queue.append(4)\n",
        "queue.popleft()\n",
        "queue.append(10)\n",
        "\n",
        "print(queue)"
      ],
      "execution_count": 20,
      "outputs": [
        {
          "output_type": "stream",
          "text": [
            "deque([7, 3, 2, 4, 10])\n"
          ],
          "name": "stdout"
        }
      ]
    },
    {
      "cell_type": "code",
      "metadata": {
        "colab": {
          "base_uri": "https://localhost:8080/"
        },
        "id": "hr9P8R-L3aKy",
        "outputId": "1bf0c082-d7bf-4412-dc0d-34702a366d7d"
      },
      "source": [
        "def recursive_function(i):\n",
        "    if i == 10:\n",
        "        return\n",
        "    print(i, \"번째 재귀 함수 호출\")\n",
        "    recursive_function(i + 1)\n",
        "    print(i, \"번째 재귀 함수 종료\")\n",
        "\n",
        "recursive_function(1)"
      ],
      "execution_count": 23,
      "outputs": [
        {
          "output_type": "stream",
          "text": [
            "1 번째 재귀 함수 호출\n",
            "2 번째 재귀 함수 호출\n",
            "3 번째 재귀 함수 호출\n",
            "4 번째 재귀 함수 호출\n",
            "5 번째 재귀 함수 호출\n",
            "6 번째 재귀 함수 호출\n",
            "7 번째 재귀 함수 호출\n",
            "8 번째 재귀 함수 호출\n",
            "9 번째 재귀 함수 호출\n",
            "9 번째 재귀 함수 종료\n",
            "8 번째 재귀 함수 종료\n",
            "7 번째 재귀 함수 종료\n",
            "6 번째 재귀 함수 종료\n",
            "5 번째 재귀 함수 종료\n",
            "4 번째 재귀 함수 종료\n",
            "3 번째 재귀 함수 종료\n",
            "2 번째 재귀 함수 종료\n",
            "1 번째 재귀 함수 종료\n"
          ],
          "name": "stdout"
        }
      ]
    },
    {
      "cell_type": "code",
      "metadata": {
        "colab": {
          "base_uri": "https://localhost:8080/"
        },
        "id": "fbe0mO1d9W64",
        "outputId": "93e28b03-bb19-4d79-a6be-a896f54691fd"
      },
      "source": [
        "def factorial_iterative(n):\n",
        "    result = 1\n",
        "    for i in range(1, n + 1):\n",
        "        result *= i\n",
        "\n",
        "    return result\n",
        "\n",
        "def factorial_recursive(n):\n",
        "    if n <= 1:\n",
        "        return 1\n",
        "\n",
        "    return n * factorial_recursive(n - 1)\n",
        "\n",
        "print('반복적으로 구현 :', factorial_iterative(5))\n",
        "print('재귀적으로 구현 :', factorial_recursive(5))"
      ],
      "execution_count": 24,
      "outputs": [
        {
          "output_type": "stream",
          "text": [
            "반복적으로 구현 : 120\n",
            "재귀적으로 구현 : 120\n"
          ],
          "name": "stdout"
        }
      ]
    }
  ]
}