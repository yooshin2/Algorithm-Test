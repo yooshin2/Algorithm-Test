{
  "nbformat": 4,
  "nbformat_minor": 0,
  "metadata": {
    "colab": {
      "name": "Search-Algorithm1.ipynb",
      "provenance": [],
      "authorship_tag": "ABX9TyNebsUNTwJXOdcM53WY1cDs",
      "include_colab_link": true
    },
    "kernelspec": {
      "name": "python3",
      "display_name": "Python 3"
    }
  },
  "cells": [
    {
      "cell_type": "markdown",
      "metadata": {
        "id": "view-in-github",
        "colab_type": "text"
      },
      "source": [
        "<a href=\"https://colab.research.google.com/github/yooshin2/Algorithm-Test/blob/main/Search_Algorithm1.ipynb\" target=\"_parent\"><img src=\"https://colab.research.google.com/assets/colab-badge.svg\" alt=\"Open In Colab\"/></a>"
      ]
    },
    {
      "cell_type": "code",
      "metadata": {
        "colab": {
          "base_uri": "https://localhost:8080/"
        },
        "id": "1q0Zx9_ETXaM",
        "outputId": "843b2e07-208b-4139-c574-6f38d1f83562"
      },
      "source": [
        "def sequential_search(n, target, array):\n",
        "    for i in range(n):\n",
        "        if array[i] == target:\n",
        "            return i + 1\n",
        "  \n",
        "print(\"생성할 원소 개수를 입력한 다음 한 칸 띄고 찾을 문자열을 입력하세요\")\n",
        "input_data = input().split()\n",
        "n = int(input_data[0])\n",
        "target = input_data[1]\n",
        "\n",
        "print(\"방금 적은 원소 개수만큼 문자열을 입력하세요 구분은 띄어쓰기 한 칸으로 합니다\")\n",
        "array = input().split()\n",
        "\n",
        "print(sequential_search(n, target, array))"
      ],
      "execution_count": 1,
      "outputs": [
        {
          "output_type": "stream",
          "text": [
            "생성할 원소 개수를 입력한 다음 한 칸 띄고 찾을 문자열을 입력하세요\n",
            "5 hi\n",
            "방금 적은 원소 개수만큼 문자열을 입력하세요 구분은 띄어쓰기 한 칸으로 합니다\n",
            "hello love hi cup sky\n",
            "3\n"
          ],
          "name": "stdout"
        }
      ]
    },
    {
      "cell_type": "code",
      "metadata": {
        "colab": {
          "base_uri": "https://localhost:8080/"
        },
        "id": "ZcOlCgnEeP1Z",
        "outputId": "bb07f5e7-c523-4faa-f7f9-78013a80af85"
      },
      "source": [
        "# 이진 탐색(재귀 함수)\n",
        "\n",
        "def binary_search(array, target, start, end):\n",
        "    if start > end:\n",
        "        return None\n",
        "    mid = int((start + end) / 2)\n",
        "    if array[mid] == target:\n",
        "        return mid\n",
        "    elif array[mid] > target:\n",
        "        return binary_search(array, target, start, mid - 1)\n",
        "    else:\n",
        "        return binary_search(array, target, mid + 1, end)\n",
        "\n",
        "n, target = list(map(int, input().split()))\n",
        "array = list(map(int, input().split()))\n",
        "\n",
        "result = binary_search(array, target, 0, n - 1)\n",
        "if result == None:\n",
        "    print(\"원소가 존재하지 않습니다.\")\n",
        "else:\n",
        "    print(result + 1)"
      ],
      "execution_count": 2,
      "outputs": [
        {
          "output_type": "stream",
          "text": [
            "7 5\n",
            "1 2 4 5 6 8 10\n",
            "4\n"
          ],
          "name": "stdout"
        }
      ]
    },
    {
      "cell_type": "code",
      "metadata": {
        "colab": {
          "base_uri": "https://localhost:8080/"
        },
        "id": "03IK2_dlfdg7",
        "outputId": "04123ac7-1799-4e5b-bc2b-266d5a757f6d"
      },
      "source": [
        "# 이진 탐색(반복문)\n",
        "\n",
        "def binary_search(array, target, start, end):\n",
        "    while start <= end:\n",
        "        mid = int((start + end) / 2)\n",
        "        if array[mid] == target:\n",
        "            return mid\n",
        "        elif array[mid] > target:\n",
        "            end = mid - 1\n",
        "        else:\n",
        "            start = mid + 1\n",
        "    return None\n",
        "\n",
        "n, target = list(map(int, input().split()))\n",
        "array = list(map(int, input().split()))\n",
        "\n",
        "result = binary_search(array, target, 0, n - 1)\n",
        "if result == None:\n",
        "    print(\"원소가 존재하지 않습니다.\")\n",
        "else:\n",
        "    print(result + 1)"
      ],
      "execution_count": 3,
      "outputs": [
        {
          "output_type": "stream",
          "text": [
            "8 7\n",
            "1 2 3 5 7 11 13 15\n",
            "5\n"
          ],
          "name": "stdout"
        }
      ]
    }
  ]
}