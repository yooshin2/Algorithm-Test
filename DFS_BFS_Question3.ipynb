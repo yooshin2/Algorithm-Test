{
  "nbformat": 4,
  "nbformat_minor": 0,
  "metadata": {
    "colab": {
      "name": "DFS/BFS-Question3.ipynb",
      "provenance": [],
      "authorship_tag": "ABX9TyPRTseIMoMia/eVnNLYtgQo",
      "include_colab_link": true
    },
    "kernelspec": {
      "name": "python3",
      "display_name": "Python 3"
    }
  },
  "cells": [
    {
      "cell_type": "markdown",
      "metadata": {
        "id": "view-in-github",
        "colab_type": "text"
      },
      "source": [
        "<a href=\"https://colab.research.google.com/github/yooshin2/Algorithm-Test/blob/main/DFS_BFS_Question3.ipynb\" target=\"_parent\"><img src=\"https://colab.research.google.com/assets/colab-badge.svg\" alt=\"Open In Colab\"/></a>"
      ]
    },
    {
      "cell_type": "code",
      "metadata": {
        "colab": {
          "base_uri": "https://localhost:8080/"
        },
        "id": "fLurzUMAhEGA",
        "outputId": "b7b02f0f-654f-41ab-9f98-89cc28f16651"
      },
      "source": [
        "from collections import deque\r\n",
        "\r\n",
        "n, k = map(int, input().split())\r\n",
        "\r\n",
        "graph = []\r\n",
        "data = []\r\n",
        "\r\n",
        "for i in range(n):\r\n",
        "    graph.append(list(map(int, input().split())))\r\n",
        "    for j in range(n):\r\n",
        "        if graph[i][j] != 0:\r\n",
        "            data.append((graph[i][j], 0, i, j))\r\n",
        "\r\n",
        "data.sort()\r\n",
        "q = deque(data)\r\n",
        "\r\n",
        "target_s, target_x, target_y = map(int, input().split())\r\n",
        "\r\n",
        "dx = [-1, 0, 1, 0]\r\n",
        "dy = [0, 1, 0, -1]\r\n",
        "\r\n",
        "while q:\r\n",
        "    virus, s, x, y = q.popleft()\r\n",
        "    if s == target_s:\r\n",
        "        break\r\n",
        "    for i in range(4):\r\n",
        "        nx = x + dx[i]\r\n",
        "        ny = y + dy[i]\r\n",
        "        if 0 <= nx and nx < n and 0<= ny and ny < n:\r\n",
        "            if graph[nx][ny] == 0:\r\n",
        "                graph[nx][ny] = virus\r\n",
        "                q.append((virus, s + 1, nx, ny))\r\n",
        "\r\n",
        "print(graph[target_x - 1][target_y - 1])"
      ],
      "execution_count": 10,
      "outputs": [
        {
          "output_type": "stream",
          "text": [
            "3 3\n",
            "1 0 2\n",
            "0 0 0\n",
            "3 0 0\n",
            "2 3 2\n",
            "3\n"
          ],
          "name": "stdout"
        }
      ]
    }
  ]
}