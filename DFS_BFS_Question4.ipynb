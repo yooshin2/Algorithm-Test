{
  "nbformat": 4,
  "nbformat_minor": 0,
  "metadata": {
    "colab": {
      "name": "DFS/BFS-Question4.ipynb",
      "provenance": [],
      "authorship_tag": "ABX9TyNKEfpI5UXo/5+TQ86hDonJ",
      "include_colab_link": true
    },
    "kernelspec": {
      "name": "python3",
      "display_name": "Python 3"
    }
  },
  "cells": [
    {
      "cell_type": "markdown",
      "metadata": {
        "id": "view-in-github",
        "colab_type": "text"
      },
      "source": [
        "<a href=\"https://colab.research.google.com/github/yooshin2/Algorithm-Test/blob/main/DFS_BFS_Question4.ipynb\" target=\"_parent\"><img src=\"https://colab.research.google.com/assets/colab-badge.svg\" alt=\"Open In Colab\"/></a>"
      ]
    },
    {
      "cell_type": "code",
      "metadata": {
        "colab": {
          "base_uri": "https://localhost:8080/",
          "height": 35
        },
        "id": "DBD04LOpyRio",
        "outputId": "c009285d-5364-457b-f063-d1b49836c9ce"
      },
      "source": [
        "def balanced_index(p):\r\n",
        "    count = 0\r\n",
        "    for i in range(len(p)):\r\n",
        "        if p[i] == '(':\r\n",
        "            count += 1\r\n",
        "        else:\r\n",
        "            count -= 1\r\n",
        "        if count == 0:\r\n",
        "            return i\r\n",
        "\r\n",
        "def check_proper(p):\r\n",
        "    count = 0 \r\n",
        "    for i in p:\r\n",
        "        if i == '(':\r\n",
        "            count += 1\r\n",
        "        else:\r\n",
        "            if count == 0:\r\n",
        "                return False\r\n",
        "            count -= 1\r\n",
        "    return True\r\n",
        "\r\n",
        "def solution(p):\r\n",
        "    answer = \"\"\r\n",
        "    if p == '':\r\n",
        "        return answer\r\n",
        "    index = balanced_index(p)\r\n",
        "    u = p[:index + 1]\r\n",
        "    v = p[index + 1:]\r\n",
        "    if check_proper(u):\r\n",
        "        answer = u + solution(v)\r\n",
        "    else:\r\n",
        "        answer = '('\r\n",
        "        answer += solution(v)\r\n",
        "        answer += ')'\r\n",
        "        u = list(u[1:-1])\r\n",
        "        for i in range(len(u)):\r\n",
        "            if u[i] == '(':\r\n",
        "                u[i] = ')'\r\n",
        "            else:\r\n",
        "                u[i] = '('\r\n",
        "        answer += \"\".join(u)\r\n",
        "    return answer\r\n",
        "\r\n",
        "p = \"()))((()\"\r\n",
        "\r\n",
        "solution(p)"
      ],
      "execution_count": 15,
      "outputs": [
        {
          "output_type": "execute_result",
          "data": {
            "application/vnd.google.colaboratory.intrinsic+json": {
              "type": "string"
            },
            "text/plain": [
              "'()(())()'"
            ]
          },
          "metadata": {
            "tags": []
          },
          "execution_count": 15
        }
      ]
    }
  ]
}