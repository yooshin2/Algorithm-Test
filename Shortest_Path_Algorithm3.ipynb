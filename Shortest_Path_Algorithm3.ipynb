{
  "nbformat": 4,
  "nbformat_minor": 0,
  "metadata": {
    "colab": {
      "name": "Shortest-Path-Algorithm3.ipynb",
      "provenance": [],
      "authorship_tag": "ABX9TyOg6pP9nO9JKF7axwkRNOtU",
      "include_colab_link": true
    },
    "kernelspec": {
      "name": "python3",
      "display_name": "Python 3"
    }
  },
  "cells": [
    {
      "cell_type": "markdown",
      "metadata": {
        "id": "view-in-github",
        "colab_type": "text"
      },
      "source": [
        "<a href=\"https://colab.research.google.com/github/yooshin2/Algorithm-Test/blob/main/Shortest_Path_Algorithm3.ipynb\" target=\"_parent\"><img src=\"https://colab.research.google.com/assets/colab-badge.svg\" alt=\"Open In Colab\"/></a>"
      ]
    },
    {
      "cell_type": "code",
      "metadata": {
        "colab": {
          "base_uri": "https://localhost:8080/"
        },
        "id": "RUhZr4ka1I7n",
        "outputId": "c76e1adb-90ad-40cb-fc84-6cb8403681db"
      },
      "source": [
        "INF = int(1e9)\n",
        "n, m = map(int, input().split())\n",
        "graph = [[INF] * (n + 1) for _ in range(n + 1)]\n",
        "\n",
        "for a in range(1, n + 1):\n",
        "    for b in range(1, n + 1):\n",
        "        if a == b:\n",
        "            graph[a][b] = 0\n",
        "\n",
        "for _ in range(m):\n",
        "    a, b = map(int, input().split())\n",
        "    graph[a][b] = 1\n",
        "    graph[b][a] = 1\n",
        "\n",
        "x, k = map(int, input().split())\n",
        "\n",
        "for k in range(1, n + 1):\n",
        "    for a in range(1, n + 1):\n",
        "        for b in range(1, n + 1):\n",
        "            graph[a][b] = min(graph[a][b], graph[a][k] + graph[k][b])\n",
        "\n",
        "distance = graph[1][k] + graph[k][x]\n",
        "\n",
        "if distance >= 1e9:\n",
        "    print(\"-1\")\n",
        "else:\n",
        "    print(distance)"
      ],
      "execution_count": 17,
      "outputs": [
        {
          "output_type": "stream",
          "text": [
            "5 7\n",
            "1 2\n",
            "1 3\n",
            "1 4\n",
            "2 4\n",
            "3 4\n",
            "3 5\n",
            "4 5\n",
            "4 5\n",
            "3\n"
          ],
          "name": "stdout"
        }
      ]
    }
  ]
}