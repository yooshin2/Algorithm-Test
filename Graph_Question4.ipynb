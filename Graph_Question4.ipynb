{
  "nbformat": 4,
  "nbformat_minor": 0,
  "metadata": {
    "colab": {
      "name": "Graph-Question4.ipynb",
      "provenance": [],
      "authorship_tag": "ABX9TyPailZCLvKr8d689MdS/L9w",
      "include_colab_link": true
    },
    "kernelspec": {
      "name": "python3",
      "display_name": "Python 3"
    }
  },
  "cells": [
    {
      "cell_type": "markdown",
      "metadata": {
        "id": "view-in-github",
        "colab_type": "text"
      },
      "source": [
        "<a href=\"https://colab.research.google.com/github/yooshin2/Algorithm-Test/blob/main/Graph_Question4.ipynb\" target=\"_parent\"><img src=\"https://colab.research.google.com/assets/colab-badge.svg\" alt=\"Open In Colab\"/></a>"
      ]
    },
    {
      "cell_type": "code",
      "metadata": {
        "colab": {
          "base_uri": "https://localhost:8080/"
        },
        "id": "aUqQ8eg6Nh0Z",
        "outputId": "8d08ae62-f063-4e51-e059-c04213fd259f"
      },
      "source": [
        "def find_parent(parent, x):\r\n",
        "    if parent[x] != x:\r\n",
        "        parent[x] = find_parent(parent, parent[x])\r\n",
        "    return parent[x]\r\n",
        "\r\n",
        "def union_parent(parent, a, b):\r\n",
        "    a = find_parent(parent, a)\r\n",
        "    b = find_parent(parent, b)\r\n",
        "    if a < b:\r\n",
        "        parent[b] = a\r\n",
        "    else:\r\n",
        "        parent[a] = b\r\n",
        "\r\n",
        "n = int(input())\r\n",
        "parent = [0] * (n + 1)\r\n",
        "\r\n",
        "edges = []\r\n",
        "result = 0\r\n",
        "\r\n",
        "for i in range(1, n + 1):\r\n",
        "    parent[i] = i\r\n",
        "\r\n",
        "x = []\r\n",
        "y = []\r\n",
        "z = []\r\n",
        "\r\n",
        "for i in range(1, n + 1):\r\n",
        "    data = list(map(int, input().split()))\r\n",
        "    x.append((data[0], i))\r\n",
        "    y.append((data[1], i))\r\n",
        "    z.append((data[2], i))\r\n",
        "\r\n",
        "x.sort()\r\n",
        "y.sort()\r\n",
        "z.sort()\r\n",
        "\r\n",
        "for i in range(n - 1):\r\n",
        "    edges.append((x[i + 1][0] - x[i][0], x[i][1], x[i + 1][1]))\r\n",
        "    edges.append((y[i + 1][0] - y[i][0], y[i][1], y[i + 1][1]))\r\n",
        "    edges.append((z[i + 1][0] - z[i][0], z[i][1], z[i + 1][1]))\r\n",
        "\r\n",
        "edges.sort()\r\n",
        "cnt = 0\r\n",
        "\r\n",
        "for edge in edges:\r\n",
        "    if cnt == n - 1:\r\n",
        "        break\r\n",
        "    cost, a, b = edge\r\n",
        "    if find_parent(parent, a) != find_parent(parent, b):\r\n",
        "        union_parent(parent, a, b)\r\n",
        "        result += cost\r\n",
        "        cnt += 1\r\n",
        "\r\n",
        "print(result)"
      ],
      "execution_count": 14,
      "outputs": [
        {
          "output_type": "stream",
          "text": [
            "5\n",
            "11 -15 -15\n",
            "14 -5 -15\n",
            "-1 -1 -5\n",
            "10 -4 -1\n",
            "19 -4 19\n",
            "4\n"
          ],
          "name": "stdout"
        }
      ]
    }
  ]
}