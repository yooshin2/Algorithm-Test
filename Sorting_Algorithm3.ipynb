{
  "nbformat": 4,
  "nbformat_minor": 0,
  "metadata": {
    "colab": {
      "name": "Sorting-Algorithm3.ipynb",
      "provenance": [],
      "collapsed_sections": [],
      "authorship_tag": "ABX9TyPK/LmISP5GBIGzK8M+LAMA",
      "include_colab_link": true
    },
    "kernelspec": {
      "name": "python3",
      "display_name": "Python 3"
    }
  },
  "cells": [
    {
      "cell_type": "markdown",
      "metadata": {
        "id": "view-in-github",
        "colab_type": "text"
      },
      "source": [
        "<a href=\"https://colab.research.google.com/github/yooshin2/Algorithm-Test/blob/main/Sorting_Algorithm3.ipynb\" target=\"_parent\"><img src=\"https://colab.research.google.com/assets/colab-badge.svg\" alt=\"Open In Colab\"/></a>"
      ]
    },
    {
      "cell_type": "code",
      "metadata": {
        "colab": {
          "base_uri": "https://localhost:8080/"
        },
        "id": "kue8oPIlk6-C",
        "outputId": "2ee83b75-ebc8-4bf2-86b4-a2a42a156f99"
      },
      "source": [
        "n = int(input())\n",
        "\n",
        "array = []\n",
        "for i in range(n):\n",
        "    array.append(int(input()))\n",
        "\n",
        "array.sort(reverse = True)\n",
        "\n",
        "for i in array:\n",
        "    print(i, end=' ')"
      ],
      "execution_count": 30,
      "outputs": [
        {
          "output_type": "stream",
          "text": [
            "5\n",
            "92\n",
            "15\n",
            "74\n",
            "38\n",
            "100\n",
            "100 92 74 38 15 "
          ],
          "name": "stdout"
        }
      ]
    },
    {
      "cell_type": "code",
      "metadata": {
        "colab": {
          "base_uri": "https://localhost:8080/"
        },
        "id": "rXID7J2UpCsf",
        "outputId": "049c223f-c0ce-4528-a8ce-75b5cfcce46b"
      },
      "source": [
        "n = int(input())\n",
        "\n",
        "array = []\n",
        "for i in range(n):\n",
        "    input_data = input().split()\n",
        "    array.append((input_data[0], input_data[1]))\n",
        "\n",
        "array = sorted(array, key = lambda student: student[1])\n",
        "\n",
        "for student in array:\n",
        "    print(student[0], end=' ')"
      ],
      "execution_count": 29,
      "outputs": [
        {
          "output_type": "stream",
          "text": [
            "4\n",
            "홍길동 77\n",
            "김유신 90\n",
            "이순신 80\n",
            "세종대왕 75\n",
            "세종대왕 홍길동 이순신 김유신 "
          ],
          "name": "stdout"
        }
      ]
    },
    {
      "cell_type": "code",
      "metadata": {
        "colab": {
          "base_uri": "https://localhost:8080/"
        },
        "id": "fzzSTMf-1Ght",
        "outputId": "e532a03e-7909-4f8d-b013-73ddc6ee662d"
      },
      "source": [
        "n, k = map(int, input().split())\n",
        "a = list(map(int, input().split()))\n",
        "b = list(map(int, input().split()))\n",
        "\n",
        "a.sort()\n",
        "b.sort(reverse=True)\n",
        "\n",
        "for i in range(k):\n",
        "    if a[i] < b[i]:\n",
        "        a[i], b[i] = b[i], a[i]\n",
        "    else:\n",
        "        break\n",
        "\n",
        "print(sum(a))"
      ],
      "execution_count": 34,
      "outputs": [
        {
          "output_type": "stream",
          "text": [
            "5 3\n",
            "1 2 5 4 3\n",
            "5 5 6 6 5\n",
            "26\n"
          ],
          "name": "stdout"
        }
      ]
    }
  ]
}