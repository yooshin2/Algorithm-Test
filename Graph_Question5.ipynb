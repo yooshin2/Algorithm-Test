{
  "nbformat": 4,
  "nbformat_minor": 0,
  "metadata": {
    "colab": {
      "name": "Graph-Question5.ipynb",
      "provenance": [],
      "authorship_tag": "ABX9TyMex5tN7INiEByvrctwJI39",
      "include_colab_link": true
    },
    "kernelspec": {
      "name": "python3",
      "display_name": "Python 3"
    }
  },
  "cells": [
    {
      "cell_type": "markdown",
      "metadata": {
        "id": "view-in-github",
        "colab_type": "text"
      },
      "source": [
        "<a href=\"https://colab.research.google.com/github/yooshin2/Algorithm-Test/blob/main/Graph_Question5.ipynb\" target=\"_parent\"><img src=\"https://colab.research.google.com/assets/colab-badge.svg\" alt=\"Open In Colab\"/></a>"
      ]
    },
    {
      "cell_type": "code",
      "metadata": {
        "colab": {
          "base_uri": "https://localhost:8080/"
        },
        "id": "DUnTnPZtfhmU",
        "outputId": "5163f0c8-3737-4c5c-b9a4-713a2adb3c05"
      },
      "source": [
        "from collections import deque\r\n",
        "\r\n",
        "for tc in range(int(input())):\r\n",
        "    n = int(input())\r\n",
        "    indegree = [0] * (n + 1)\r\n",
        "    graph = [[False] * (n + 1) for i in range(n + 1)]\r\n",
        "\r\n",
        "    data = list(map(int, input().split()))\r\n",
        "    for i in range(n):\r\n",
        "        for j in range(i + 1, n):\r\n",
        "            graph[data[i]][data[j]] = True\r\n",
        "            indegree[data[j]] += 1\r\n",
        "\r\n",
        "    m = int(input())\r\n",
        "    for i in range(m):\r\n",
        "        a, b = map(int, input().split())\r\n",
        "        if graph[a][b]:\r\n",
        "            graph[a][b] = False\r\n",
        "            graph[b][a] = True\r\n",
        "            indegree[a] += 1\r\n",
        "            indegree[b] -= 1\r\n",
        "        else:\r\n",
        "            graph[a][b] = True\r\n",
        "            graph[b][a] = False\r\n",
        "            indegree[a] -= 1\r\n",
        "            indegree[b] += 1\r\n",
        "\r\n",
        "    result = []\r\n",
        "    q = deque()\r\n",
        "\r\n",
        "    for i in range(1, n + 1):\r\n",
        "        if indegree[i] == 0:\r\n",
        "            q.append(i)\r\n",
        "\r\n",
        "    certain = True\r\n",
        "    cycle = False\r\n",
        "\r\n",
        "    for i in range(n):\r\n",
        "        if len(q) == 0:\r\n",
        "            cycle = True\r\n",
        "            break\r\n",
        "        if len(q) >= 2:\r\n",
        "            certain = False\r\n",
        "            break\r\n",
        "        # 큐에서 원소 꺼내기\r\n",
        "        now = q.popleft()\r\n",
        "        result.append(now)\r\n",
        "        for j in range(1, n + 1):\r\n",
        "            if graph[now][j]:\r\n",
        "                indegree[j] -= 1\r\n",
        "                if indegree[j] == 0:\r\n",
        "                    q.append(j)\r\n",
        "\r\n",
        "    if cycle:\r\n",
        "        print(\"IMPOSSIBLE\")\r\n",
        "    elif not certain:\r\n",
        "        print(\"?\")\r\n",
        "    else:\r\n",
        "        for i in result:\r\n",
        "            print(i, end=' ')\r\n",
        "        print()"
      ],
      "execution_count": 6,
      "outputs": [
        {
          "output_type": "stream",
          "text": [
            "3\n",
            "5\n",
            "5 4 3 2 1\n",
            "2\n",
            "2 4\n",
            "3 4\n",
            "5 3 2 4 1 \n",
            "3\n",
            "2 3 1\n",
            "0\n",
            "2 3 1 \n",
            "4\n",
            "1 2 3 4\n",
            "3\n",
            "1 2\n",
            "3 4\n",
            "2 3\n",
            "IMPOSSIBLE\n"
          ],
          "name": "stdout"
        }
      ]
    }
  ]
}