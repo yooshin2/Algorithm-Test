{
  "nbformat": 4,
  "nbformat_minor": 0,
  "metadata": {
    "colab": {
      "name": "Sorting-Question2.ipynb",
      "provenance": [],
      "authorship_tag": "ABX9TyNR11EKUKlThrJrrHn9gCUq",
      "include_colab_link": true
    },
    "kernelspec": {
      "name": "python3",
      "display_name": "Python 3"
    }
  },
  "cells": [
    {
      "cell_type": "markdown",
      "metadata": {
        "id": "view-in-github",
        "colab_type": "text"
      },
      "source": [
        "<a href=\"https://colab.research.google.com/github/yooshin2/Algorithm-Test/blob/main/Sorting_Question2.ipynb\" target=\"_parent\"><img src=\"https://colab.research.google.com/assets/colab-badge.svg\" alt=\"Open In Colab\"/></a>"
      ]
    },
    {
      "cell_type": "code",
      "metadata": {
        "colab": {
          "base_uri": "https://localhost:8080/"
        },
        "id": "nPrLiyzJO2lR",
        "outputId": "33f8a31a-f596-4be5-a956-8369a90e52c4"
      },
      "source": [
        "import heapq\r\n",
        "\r\n",
        "n = int(input())\r\n",
        "\r\n",
        "heap = []\r\n",
        "for i in range(n):\r\n",
        "    data = int(input())\r\n",
        "    heapq.heappush(heap, data)\r\n",
        "\r\n",
        "result = 0\r\n",
        "\r\n",
        "while len(heap) != 1:\r\n",
        "    one = heapq.heappop(heap)\r\n",
        "    two = heapq.heappop(heap)\r\n",
        "    sum_value = one + two\r\n",
        "    result += sum_value\r\n",
        "    heapq.heappush(heap, sum_value)\r\n",
        "\r\n",
        "print(result)"
      ],
      "execution_count": 6,
      "outputs": [
        {
          "output_type": "stream",
          "text": [
            "3\n",
            "10\n",
            "40\n",
            "20\n",
            "100\n"
          ],
          "name": "stdout"
        }
      ]
    }
  ]
}