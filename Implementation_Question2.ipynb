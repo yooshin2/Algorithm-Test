{
  "nbformat": 4,
  "nbformat_minor": 0,
  "metadata": {
    "colab": {
      "name": "Implementation-Question2.ipynb",
      "provenance": [],
      "authorship_tag": "ABX9TyPgzm54KSRB+nxxuf5HvoFo",
      "include_colab_link": true
    },
    "kernelspec": {
      "name": "python3",
      "display_name": "Python 3"
    }
  },
  "cells": [
    {
      "cell_type": "markdown",
      "metadata": {
        "id": "view-in-github",
        "colab_type": "text"
      },
      "source": [
        "<a href=\"https://colab.research.google.com/github/yooshin2/Algorithm-Test/blob/main/Implementation_Question2.ipynb\" target=\"_parent\"><img src=\"https://colab.research.google.com/assets/colab-badge.svg\" alt=\"Open In Colab\"/></a>"
      ]
    },
    {
      "cell_type": "code",
      "metadata": {
        "colab": {
          "base_uri": "https://localhost:8080/"
        },
        "id": "QaA2CWVRNZ8h",
        "outputId": "ca4ca2bb-53ef-4861-98d3-075d2ae1bc49"
      },
      "source": [
        "def solution(s):\r\n",
        "    answer = len(s)\r\n",
        "    for step in range(1, len(s) // 2 + 1):\r\n",
        "        compressed = \"\"\r\n",
        "        prev = s[0:step]\r\n",
        "        count = 1\r\n",
        "        for j in range(step, len(s), step):\r\n",
        "            if prev == s[j:j + step]:\r\n",
        "                count += 1\r\n",
        "            else:\r\n",
        "                compressed += str(count) + prev if count >= 2 else prev\r\n",
        "                prev = s[j:j + step]\r\n",
        "                count = 1\r\n",
        "        compressed += str(count) + prev if count >= 2 else prev\r\n",
        "        answer = min(answer, len(compressed))\r\n",
        "    return answer\r\n",
        "\r\n",
        "solution(\"ababdcec\")"
      ],
      "execution_count": 35,
      "outputs": [
        {
          "output_type": "execute_result",
          "data": {
            "text/plain": [
              "7"
            ]
          },
          "metadata": {
            "tags": []
          },
          "execution_count": 35
        }
      ]
    }
  ]
}